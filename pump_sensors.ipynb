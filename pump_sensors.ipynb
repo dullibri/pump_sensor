{
 "cells": [
  {
   "cell_type": "code",
   "execution_count": 1,
   "metadata": {
    "slideshow": {
     "slide_type": "skip"
    }
   },
   "outputs": [],
   "source": [
    "import os\n",
    "import datetime\n",
    "import pandas as pd\n",
    "import numpy as np\n",
    "\n",
    "import matplotlib.pyplot as plt\n",
    "import seaborn as sns\n",
    "import plotly.express as px\n",
    "from sklearn.preprocessing import OneHotEncoder\n",
    "from sklearn import linear_model, tree\n",
    "from sklearn.model_selection import (\n",
    "    train_test_split,\n",
    "    cross_val_score,\n",
    "    cross_val_predict,\n",
    "    GridSearchCV,\n",
    "    RandomizedSearchCV,\n",
    "    #HalvingRandomSearchCV\n",
    ")\n",
    "#from sklearn.experimental import enable_halving_search_cv\n",
    "from sklearn.ensemble import RandomForestClassifier\n",
    "from sklearn.linear_model import LogisticRegression\n",
    "\n",
    "from sklearn.metrics import roc_curve, confusion_matrix, precision_recall_curve, plot_precision_recall_curve, roc_auc_score, ConfusionMatrixDisplay\n",
    "from sklearn.metrics import precision_score, recall_score, f1_score, accuracy_score\n",
    "\n",
    "import xgboost as xgb  # note for installation use py-xgboost in conda\n",
    "\n",
    "from sklearn.compose import ColumnTransformer\n",
    "from sklearn.pipeline import Pipeline\n",
    "from sklearn.impute import SimpleImputer\n",
    "from sklearn.preprocessing import StandardScaler, OneHotEncoder, MultiLabelBinarizer\n",
    "from sklearn.feature_extraction.text import CountVectorizer\n",
    "from sklearn.feature_selection import SelectFromModel\n",
    "from sklearn.utils import resample\n",
    "from imblearn.over_sampling import SMOTE, RandomOverSampler \n",
    "from imblearn.pipeline import make_pipeline\n",
    "sns.set_style(\"whitegrid\")"
   ]
  },
  {
   "cell_type": "code",
   "execution_count": 3,
   "metadata": {
    "slideshow": {
     "slide_type": "skip"
    }
   },
   "outputs": [],
   "source": [
    "# making code reproducable\n",
    "np.random.seed(42)"
   ]
  },
  {
   "cell_type": "code",
   "execution_count": 4,
   "metadata": {
    "slideshow": {
     "slide_type": "skip"
    }
   },
   "outputs": [],
   "source": [
    "# set path and get raw data\n",
    "cwd = os.getcwd()\n",
    "path_data = os.path.join(cwd,\"data\",\"pump_sensor.csv\")\n",
    "df = pd.read_csv(path_data,index_col=0)"
   ]
  },
  {
   "cell_type": "markdown",
   "metadata": {},
   "source": [
    "# Table of Contents\n",
    "1. The Task\n",
    "2. The Data\n",
    "3. Deviation-Indicator\n",
    "4. ML-Approach"
   ]
  },
  {
   "cell_type": "markdown",
   "metadata": {
    "slideshow": {
     "slide_type": "slide"
    }
   },
   "source": [
    "# The task\n",
    "\n",
    "## Predictive Maintenance\n",
    "- Using sensor data to predict the breakdowns of pumps.\n",
    "- Allows for maintenance **before** a pump goes down."
   ]
  },
  {
   "cell_type": "markdown",
   "metadata": {
    "slideshow": {
     "slide_type": "subslide"
    }
   },
   "source": [
    "## Benefits\n",
    "- Cost benefits as regular maintenance-cycles can be reduced.\n",
    "- No profits are lost due to outages\n",
    "- Pumps usage period can be extended\n",
    "- Happy customers stay and are willing to pay a higher premium over competitors."
   ]
  },
  {
   "cell_type": "code",
   "execution_count": 5,
   "metadata": {
    "slideshow": {
     "slide_type": "skip"
    }
   },
   "outputs": [],
   "source": [
    "status_freq = df.machine_status.value_counts()\n"
   ]
  },
  {
   "cell_type": "markdown",
   "metadata": {
    "slideshow": {
     "slide_type": "slide"
    }
   },
   "source": [
    "# The Data"
   ]
  },
  {
   "cell_type": "markdown",
   "metadata": {
    "slideshow": {
     "slide_type": "subslide"
    }
   },
   "source": [
    "## What data\n",
    "- Source: Kaggle competition\n",
    "- 50 sensor data (No 15 is out of service, varying units of measurement)\n",
    "- Machine status, \n",
    "    - normal (205.836), \n",
    "    - broken (7) and \n",
    "    - recovering (14.477)"
   ]
  },
  {
   "cell_type": "markdown",
   "metadata": {
    "slideshow": {
     "slide_type": "subslide"
    }
   },
   "source": [
    "## Some Descriptives\n",
    "\n",
    "- Time period: from 2018, April the first, midnight, to the end of August.\n",
    "- Frequency of recording: Minutes.\n",
    "- Number of observations: 220.320\n",
    "\n"
   ]
  },
  {
   "cell_type": "code",
   "execution_count": 6,
   "metadata": {
    "slideshow": {
     "slide_type": "skip"
    }
   },
   "outputs": [],
   "source": [
    "df.loc[:,\"timestamp\"] = pd.to_datetime(df.timestamp)\n",
    "df = df.set_index(\"timestamp\")"
   ]
  },
  {
   "cell_type": "code",
   "execution_count": 7,
   "metadata": {
    "slideshow": {
     "slide_type": "skip"
    }
   },
   "outputs": [
    {
     "data": {
      "text/plain": [
       "(220320, 53)"
      ]
     },
     "execution_count": 7,
     "metadata": {},
     "output_type": "execute_result"
    }
   ],
   "source": [
    "df.shape"
   ]
  },
  {
   "cell_type": "code",
   "execution_count": 8,
   "metadata": {
    "slideshow": {
     "slide_type": "skip"
    }
   },
   "outputs": [
    {
     "data": {
      "text/html": [
       "<div>\n",
       "<style scoped>\n",
       "    .dataframe tbody tr th:only-of-type {\n",
       "        vertical-align: middle;\n",
       "    }\n",
       "\n",
       "    .dataframe tbody tr th {\n",
       "        vertical-align: top;\n",
       "    }\n",
       "\n",
       "    .dataframe thead th {\n",
       "        text-align: right;\n",
       "    }\n",
       "</style>\n",
       "<table border=\"1\" class=\"dataframe\">\n",
       "  <thead>\n",
       "    <tr style=\"text-align: right;\">\n",
       "      <th></th>\n",
       "      <th>sensor_00</th>\n",
       "      <th>sensor_01</th>\n",
       "      <th>sensor_02</th>\n",
       "      <th>sensor_03</th>\n",
       "      <th>sensor_04</th>\n",
       "      <th>sensor_05</th>\n",
       "      <th>sensor_06</th>\n",
       "      <th>sensor_07</th>\n",
       "      <th>sensor_08</th>\n",
       "      <th>sensor_09</th>\n",
       "      <th>...</th>\n",
       "      <th>sensor_43</th>\n",
       "      <th>sensor_44</th>\n",
       "      <th>sensor_45</th>\n",
       "      <th>sensor_46</th>\n",
       "      <th>sensor_47</th>\n",
       "      <th>sensor_48</th>\n",
       "      <th>sensor_49</th>\n",
       "      <th>sensor_50</th>\n",
       "      <th>sensor_51</th>\n",
       "      <th>machine_status</th>\n",
       "    </tr>\n",
       "    <tr>\n",
       "      <th>timestamp</th>\n",
       "      <th></th>\n",
       "      <th></th>\n",
       "      <th></th>\n",
       "      <th></th>\n",
       "      <th></th>\n",
       "      <th></th>\n",
       "      <th></th>\n",
       "      <th></th>\n",
       "      <th></th>\n",
       "      <th></th>\n",
       "      <th></th>\n",
       "      <th></th>\n",
       "      <th></th>\n",
       "      <th></th>\n",
       "      <th></th>\n",
       "      <th></th>\n",
       "      <th></th>\n",
       "      <th></th>\n",
       "      <th></th>\n",
       "      <th></th>\n",
       "      <th></th>\n",
       "    </tr>\n",
       "  </thead>\n",
       "  <tbody>\n",
       "    <tr>\n",
       "      <th>2018-04-01 00:00:00</th>\n",
       "      <td>2.465394</td>\n",
       "      <td>47.09201</td>\n",
       "      <td>53.2118</td>\n",
       "      <td>46.310760</td>\n",
       "      <td>634.3750</td>\n",
       "      <td>76.45975</td>\n",
       "      <td>13.41146</td>\n",
       "      <td>16.13136</td>\n",
       "      <td>15.56713</td>\n",
       "      <td>15.05353</td>\n",
       "      <td>...</td>\n",
       "      <td>41.92708</td>\n",
       "      <td>39.641200</td>\n",
       "      <td>65.68287</td>\n",
       "      <td>50.92593</td>\n",
       "      <td>38.194440</td>\n",
       "      <td>157.9861</td>\n",
       "      <td>67.70834</td>\n",
       "      <td>243.0556</td>\n",
       "      <td>201.3889</td>\n",
       "      <td>NORMAL</td>\n",
       "    </tr>\n",
       "    <tr>\n",
       "      <th>2018-04-01 00:01:00</th>\n",
       "      <td>2.465394</td>\n",
       "      <td>47.09201</td>\n",
       "      <td>53.2118</td>\n",
       "      <td>46.310760</td>\n",
       "      <td>634.3750</td>\n",
       "      <td>76.45975</td>\n",
       "      <td>13.41146</td>\n",
       "      <td>16.13136</td>\n",
       "      <td>15.56713</td>\n",
       "      <td>15.05353</td>\n",
       "      <td>...</td>\n",
       "      <td>41.92708</td>\n",
       "      <td>39.641200</td>\n",
       "      <td>65.68287</td>\n",
       "      <td>50.92593</td>\n",
       "      <td>38.194440</td>\n",
       "      <td>157.9861</td>\n",
       "      <td>67.70834</td>\n",
       "      <td>243.0556</td>\n",
       "      <td>201.3889</td>\n",
       "      <td>NORMAL</td>\n",
       "    </tr>\n",
       "    <tr>\n",
       "      <th>2018-04-01 00:02:00</th>\n",
       "      <td>2.444734</td>\n",
       "      <td>47.35243</td>\n",
       "      <td>53.2118</td>\n",
       "      <td>46.397570</td>\n",
       "      <td>638.8889</td>\n",
       "      <td>73.54598</td>\n",
       "      <td>13.32465</td>\n",
       "      <td>16.03733</td>\n",
       "      <td>15.61777</td>\n",
       "      <td>15.01013</td>\n",
       "      <td>...</td>\n",
       "      <td>41.66666</td>\n",
       "      <td>39.351852</td>\n",
       "      <td>65.39352</td>\n",
       "      <td>51.21528</td>\n",
       "      <td>38.194443</td>\n",
       "      <td>155.9606</td>\n",
       "      <td>67.12963</td>\n",
       "      <td>241.3194</td>\n",
       "      <td>203.7037</td>\n",
       "      <td>NORMAL</td>\n",
       "    </tr>\n",
       "    <tr>\n",
       "      <th>2018-04-01 00:03:00</th>\n",
       "      <td>2.460474</td>\n",
       "      <td>47.09201</td>\n",
       "      <td>53.1684</td>\n",
       "      <td>46.397568</td>\n",
       "      <td>628.1250</td>\n",
       "      <td>76.98898</td>\n",
       "      <td>13.31742</td>\n",
       "      <td>16.24711</td>\n",
       "      <td>15.69734</td>\n",
       "      <td>15.08247</td>\n",
       "      <td>...</td>\n",
       "      <td>40.88541</td>\n",
       "      <td>39.062500</td>\n",
       "      <td>64.81481</td>\n",
       "      <td>51.21528</td>\n",
       "      <td>38.194440</td>\n",
       "      <td>155.9606</td>\n",
       "      <td>66.84028</td>\n",
       "      <td>240.4514</td>\n",
       "      <td>203.1250</td>\n",
       "      <td>NORMAL</td>\n",
       "    </tr>\n",
       "    <tr>\n",
       "      <th>2018-04-01 00:04:00</th>\n",
       "      <td>2.445718</td>\n",
       "      <td>47.13541</td>\n",
       "      <td>53.2118</td>\n",
       "      <td>46.397568</td>\n",
       "      <td>636.4583</td>\n",
       "      <td>76.58897</td>\n",
       "      <td>13.35359</td>\n",
       "      <td>16.21094</td>\n",
       "      <td>15.69734</td>\n",
       "      <td>15.08247</td>\n",
       "      <td>...</td>\n",
       "      <td>41.40625</td>\n",
       "      <td>38.773150</td>\n",
       "      <td>65.10416</td>\n",
       "      <td>51.79398</td>\n",
       "      <td>38.773150</td>\n",
       "      <td>158.2755</td>\n",
       "      <td>66.55093</td>\n",
       "      <td>242.1875</td>\n",
       "      <td>201.3889</td>\n",
       "      <td>NORMAL</td>\n",
       "    </tr>\n",
       "  </tbody>\n",
       "</table>\n",
       "<p>5 rows × 53 columns</p>\n",
       "</div>"
      ],
      "text/plain": [
       "                     sensor_00  sensor_01  sensor_02  sensor_03  sensor_04  \\\n",
       "timestamp                                                                    \n",
       "2018-04-01 00:00:00   2.465394   47.09201    53.2118  46.310760   634.3750   \n",
       "2018-04-01 00:01:00   2.465394   47.09201    53.2118  46.310760   634.3750   \n",
       "2018-04-01 00:02:00   2.444734   47.35243    53.2118  46.397570   638.8889   \n",
       "2018-04-01 00:03:00   2.460474   47.09201    53.1684  46.397568   628.1250   \n",
       "2018-04-01 00:04:00   2.445718   47.13541    53.2118  46.397568   636.4583   \n",
       "\n",
       "                     sensor_05  sensor_06  sensor_07  sensor_08  sensor_09  \\\n",
       "timestamp                                                                    \n",
       "2018-04-01 00:00:00   76.45975   13.41146   16.13136   15.56713   15.05353   \n",
       "2018-04-01 00:01:00   76.45975   13.41146   16.13136   15.56713   15.05353   \n",
       "2018-04-01 00:02:00   73.54598   13.32465   16.03733   15.61777   15.01013   \n",
       "2018-04-01 00:03:00   76.98898   13.31742   16.24711   15.69734   15.08247   \n",
       "2018-04-01 00:04:00   76.58897   13.35359   16.21094   15.69734   15.08247   \n",
       "\n",
       "                     ...  sensor_43  sensor_44  sensor_45  sensor_46  \\\n",
       "timestamp            ...                                               \n",
       "2018-04-01 00:00:00  ...   41.92708  39.641200   65.68287   50.92593   \n",
       "2018-04-01 00:01:00  ...   41.92708  39.641200   65.68287   50.92593   \n",
       "2018-04-01 00:02:00  ...   41.66666  39.351852   65.39352   51.21528   \n",
       "2018-04-01 00:03:00  ...   40.88541  39.062500   64.81481   51.21528   \n",
       "2018-04-01 00:04:00  ...   41.40625  38.773150   65.10416   51.79398   \n",
       "\n",
       "                     sensor_47  sensor_48  sensor_49  sensor_50  sensor_51  \\\n",
       "timestamp                                                                    \n",
       "2018-04-01 00:00:00  38.194440   157.9861   67.70834   243.0556   201.3889   \n",
       "2018-04-01 00:01:00  38.194440   157.9861   67.70834   243.0556   201.3889   \n",
       "2018-04-01 00:02:00  38.194443   155.9606   67.12963   241.3194   203.7037   \n",
       "2018-04-01 00:03:00  38.194440   155.9606   66.84028   240.4514   203.1250   \n",
       "2018-04-01 00:04:00  38.773150   158.2755   66.55093   242.1875   201.3889   \n",
       "\n",
       "                     machine_status  \n",
       "timestamp                            \n",
       "2018-04-01 00:00:00          NORMAL  \n",
       "2018-04-01 00:01:00          NORMAL  \n",
       "2018-04-01 00:02:00          NORMAL  \n",
       "2018-04-01 00:03:00          NORMAL  \n",
       "2018-04-01 00:04:00          NORMAL  \n",
       "\n",
       "[5 rows x 53 columns]"
      ]
     },
     "execution_count": 8,
     "metadata": {},
     "output_type": "execute_result"
    }
   ],
   "source": [
    "df.head()"
   ]
  },
  {
   "cell_type": "code",
   "execution_count": 9,
   "metadata": {
    "slideshow": {
     "slide_type": "skip"
    }
   },
   "outputs": [
    {
     "data": {
      "text/plain": [
       "NORMAL        205836\n",
       "RECOVERING     14477\n",
       "BROKEN             7\n",
       "Name: machine_status, dtype: int64"
      ]
     },
     "execution_count": 9,
     "metadata": {},
     "output_type": "execute_result"
    }
   ],
   "source": [
    "df.machine_status.value_counts()"
   ]
  },
  {
   "cell_type": "code",
   "execution_count": 10,
   "metadata": {
    "slideshow": {
     "slide_type": "skip"
    }
   },
   "outputs": [],
   "source": [
    "broken = df.machine_status == \"BROKEN\"\n",
    "recovery = df.machine_status == \"RECOVERING\"\n",
    "normal = df.machine_status == \"NORMAL\"\n"
   ]
  },
  {
   "cell_type": "markdown",
   "metadata": {
    "slideshow": {
     "slide_type": "skip"
    }
   },
   "source": [
    "When did the breakdowns happen?"
   ]
  },
  {
   "cell_type": "code",
   "execution_count": 11,
   "metadata": {
    "slideshow": {
     "slide_type": "skip"
    }
   },
   "outputs": [],
   "source": [
    "broken_tstamps = df.index[broken]\n",
    "broken_df = pd.DataFrame(broken_tstamps).rename(columns={\"timestamp\":\"Breakdowns\"})"
   ]
  },
  {
   "cell_type": "markdown",
   "metadata": {
    "slideshow": {
     "slide_type": "slide"
    }
   },
   "source": [
    "## When Did the Pumps Break?\n",
    "- Seasonality can not be considered due to sample\n",
    "- Mostly during nighttime\n"
   ]
  },
  {
   "cell_type": "markdown",
   "metadata": {
    "slideshow": {
     "slide_type": "subslide"
    },
    "variables": {
     "broken_df": "<div>\n<style scoped>\n    .dataframe tbody tr th:only-of-type {\n        vertical-align: middle;\n    }\n\n    .dataframe tbody tr th {\n        vertical-align: top;\n    }\n\n    .dataframe thead th {\n        text-align: right;\n    }\n</style>\n<table border=\"1\" class=\"dataframe\">\n  <thead>\n    <tr style=\"text-align: right;\">\n      <th></th>\n      <th>Breakdowns</th>\n    </tr>\n  </thead>\n  <tbody>\n    <tr>\n      <th>0</th>\n      <td>2018-04-12 21:55:00</td>\n    </tr>\n    <tr>\n      <th>1</th>\n      <td>2018-04-18 00:30:00</td>\n    </tr>\n    <tr>\n      <th>2</th>\n      <td>2018-05-19 03:18:00</td>\n    </tr>\n    <tr>\n      <th>3</th>\n      <td>2018-05-25 00:30:00</td>\n    </tr>\n    <tr>\n      <th>4</th>\n      <td>2018-06-28 22:00:00</td>\n    </tr>\n    <tr>\n      <th>5</th>\n      <td>2018-07-08 00:11:00</td>\n    </tr>\n    <tr>\n      <th>6</th>\n      <td>2018-07-25 14:00:00</td>\n    </tr>\n  </tbody>\n</table>\n</div>"
    }
   },
   "source": [
    "{{broken_df}}"
   ]
  },
  {
   "cell_type": "code",
   "execution_count": 13,
   "metadata": {
    "slideshow": {
     "slide_type": "skip"
    }
   },
   "outputs": [
    {
     "name": "stdout",
     "output_type": "stream",
     "text": [
      "sensor_15    1.000000\n",
      "sensor_50    0.349569\n",
      "sensor_51    0.069821\n",
      "sensor_00    0.046333\n",
      "sensor_07    0.024741\n",
      "sensor_08    0.023180\n",
      "sensor_06    0.021777\n",
      "sensor_09    0.020856\n",
      "sensor_01    0.001675\n",
      "sensor_30    0.001185\n",
      "dtype: float64\n"
     ]
    },
    {
     "data": {
      "image/png": "[encoded data removed]",
      "text/plain": [
       "<Figure size 432x288 with 1 Axes>"
      ]
     },
     "metadata": {},
     "output_type": "display_data"
    }
   ],
   "source": [
    "perc_na = df.isna().mean().sort_values(ascending=False)\n",
    "perc_na.plot()\n",
    "print(perc_na.iloc[:10])\n"
   ]
  },
  {
   "cell_type": "markdown",
   "metadata": {
    "slideshow": {
     "slide_type": "skip"
    }
   },
   "source": [
    "There are no observations for sensor_15, we drop it."
   ]
  },
  {
   "cell_type": "code",
   "execution_count": 14,
   "metadata": {
    "slideshow": {
     "slide_type": "skip"
    }
   },
   "outputs": [],
   "source": [
    "df = df.drop([\"sensor_15\"],axis=1)"
   ]
  },
  {
   "cell_type": "code",
   "execution_count": 15,
   "metadata": {
    "slideshow": {
     "slide_type": "skip"
    }
   },
   "outputs": [
    {
     "data": {
      "text/html": [
       "<div>\n",
       "<style scoped>\n",
       "    .dataframe tbody tr th:only-of-type {\n",
       "        vertical-align: middle;\n",
       "    }\n",
       "\n",
       "    .dataframe tbody tr th {\n",
       "        vertical-align: top;\n",
       "    }\n",
       "\n",
       "    .dataframe thead th {\n",
       "        text-align: right;\n",
       "    }\n",
       "</style>\n",
       "<table border=\"1\" class=\"dataframe\">\n",
       "  <thead>\n",
       "    <tr style=\"text-align: right;\">\n",
       "      <th></th>\n",
       "      <th>sensor_00</th>\n",
       "      <th>sensor_01</th>\n",
       "      <th>sensor_02</th>\n",
       "      <th>sensor_03</th>\n",
       "      <th>sensor_04</th>\n",
       "      <th>sensor_05</th>\n",
       "      <th>sensor_06</th>\n",
       "      <th>sensor_07</th>\n",
       "      <th>sensor_08</th>\n",
       "      <th>sensor_09</th>\n",
       "      <th>...</th>\n",
       "      <th>sensor_42</th>\n",
       "      <th>sensor_43</th>\n",
       "      <th>sensor_44</th>\n",
       "      <th>sensor_45</th>\n",
       "      <th>sensor_46</th>\n",
       "      <th>sensor_47</th>\n",
       "      <th>sensor_48</th>\n",
       "      <th>sensor_49</th>\n",
       "      <th>sensor_50</th>\n",
       "      <th>sensor_51</th>\n",
       "    </tr>\n",
       "  </thead>\n",
       "  <tbody>\n",
       "    <tr>\n",
       "      <th>count</th>\n",
       "      <td>210112.000000</td>\n",
       "      <td>219951.000000</td>\n",
       "      <td>220301.000000</td>\n",
       "      <td>220301.000000</td>\n",
       "      <td>220301.000000</td>\n",
       "      <td>220301.000000</td>\n",
       "      <td>215522.000000</td>\n",
       "      <td>214869.000000</td>\n",
       "      <td>215213.000000</td>\n",
       "      <td>215725.000000</td>\n",
       "      <td>...</td>\n",
       "      <td>220293.000000</td>\n",
       "      <td>220293.000000</td>\n",
       "      <td>220293.000000</td>\n",
       "      <td>220293.000000</td>\n",
       "      <td>220293.000000</td>\n",
       "      <td>220293.000000</td>\n",
       "      <td>220293.000000</td>\n",
       "      <td>220293.000000</td>\n",
       "      <td>143303.000000</td>\n",
       "      <td>204937.000000</td>\n",
       "    </tr>\n",
       "    <tr>\n",
       "      <th>mean</th>\n",
       "      <td>2.372221</td>\n",
       "      <td>47.591611</td>\n",
       "      <td>50.867392</td>\n",
       "      <td>43.752481</td>\n",
       "      <td>590.673936</td>\n",
       "      <td>73.396414</td>\n",
       "      <td>13.501537</td>\n",
       "      <td>15.843152</td>\n",
       "      <td>15.200721</td>\n",
       "      <td>14.799210</td>\n",
       "      <td>...</td>\n",
       "      <td>35.453455</td>\n",
       "      <td>43.879591</td>\n",
       "      <td>42.656877</td>\n",
       "      <td>43.094984</td>\n",
       "      <td>48.018585</td>\n",
       "      <td>44.340903</td>\n",
       "      <td>150.889044</td>\n",
       "      <td>57.119968</td>\n",
       "      <td>183.049260</td>\n",
       "      <td>202.699667</td>\n",
       "    </tr>\n",
       "    <tr>\n",
       "      <th>std</th>\n",
       "      <td>0.412227</td>\n",
       "      <td>3.296666</td>\n",
       "      <td>3.666820</td>\n",
       "      <td>2.418887</td>\n",
       "      <td>144.023912</td>\n",
       "      <td>17.298247</td>\n",
       "      <td>2.163736</td>\n",
       "      <td>2.201155</td>\n",
       "      <td>2.037390</td>\n",
       "      <td>2.091963</td>\n",
       "      <td>...</td>\n",
       "      <td>10.259521</td>\n",
       "      <td>11.044404</td>\n",
       "      <td>11.576355</td>\n",
       "      <td>12.837520</td>\n",
       "      <td>15.641284</td>\n",
       "      <td>10.442437</td>\n",
       "      <td>82.244957</td>\n",
       "      <td>19.143598</td>\n",
       "      <td>65.258650</td>\n",
       "      <td>109.588607</td>\n",
       "    </tr>\n",
       "    <tr>\n",
       "      <th>min</th>\n",
       "      <td>0.000000</td>\n",
       "      <td>0.000000</td>\n",
       "      <td>33.159720</td>\n",
       "      <td>31.640620</td>\n",
       "      <td>2.798032</td>\n",
       "      <td>0.000000</td>\n",
       "      <td>0.014468</td>\n",
       "      <td>0.000000</td>\n",
       "      <td>0.028935</td>\n",
       "      <td>0.000000</td>\n",
       "      <td>...</td>\n",
       "      <td>22.135416</td>\n",
       "      <td>24.479166</td>\n",
       "      <td>25.752316</td>\n",
       "      <td>26.331018</td>\n",
       "      <td>26.331018</td>\n",
       "      <td>27.199070</td>\n",
       "      <td>26.331018</td>\n",
       "      <td>26.620370</td>\n",
       "      <td>27.488426</td>\n",
       "      <td>27.777779</td>\n",
       "    </tr>\n",
       "    <tr>\n",
       "      <th>25%</th>\n",
       "      <td>2.438831</td>\n",
       "      <td>46.310760</td>\n",
       "      <td>50.390620</td>\n",
       "      <td>42.838539</td>\n",
       "      <td>626.620400</td>\n",
       "      <td>69.976260</td>\n",
       "      <td>13.346350</td>\n",
       "      <td>15.907120</td>\n",
       "      <td>15.183740</td>\n",
       "      <td>15.053530</td>\n",
       "      <td>...</td>\n",
       "      <td>32.812500</td>\n",
       "      <td>39.583330</td>\n",
       "      <td>36.747684</td>\n",
       "      <td>36.747684</td>\n",
       "      <td>40.509258</td>\n",
       "      <td>39.062500</td>\n",
       "      <td>83.912030</td>\n",
       "      <td>47.743060</td>\n",
       "      <td>167.534700</td>\n",
       "      <td>179.108800</td>\n",
       "    </tr>\n",
       "    <tr>\n",
       "      <th>50%</th>\n",
       "      <td>2.456539</td>\n",
       "      <td>48.133678</td>\n",
       "      <td>51.649300</td>\n",
       "      <td>44.227428</td>\n",
       "      <td>632.638916</td>\n",
       "      <td>75.576790</td>\n",
       "      <td>13.642940</td>\n",
       "      <td>16.167530</td>\n",
       "      <td>15.494790</td>\n",
       "      <td>15.082470</td>\n",
       "      <td>...</td>\n",
       "      <td>35.156250</td>\n",
       "      <td>42.968750</td>\n",
       "      <td>40.509260</td>\n",
       "      <td>40.219910</td>\n",
       "      <td>44.849540</td>\n",
       "      <td>42.534720</td>\n",
       "      <td>138.020800</td>\n",
       "      <td>52.662040</td>\n",
       "      <td>193.865700</td>\n",
       "      <td>197.338000</td>\n",
       "    </tr>\n",
       "    <tr>\n",
       "      <th>75%</th>\n",
       "      <td>2.499826</td>\n",
       "      <td>49.479160</td>\n",
       "      <td>52.777770</td>\n",
       "      <td>45.312500</td>\n",
       "      <td>637.615723</td>\n",
       "      <td>80.912150</td>\n",
       "      <td>14.539930</td>\n",
       "      <td>16.427950</td>\n",
       "      <td>15.697340</td>\n",
       "      <td>15.118630</td>\n",
       "      <td>...</td>\n",
       "      <td>36.979164</td>\n",
       "      <td>46.614580</td>\n",
       "      <td>45.138890</td>\n",
       "      <td>44.849540</td>\n",
       "      <td>51.215280</td>\n",
       "      <td>46.585650</td>\n",
       "      <td>208.333300</td>\n",
       "      <td>60.763890</td>\n",
       "      <td>219.907400</td>\n",
       "      <td>216.724500</td>\n",
       "    </tr>\n",
       "    <tr>\n",
       "      <th>max</th>\n",
       "      <td>2.549016</td>\n",
       "      <td>56.727430</td>\n",
       "      <td>56.032990</td>\n",
       "      <td>48.220490</td>\n",
       "      <td>800.000000</td>\n",
       "      <td>99.999880</td>\n",
       "      <td>22.251160</td>\n",
       "      <td>23.596640</td>\n",
       "      <td>24.348960</td>\n",
       "      <td>25.000000</td>\n",
       "      <td>...</td>\n",
       "      <td>374.218800</td>\n",
       "      <td>408.593700</td>\n",
       "      <td>1000.000000</td>\n",
       "      <td>320.312500</td>\n",
       "      <td>370.370400</td>\n",
       "      <td>303.530100</td>\n",
       "      <td>561.632000</td>\n",
       "      <td>464.409700</td>\n",
       "      <td>1000.000000</td>\n",
       "      <td>1000.000000</td>\n",
       "    </tr>\n",
       "  </tbody>\n",
       "</table>\n",
       "<p>8 rows × 51 columns</p>\n",
       "</div>"
      ],
      "text/plain": [
       "           sensor_00      sensor_01      sensor_02      sensor_03  \\\n",
       "count  210112.000000  219951.000000  220301.000000  220301.000000   \n",
       "mean        2.372221      47.591611      50.867392      43.752481   \n",
       "std         0.412227       3.296666       3.666820       2.418887   \n",
       "min         0.000000       0.000000      33.159720      31.640620   \n",
       "25%         2.438831      46.310760      50.390620      42.838539   \n",
       "50%         2.456539      48.133678      51.649300      44.227428   \n",
       "75%         2.499826      49.479160      52.777770      45.312500   \n",
       "max         2.549016      56.727430      56.032990      48.220490   \n",
       "\n",
       "           sensor_04      sensor_05      sensor_06      sensor_07  \\\n",
       "count  220301.000000  220301.000000  215522.000000  214869.000000   \n",
       "mean      590.673936      73.396414      13.501537      15.843152   \n",
       "std       144.023912      17.298247       2.163736       2.201155   \n",
       "min         2.798032       0.000000       0.014468       0.000000   \n",
       "25%       626.620400      69.976260      13.346350      15.907120   \n",
       "50%       632.638916      75.576790      13.642940      16.167530   \n",
       "75%       637.615723      80.912150      14.539930      16.427950   \n",
       "max       800.000000      99.999880      22.251160      23.596640   \n",
       "\n",
       "           sensor_08      sensor_09  ...      sensor_42      sensor_43  \\\n",
       "count  215213.000000  215725.000000  ...  220293.000000  220293.000000   \n",
       "mean       15.200721      14.799210  ...      35.453455      43.879591   \n",
       "std         2.037390       2.091963  ...      10.259521      11.044404   \n",
       "min         0.028935       0.000000  ...      22.135416      24.479166   \n",
       "25%        15.183740      15.053530  ...      32.812500      39.583330   \n",
       "50%        15.494790      15.082470  ...      35.156250      42.968750   \n",
       "75%        15.697340      15.118630  ...      36.979164      46.614580   \n",
       "max        24.348960      25.000000  ...     374.218800     408.593700   \n",
       "\n",
       "           sensor_44      sensor_45      sensor_46      sensor_47  \\\n",
       "count  220293.000000  220293.000000  220293.000000  220293.000000   \n",
       "mean       42.656877      43.094984      48.018585      44.340903   \n",
       "std        11.576355      12.837520      15.641284      10.442437   \n",
       "min        25.752316      26.331018      26.331018      27.199070   \n",
       "25%        36.747684      36.747684      40.509258      39.062500   \n",
       "50%        40.509260      40.219910      44.849540      42.534720   \n",
       "75%        45.138890      44.849540      51.215280      46.585650   \n",
       "max      1000.000000     320.312500     370.370400     303.530100   \n",
       "\n",
       "           sensor_48      sensor_49      sensor_50      sensor_51  \n",
       "count  220293.000000  220293.000000  143303.000000  204937.000000  \n",
       "mean      150.889044      57.119968     183.049260     202.699667  \n",
       "std        82.244957      19.143598      65.258650     109.588607  \n",
       "min        26.331018      26.620370      27.488426      27.777779  \n",
       "25%        83.912030      47.743060     167.534700     179.108800  \n",
       "50%       138.020800      52.662040     193.865700     197.338000  \n",
       "75%       208.333300      60.763890     219.907400     216.724500  \n",
       "max       561.632000     464.409700    1000.000000    1000.000000  \n",
       "\n",
       "[8 rows x 51 columns]"
      ]
     },
     "execution_count": 15,
     "metadata": {},
     "output_type": "execute_result"
    }
   ],
   "source": [
    "df.describe()"
   ]
  },
  {
   "cell_type": "markdown",
   "metadata": {
    "slideshow": {
     "slide_type": "skip"
    }
   },
   "source": [
    "- There are different units of measurement.\n"
   ]
  },
  {
   "cell_type": "code",
   "execution_count": 16,
   "metadata": {
    "slideshow": {
     "slide_type": "skip"
    }
   },
   "outputs": [],
   "source": [
    "sensor_cols = [col for col in df.columns if col.startswith(\"sensor\")]"
   ]
  },
  {
   "cell_type": "code",
   "execution_count": 17,
   "metadata": {
    "slideshow": {
     "slide_type": "skip"
    }
   },
   "outputs": [],
   "source": [
    "scaler = StandardScaler()\n",
    "df.loc[:,sensor_cols] = scaler.fit_transform(df.loc[:,sensor_cols])"
   ]
  },
  {
   "cell_type": "code",
   "execution_count": 18,
   "metadata": {
    "slideshow": {
     "slide_type": "skip"
    }
   },
   "outputs": [
    {
     "data": {
      "text/html": [
       "<div>\n",
       "<style scoped>\n",
       "    .dataframe tbody tr th:only-of-type {\n",
       "        vertical-align: middle;\n",
       "    }\n",
       "\n",
       "    .dataframe tbody tr th {\n",
       "        vertical-align: top;\n",
       "    }\n",
       "\n",
       "    .dataframe thead th {\n",
       "        text-align: right;\n",
       "    }\n",
       "</style>\n",
       "<table border=\"1\" class=\"dataframe\">\n",
       "  <thead>\n",
       "    <tr style=\"text-align: right;\">\n",
       "      <th></th>\n",
       "      <th>sensor_00</th>\n",
       "      <th>sensor_01</th>\n",
       "      <th>sensor_02</th>\n",
       "      <th>sensor_03</th>\n",
       "      <th>sensor_04</th>\n",
       "      <th>sensor_05</th>\n",
       "      <th>sensor_06</th>\n",
       "      <th>sensor_07</th>\n",
       "      <th>sensor_08</th>\n",
       "      <th>sensor_09</th>\n",
       "      <th>...</th>\n",
       "      <th>sensor_42</th>\n",
       "      <th>sensor_43</th>\n",
       "      <th>sensor_44</th>\n",
       "      <th>sensor_45</th>\n",
       "      <th>sensor_46</th>\n",
       "      <th>sensor_47</th>\n",
       "      <th>sensor_48</th>\n",
       "      <th>sensor_49</th>\n",
       "      <th>sensor_50</th>\n",
       "      <th>sensor_51</th>\n",
       "    </tr>\n",
       "    <tr>\n",
       "      <th>timestamp</th>\n",
       "      <th></th>\n",
       "      <th></th>\n",
       "      <th></th>\n",
       "      <th></th>\n",
       "      <th></th>\n",
       "      <th></th>\n",
       "      <th></th>\n",
       "      <th></th>\n",
       "      <th></th>\n",
       "      <th></th>\n",
       "      <th></th>\n",
       "      <th></th>\n",
       "      <th></th>\n",
       "      <th></th>\n",
       "      <th></th>\n",
       "      <th></th>\n",
       "      <th></th>\n",
       "      <th></th>\n",
       "      <th></th>\n",
       "      <th></th>\n",
       "      <th></th>\n",
       "    </tr>\n",
       "  </thead>\n",
       "  <tbody>\n",
       "    <tr>\n",
       "      <th>2018-04-01 00:00:00</th>\n",
       "      <td>0.226024</td>\n",
       "      <td>-0.151548</td>\n",
       "      <td>0.639359</td>\n",
       "      <td>1.057629</td>\n",
       "      <td>0.303430</td>\n",
       "      <td>0.177090</td>\n",
       "      <td>-0.041631</td>\n",
       "      <td>0.130935</td>\n",
       "      <td>0.179843</td>\n",
       "      <td>0.121570</td>\n",
       "      <td>...</td>\n",
       "      <td>-0.358948</td>\n",
       "      <td>-0.176788</td>\n",
       "      <td>-0.260504</td>\n",
       "      <td>1.759525</td>\n",
       "      <td>0.185877</td>\n",
       "      <td>-0.588606</td>\n",
       "      <td>0.086292</td>\n",
       "      <td>0.553104</td>\n",
       "      <td>0.919519</td>\n",
       "      <td>-0.011961</td>\n",
       "    </tr>\n",
       "    <tr>\n",
       "      <th>2018-04-01 00:01:00</th>\n",
       "      <td>0.226024</td>\n",
       "      <td>-0.151548</td>\n",
       "      <td>0.639359</td>\n",
       "      <td>1.057629</td>\n",
       "      <td>0.303430</td>\n",
       "      <td>0.177090</td>\n",
       "      <td>-0.041631</td>\n",
       "      <td>0.130935</td>\n",
       "      <td>0.179843</td>\n",
       "      <td>0.121570</td>\n",
       "      <td>...</td>\n",
       "      <td>-0.358948</td>\n",
       "      <td>-0.176788</td>\n",
       "      <td>-0.260504</td>\n",
       "      <td>1.759525</td>\n",
       "      <td>0.185877</td>\n",
       "      <td>-0.588606</td>\n",
       "      <td>0.086292</td>\n",
       "      <td>0.553104</td>\n",
       "      <td>0.919519</td>\n",
       "      <td>-0.011961</td>\n",
       "    </tr>\n",
       "    <tr>\n",
       "      <th>2018-04-01 00:02:00</th>\n",
       "      <td>0.175906</td>\n",
       "      <td>-0.072552</td>\n",
       "      <td>0.639359</td>\n",
       "      <td>1.093518</td>\n",
       "      <td>0.334771</td>\n",
       "      <td>0.008646</td>\n",
       "      <td>-0.081751</td>\n",
       "      <td>0.088217</td>\n",
       "      <td>0.204698</td>\n",
       "      <td>0.100824</td>\n",
       "      <td>...</td>\n",
       "      <td>-0.358948</td>\n",
       "      <td>-0.200367</td>\n",
       "      <td>-0.285498</td>\n",
       "      <td>1.736986</td>\n",
       "      <td>0.204376</td>\n",
       "      <td>-0.588605</td>\n",
       "      <td>0.061664</td>\n",
       "      <td>0.522874</td>\n",
       "      <td>0.892914</td>\n",
       "      <td>0.009162</td>\n",
       "    </tr>\n",
       "    <tr>\n",
       "      <th>2018-04-01 00:03:00</th>\n",
       "      <td>0.214089</td>\n",
       "      <td>-0.151548</td>\n",
       "      <td>0.627523</td>\n",
       "      <td>1.093517</td>\n",
       "      <td>0.260034</td>\n",
       "      <td>0.207684</td>\n",
       "      <td>-0.085093</td>\n",
       "      <td>0.183521</td>\n",
       "      <td>0.243753</td>\n",
       "      <td>0.135404</td>\n",
       "      <td>...</td>\n",
       "      <td>-0.384330</td>\n",
       "      <td>-0.271105</td>\n",
       "      <td>-0.310494</td>\n",
       "      <td>1.691906</td>\n",
       "      <td>0.204376</td>\n",
       "      <td>-0.588606</td>\n",
       "      <td>0.061664</td>\n",
       "      <td>0.507759</td>\n",
       "      <td>0.879613</td>\n",
       "      <td>0.003881</td>\n",
       "    </tr>\n",
       "    <tr>\n",
       "      <th>2018-04-01 00:04:00</th>\n",
       "      <td>0.178293</td>\n",
       "      <td>-0.138383</td>\n",
       "      <td>0.639359</td>\n",
       "      <td>1.093517</td>\n",
       "      <td>0.317895</td>\n",
       "      <td>0.184560</td>\n",
       "      <td>-0.068376</td>\n",
       "      <td>0.167089</td>\n",
       "      <td>0.243753</td>\n",
       "      <td>0.135404</td>\n",
       "      <td>...</td>\n",
       "      <td>-0.384330</td>\n",
       "      <td>-0.223946</td>\n",
       "      <td>-0.335489</td>\n",
       "      <td>1.714445</td>\n",
       "      <td>0.241374</td>\n",
       "      <td>-0.533186</td>\n",
       "      <td>0.089811</td>\n",
       "      <td>0.492644</td>\n",
       "      <td>0.906216</td>\n",
       "      <td>-0.011961</td>\n",
       "    </tr>\n",
       "    <tr>\n",
       "      <th>...</th>\n",
       "      <td>...</td>\n",
       "      <td>...</td>\n",
       "      <td>...</td>\n",
       "      <td>...</td>\n",
       "      <td>...</td>\n",
       "      <td>...</td>\n",
       "      <td>...</td>\n",
       "      <td>...</td>\n",
       "      <td>...</td>\n",
       "      <td>...</td>\n",
       "      <td>...</td>\n",
       "      <td>...</td>\n",
       "      <td>...</td>\n",
       "      <td>...</td>\n",
       "      <td>...</td>\n",
       "      <td>...</td>\n",
       "      <td>...</td>\n",
       "      <td>...</td>\n",
       "      <td>...</td>\n",
       "      <td>...</td>\n",
       "      <td>...</td>\n",
       "    </tr>\n",
       "    <tr>\n",
       "      <th>2018-08-31 23:55:00</th>\n",
       "      <td>0.085218</td>\n",
       "      <td>0.032772</td>\n",
       "      <td>-0.094513</td>\n",
       "      <td>-0.252232</td>\n",
       "      <td>0.305841</td>\n",
       "      <td>-0.509039</td>\n",
       "      <td>0.747363</td>\n",
       "      <td>0.367557</td>\n",
       "      <td>0.222446</td>\n",
       "      <td>0.173441</td>\n",
       "      <td>...</td>\n",
       "      <td>-0.511246</td>\n",
       "      <td>-0.506895</td>\n",
       "      <td>2.214014</td>\n",
       "      <td>0.722703</td>\n",
       "      <td>0.019383</td>\n",
       "      <td>-0.311513</td>\n",
       "      <td>0.747710</td>\n",
       "      <td>5.042211</td>\n",
       "      <td>NaN</td>\n",
       "      <td>0.259995</td>\n",
       "    </tr>\n",
       "    <tr>\n",
       "      <th>2018-08-31 23:56:00</th>\n",
       "      <td>0.068511</td>\n",
       "      <td>0.032772</td>\n",
       "      <td>-0.082675</td>\n",
       "      <td>-0.252232</td>\n",
       "      <td>0.279321</td>\n",
       "      <td>-0.437200</td>\n",
       "      <td>0.764079</td>\n",
       "      <td>0.390563</td>\n",
       "      <td>0.222446</td>\n",
       "      <td>0.152690</td>\n",
       "      <td>...</td>\n",
       "      <td>-0.536628</td>\n",
       "      <td>-0.506895</td>\n",
       "      <td>2.089039</td>\n",
       "      <td>0.587466</td>\n",
       "      <td>0.000884</td>\n",
       "      <td>-0.339222</td>\n",
       "      <td>0.765300</td>\n",
       "      <td>5.178246</td>\n",
       "      <td>NaN</td>\n",
       "      <td>0.259995</td>\n",
       "    </tr>\n",
       "    <tr>\n",
       "      <th>2018-08-31 23:57:00</th>\n",
       "      <td>0.058966</td>\n",
       "      <td>0.032772</td>\n",
       "      <td>-0.094513</td>\n",
       "      <td>-0.252232</td>\n",
       "      <td>0.244765</td>\n",
       "      <td>-0.352751</td>\n",
       "      <td>0.733993</td>\n",
       "      <td>0.390563</td>\n",
       "      <td>0.243753</td>\n",
       "      <td>0.152690</td>\n",
       "      <td>...</td>\n",
       "      <td>-0.511246</td>\n",
       "      <td>-0.436158</td>\n",
       "      <td>1.964063</td>\n",
       "      <td>0.452228</td>\n",
       "      <td>0.000884</td>\n",
       "      <td>-0.339222</td>\n",
       "      <td>0.807518</td>\n",
       "      <td>5.132899</td>\n",
       "      <td>NaN</td>\n",
       "      <td>0.267917</td>\n",
       "    </tr>\n",
       "    <tr>\n",
       "      <th>2018-08-31 23:58:00</th>\n",
       "      <td>0.082831</td>\n",
       "      <td>0.032772</td>\n",
       "      <td>-0.094513</td>\n",
       "      <td>-0.252232</td>\n",
       "      <td>0.312269</td>\n",
       "      <td>-0.480088</td>\n",
       "      <td>0.747363</td>\n",
       "      <td>0.328119</td>\n",
       "      <td>0.265055</td>\n",
       "      <td>0.152690</td>\n",
       "      <td>...</td>\n",
       "      <td>-0.511246</td>\n",
       "      <td>-0.294683</td>\n",
       "      <td>1.864083</td>\n",
       "      <td>0.362070</td>\n",
       "      <td>0.019383</td>\n",
       "      <td>-0.366931</td>\n",
       "      <td>0.870846</td>\n",
       "      <td>5.057328</td>\n",
       "      <td>NaN</td>\n",
       "      <td>0.286398</td>\n",
       "    </tr>\n",
       "    <tr>\n",
       "      <th>2018-08-31 23:59:00</th>\n",
       "      <td>0.058966</td>\n",
       "      <td>0.032772</td>\n",
       "      <td>-0.094513</td>\n",
       "      <td>-0.252232</td>\n",
       "      <td>0.341200</td>\n",
       "      <td>-0.459011</td>\n",
       "      <td>0.747363</td>\n",
       "      <td>0.367557</td>\n",
       "      <td>0.222446</td>\n",
       "      <td>0.100824</td>\n",
       "      <td>...</td>\n",
       "      <td>-0.511246</td>\n",
       "      <td>-0.223946</td>\n",
       "      <td>1.739107</td>\n",
       "      <td>0.249372</td>\n",
       "      <td>0.056381</td>\n",
       "      <td>-0.394640</td>\n",
       "      <td>0.930656</td>\n",
       "      <td>4.875951</td>\n",
       "      <td>NaN</td>\n",
       "      <td>0.286398</td>\n",
       "    </tr>\n",
       "  </tbody>\n",
       "</table>\n",
       "<p>220320 rows × 51 columns</p>\n",
       "</div>"
      ],
      "text/plain": [
       "                     sensor_00  sensor_01  sensor_02  sensor_03  sensor_04  \\\n",
       "timestamp                                                                    \n",
       "2018-04-01 00:00:00   0.226024  -0.151548   0.639359   1.057629   0.303430   \n",
       "2018-04-01 00:01:00   0.226024  -0.151548   0.639359   1.057629   0.303430   \n",
       "2018-04-01 00:02:00   0.175906  -0.072552   0.639359   1.093518   0.334771   \n",
       "2018-04-01 00:03:00   0.214089  -0.151548   0.627523   1.093517   0.260034   \n",
       "2018-04-01 00:04:00   0.178293  -0.138383   0.639359   1.093517   0.317895   \n",
       "...                        ...        ...        ...        ...        ...   \n",
       "2018-08-31 23:55:00   0.085218   0.032772  -0.094513  -0.252232   0.305841   \n",
       "2018-08-31 23:56:00   0.068511   0.032772  -0.082675  -0.252232   0.279321   \n",
       "2018-08-31 23:57:00   0.058966   0.032772  -0.094513  -0.252232   0.244765   \n",
       "2018-08-31 23:58:00   0.082831   0.032772  -0.094513  -0.252232   0.312269   \n",
       "2018-08-31 23:59:00   0.058966   0.032772  -0.094513  -0.252232   0.341200   \n",
       "\n",
       "                     sensor_05  sensor_06  sensor_07  sensor_08  sensor_09  \\\n",
       "timestamp                                                                    \n",
       "2018-04-01 00:00:00   0.177090  -0.041631   0.130935   0.179843   0.121570   \n",
       "2018-04-01 00:01:00   0.177090  -0.041631   0.130935   0.179843   0.121570   \n",
       "2018-04-01 00:02:00   0.008646  -0.081751   0.088217   0.204698   0.100824   \n",
       "2018-04-01 00:03:00   0.207684  -0.085093   0.183521   0.243753   0.135404   \n",
       "2018-04-01 00:04:00   0.184560  -0.068376   0.167089   0.243753   0.135404   \n",
       "...                        ...        ...        ...        ...        ...   \n",
       "2018-08-31 23:55:00  -0.509039   0.747363   0.367557   0.222446   0.173441   \n",
       "2018-08-31 23:56:00  -0.437200   0.764079   0.390563   0.222446   0.152690   \n",
       "2018-08-31 23:57:00  -0.352751   0.733993   0.390563   0.243753   0.152690   \n",
       "2018-08-31 23:58:00  -0.480088   0.747363   0.328119   0.265055   0.152690   \n",
       "2018-08-31 23:59:00  -0.459011   0.747363   0.367557   0.222446   0.100824   \n",
       "\n",
       "                     ...  sensor_42  sensor_43  sensor_44  sensor_45  \\\n",
       "timestamp            ...                                               \n",
       "2018-04-01 00:00:00  ...  -0.358948  -0.176788  -0.260504   1.759525   \n",
       "2018-04-01 00:01:00  ...  -0.358948  -0.176788  -0.260504   1.759525   \n",
       "2018-04-01 00:02:00  ...  -0.358948  -0.200367  -0.285498   1.736986   \n",
       "2018-04-01 00:03:00  ...  -0.384330  -0.271105  -0.310494   1.691906   \n",
       "2018-04-01 00:04:00  ...  -0.384330  -0.223946  -0.335489   1.714445   \n",
       "...                  ...        ...        ...        ...        ...   \n",
       "2018-08-31 23:55:00  ...  -0.511246  -0.506895   2.214014   0.722703   \n",
       "2018-08-31 23:56:00  ...  -0.536628  -0.506895   2.089039   0.587466   \n",
       "2018-08-31 23:57:00  ...  -0.511246  -0.436158   1.964063   0.452228   \n",
       "2018-08-31 23:58:00  ...  -0.511246  -0.294683   1.864083   0.362070   \n",
       "2018-08-31 23:59:00  ...  -0.511246  -0.223946   1.739107   0.249372   \n",
       "\n",
       "                     sensor_46  sensor_47  sensor_48  sensor_49  sensor_50  \\\n",
       "timestamp                                                                    \n",
       "2018-04-01 00:00:00   0.185877  -0.588606   0.086292   0.553104   0.919519   \n",
       "2018-04-01 00:01:00   0.185877  -0.588606   0.086292   0.553104   0.919519   \n",
       "2018-04-01 00:02:00   0.204376  -0.588605   0.061664   0.522874   0.892914   \n",
       "2018-04-01 00:03:00   0.204376  -0.588606   0.061664   0.507759   0.879613   \n",
       "2018-04-01 00:04:00   0.241374  -0.533186   0.089811   0.492644   0.906216   \n",
       "...                        ...        ...        ...        ...        ...   \n",
       "2018-08-31 23:55:00   0.019383  -0.311513   0.747710   5.042211        NaN   \n",
       "2018-08-31 23:56:00   0.000884  -0.339222   0.765300   5.178246        NaN   \n",
       "2018-08-31 23:57:00   0.000884  -0.339222   0.807518   5.132899        NaN   \n",
       "2018-08-31 23:58:00   0.019383  -0.366931   0.870846   5.057328        NaN   \n",
       "2018-08-31 23:59:00   0.056381  -0.394640   0.930656   4.875951        NaN   \n",
       "\n",
       "                     sensor_51  \n",
       "timestamp                       \n",
       "2018-04-01 00:00:00  -0.011961  \n",
       "2018-04-01 00:01:00  -0.011961  \n",
       "2018-04-01 00:02:00   0.009162  \n",
       "2018-04-01 00:03:00   0.003881  \n",
       "2018-04-01 00:04:00  -0.011961  \n",
       "...                        ...  \n",
       "2018-08-31 23:55:00   0.259995  \n",
       "2018-08-31 23:56:00   0.259995  \n",
       "2018-08-31 23:57:00   0.267917  \n",
       "2018-08-31 23:58:00   0.286398  \n",
       "2018-08-31 23:59:00   0.286398  \n",
       "\n",
       "[220320 rows x 51 columns]"
      ]
     },
     "execution_count": 18,
     "metadata": {},
     "output_type": "execute_result"
    }
   ],
   "source": [
    "df.loc[:,sensor_cols]"
   ]
  },
  {
   "cell_type": "code",
   "execution_count": 19,
   "metadata": {
    "slideshow": {
     "slide_type": "skip"
    }
   },
   "outputs": [],
   "source": [
    "def perc_median_shifts(df):\n",
    "    \"\"\" returns percentage median changes over normal median changes when a \n",
    "    breakdown takes place\n",
    "    \n",
    "    \"\"\"\n",
    "    df_broken = df[df.machine_status==\"BROKEN\"]\n",
    "    df_normal = df[df.machine_status==\"NORMAL\"]\n",
    "    result = (df_broken.median(axis=0)-df_normal.median(axis=0))/df_normal.median(axis=0)\n",
    "    result = result.abs().sort_values(ascending=False)\n",
    "    return result"
   ]
  },
  {
   "cell_type": "code",
   "execution_count": 20,
   "metadata": {
    "slideshow": {
     "slide_type": "skip"
    }
   },
   "outputs": [],
   "source": [
    "df_perc_shift = perc_median_shifts(df)"
   ]
  },
  {
   "cell_type": "markdown",
   "metadata": {
    "slideshow": {
     "slide_type": "slide"
    }
   },
   "source": [
    "## Some Interesting Sensors"
   ]
  },
  {
   "cell_type": "markdown",
   "metadata": {
    "slideshow": {
     "slide_type": "subslide"
    }
   },
   "source": [
    "### Percentage of Median: Broken vs. Normal"
   ]
  },
  {
   "cell_type": "markdown",
   "metadata": {
    "slideshow": {
     "slide_type": "subslide"
    },
    "variables": {
     "df_perc_shift.to_frame().head(5)": "<div>\n<style scoped>\n    .dataframe tbody tr th:only-of-type {\n        vertical-align: middle;\n    }\n\n    .dataframe tbody tr th {\n        vertical-align: top;\n    }\n\n    .dataframe thead th {\n        text-align: right;\n    }\n</style>\n<table border=\"1\" class=\"dataframe\">\n  <thead>\n    <tr style=\"text-align: right;\">\n      <th></th>\n      <th>0</th>\n    </tr>\n  </thead>\n  <tbody>\n    <tr>\n      <th>sensor_00</th>\n      <td>16.159705</td>\n    </tr>\n    <tr>\n      <th>sensor_29</th>\n      <td>15.159734</td>\n    </tr>\n    <tr>\n      <th>sensor_38</th>\n      <td>12.455168</td>\n    </tr>\n    <tr>\n      <th>sensor_04</th>\n      <td>10.016415</td>\n    </tr>\n    <tr>\n      <th>sensor_42</th>\n      <td>7.885965</td>\n    </tr>\n  </tbody>\n</table>\n</div>"
    }
   },
   "source": [
    "{{df_perc_shift.to_frame().head(5)}}"
   ]
  },
  {
   "cell_type": "raw",
   "metadata": {
    "slideshow": {
     "slide_type": "skip"
    }
   },
   "source": [
    "# get beginning and end of recovery phases for plotting\n",
    "change_dates = recovery[recovery.rolling(2).sum()==1]\n",
    "recovery_start = change_dates.index[list(range(0,change_dates.shape[0],2))]\n",
    "recovery_end = change_dates.index[list(range(1,change_dates.shape[0],2))]\n",
    "recovery_start_end = zip(recovery_start, recovery_end)"
   ]
  },
  {
   "cell_type": "code",
   "execution_count": 23,
   "metadata": {
    "slideshow": {
     "slide_type": "skip"
    }
   },
   "outputs": [
    {
     "data": {
      "text/plain": [
       "{Timestamp('2018-04-12 21:56:00'): Timestamp('2018-04-13 13:40:00'),\n",
       " Timestamp('2018-04-18 00:31:00'): Timestamp('2018-04-20 04:21:00'),\n",
       " Timestamp('2018-05-19 03:19:00'): Timestamp('2018-05-20 01:11:00'),\n",
       " Timestamp('2018-05-25 00:31:00'): Timestamp('2018-05-25 10:36:00'),\n",
       " Timestamp('2018-06-28 22:01:00'): Timestamp('2018-07-04 17:51:00'),\n",
       " Timestamp('2018-07-08 00:12:00'): Timestamp('2018-07-08 00:53:00'),\n",
       " Timestamp('2018-07-25 14:01:00'): Timestamp('2018-07-25 15:16:00')}"
      ]
     },
     "execution_count": 23,
     "metadata": {},
     "output_type": "execute_result"
    }
   ],
   "source": [
    "dict(recovery_start_end)"
   ]
  },
  {
   "cell_type": "code",
   "execution_count": 24,
   "metadata": {
    "slideshow": {
     "slide_type": "skip"
    }
   },
   "outputs": [],
   "source": [
    "def add_broken_lines(ymin, ymax):\n",
    "    for incident in broken_tstamps:\n",
    "        plt.axvline(incident, ymin,ymax+1, color = \"red\", alpha=0.5)"
   ]
  },
  {
   "cell_type": "code",
   "execution_count": 25,
   "metadata": {
    "slideshow": {
     "slide_type": "skip"
    }
   },
   "outputs": [],
   "source": [
    "def add_recovery_shades(ymin, ymax):\n",
    "    for i in range(len(recovery_start)):\n",
    "        plt.axvspan(recovery_start[i], recovery_end[i],ymin=-10,ymax=10, facecolor='red', alpha=.1)"
   ]
  },
  {
   "cell_type": "code",
   "execution_count": 26,
   "metadata": {
    "slideshow": {
     "slide_type": "skip"
    }
   },
   "outputs": [],
   "source": [
    "heaviest_first = list(df_perc_shift.index)"
   ]
  },
  {
   "cell_type": "code",
   "execution_count": 27,
   "metadata": {
    "slideshow": {
     "slide_type": "skip"
    }
   },
   "outputs": [],
   "source": [
    "i = 4\n",
    "sensor_name = heaviest_first[i]\n",
    "sensor = df.loc[:,sensor_name]\n",
    "def plot_sensor(sensor):\n",
    "    ax = sensor.plot(ls='-',lw=1)\n",
    "    ymin = sensor.min()\n",
    "    ymax = sensor.max()\n",
    "    #ax.vlines(x=broken_tstabmps, colors='red', ls='-', lw=5, label='vline_multiple',ymin=ymin, ymax=ymax)\n",
    "    #plt.scatter(x = broken_tstamps, y = df.loc[:,heaviest_first[i]].loc[broken], color=\"red\")\n",
    "    add_broken_lines(ymin, ymax)  \n",
    "    add_recovery_shades(ymin, ymax)\n",
    "#plot_sensor(sensor)\n"
   ]
  },
  {
   "cell_type": "markdown",
   "metadata": {
    "slideshow": {
     "slide_type": "subslide"
    },
    "variables": {
     "plot_sensor(df.filter(regex=\"_00\"))": "<img src=\"data:image/png;base64,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\n\"/>"
    }
   },
   "source": [
    "{{plot_sensor(df.filter(regex=\"_00\"))}}\n"
   ]
  },
  {
   "cell_type": "code",
   "execution_count": 29,
   "metadata": {
    "slideshow": {
     "slide_type": "skip"
    }
   },
   "outputs": [],
   "source": [
    "df_corr = df.copy()\n",
    "\n",
    "df_corr[\"machine_status\"] = df_corr[\"machine_status\"] == \"BROKEN\"\n",
    "\n",
    "sensor_coln = df.filter(regex=\"sensor\").columns\n",
    "\n",
    "df_corr[sensor_coln] = df_corr[sensor_coln].diff(2*24*60)"
   ]
  },
  {
   "cell_type": "code",
   "execution_count": 30,
   "metadata": {
    "slideshow": {
     "slide_type": "skip"
    }
   },
   "outputs": [
    {
     "data": {
      "text/html": [
       "<div>\n",
       "<style scoped>\n",
       "    .dataframe tbody tr th:only-of-type {\n",
       "        vertical-align: middle;\n",
       "    }\n",
       "\n",
       "    .dataframe tbody tr th {\n",
       "        vertical-align: top;\n",
       "    }\n",
       "\n",
       "    .dataframe thead th {\n",
       "        text-align: right;\n",
       "    }\n",
       "</style>\n",
       "<table border=\"1\" class=\"dataframe\">\n",
       "  <thead>\n",
       "    <tr style=\"text-align: right;\">\n",
       "      <th></th>\n",
       "      <th>sensor_00</th>\n",
       "      <th>sensor_01</th>\n",
       "      <th>sensor_02</th>\n",
       "      <th>sensor_03</th>\n",
       "      <th>sensor_04</th>\n",
       "      <th>sensor_05</th>\n",
       "      <th>sensor_06</th>\n",
       "      <th>sensor_07</th>\n",
       "      <th>sensor_08</th>\n",
       "      <th>sensor_09</th>\n",
       "      <th>...</th>\n",
       "      <th>sensor_43</th>\n",
       "      <th>sensor_44</th>\n",
       "      <th>sensor_45</th>\n",
       "      <th>sensor_46</th>\n",
       "      <th>sensor_47</th>\n",
       "      <th>sensor_48</th>\n",
       "      <th>sensor_49</th>\n",
       "      <th>sensor_50</th>\n",
       "      <th>sensor_51</th>\n",
       "      <th>machine_status</th>\n",
       "    </tr>\n",
       "    <tr>\n",
       "      <th>timestamp</th>\n",
       "      <th></th>\n",
       "      <th></th>\n",
       "      <th></th>\n",
       "      <th></th>\n",
       "      <th></th>\n",
       "      <th></th>\n",
       "      <th></th>\n",
       "      <th></th>\n",
       "      <th></th>\n",
       "      <th></th>\n",
       "      <th></th>\n",
       "      <th></th>\n",
       "      <th></th>\n",
       "      <th></th>\n",
       "      <th></th>\n",
       "      <th></th>\n",
       "      <th></th>\n",
       "      <th></th>\n",
       "      <th></th>\n",
       "      <th></th>\n",
       "      <th></th>\n",
       "    </tr>\n",
       "  </thead>\n",
       "  <tbody>\n",
       "    <tr>\n",
       "      <th>2018-04-01 00:00:00</th>\n",
       "      <td>NaN</td>\n",
       "      <td>NaN</td>\n",
       "      <td>NaN</td>\n",
       "      <td>NaN</td>\n",
       "      <td>NaN</td>\n",
       "      <td>NaN</td>\n",
       "      <td>NaN</td>\n",
       "      <td>NaN</td>\n",
       "      <td>NaN</td>\n",
       "      <td>NaN</td>\n",
       "      <td>...</td>\n",
       "      <td>NaN</td>\n",
       "      <td>NaN</td>\n",
       "      <td>NaN</td>\n",
       "      <td>NaN</td>\n",
       "      <td>NaN</td>\n",
       "      <td>NaN</td>\n",
       "      <td>NaN</td>\n",
       "      <td>NaN</td>\n",
       "      <td>NaN</td>\n",
       "      <td>False</td>\n",
       "    </tr>\n",
       "    <tr>\n",
       "      <th>2018-04-01 00:01:00</th>\n",
       "      <td>NaN</td>\n",
       "      <td>NaN</td>\n",
       "      <td>NaN</td>\n",
       "      <td>NaN</td>\n",
       "      <td>NaN</td>\n",
       "      <td>NaN</td>\n",
       "      <td>NaN</td>\n",
       "      <td>NaN</td>\n",
       "      <td>NaN</td>\n",
       "      <td>NaN</td>\n",
       "      <td>...</td>\n",
       "      <td>NaN</td>\n",
       "      <td>NaN</td>\n",
       "      <td>NaN</td>\n",
       "      <td>NaN</td>\n",
       "      <td>NaN</td>\n",
       "      <td>NaN</td>\n",
       "      <td>NaN</td>\n",
       "      <td>NaN</td>\n",
       "      <td>NaN</td>\n",
       "      <td>False</td>\n",
       "    </tr>\n",
       "    <tr>\n",
       "      <th>2018-04-01 00:02:00</th>\n",
       "      <td>NaN</td>\n",
       "      <td>NaN</td>\n",
       "      <td>NaN</td>\n",
       "      <td>NaN</td>\n",
       "      <td>NaN</td>\n",
       "      <td>NaN</td>\n",
       "      <td>NaN</td>\n",
       "      <td>NaN</td>\n",
       "      <td>NaN</td>\n",
       "      <td>NaN</td>\n",
       "      <td>...</td>\n",
       "      <td>NaN</td>\n",
       "      <td>NaN</td>\n",
       "      <td>NaN</td>\n",
       "      <td>NaN</td>\n",
       "      <td>NaN</td>\n",
       "      <td>NaN</td>\n",
       "      <td>NaN</td>\n",
       "      <td>NaN</td>\n",
       "      <td>NaN</td>\n",
       "      <td>False</td>\n",
       "    </tr>\n",
       "    <tr>\n",
       "      <th>2018-04-01 00:03:00</th>\n",
       "      <td>NaN</td>\n",
       "      <td>NaN</td>\n",
       "      <td>NaN</td>\n",
       "      <td>NaN</td>\n",
       "      <td>NaN</td>\n",
       "      <td>NaN</td>\n",
       "      <td>NaN</td>\n",
       "      <td>NaN</td>\n",
       "      <td>NaN</td>\n",
       "      <td>NaN</td>\n",
       "      <td>...</td>\n",
       "      <td>NaN</td>\n",
       "      <td>NaN</td>\n",
       "      <td>NaN</td>\n",
       "      <td>NaN</td>\n",
       "      <td>NaN</td>\n",
       "      <td>NaN</td>\n",
       "      <td>NaN</td>\n",
       "      <td>NaN</td>\n",
       "      <td>NaN</td>\n",
       "      <td>False</td>\n",
       "    </tr>\n",
       "    <tr>\n",
       "      <th>2018-04-01 00:04:00</th>\n",
       "      <td>NaN</td>\n",
       "      <td>NaN</td>\n",
       "      <td>NaN</td>\n",
       "      <td>NaN</td>\n",
       "      <td>NaN</td>\n",
       "      <td>NaN</td>\n",
       "      <td>NaN</td>\n",
       "      <td>NaN</td>\n",
       "      <td>NaN</td>\n",
       "      <td>NaN</td>\n",
       "      <td>...</td>\n",
       "      <td>NaN</td>\n",
       "      <td>NaN</td>\n",
       "      <td>NaN</td>\n",
       "      <td>NaN</td>\n",
       "      <td>NaN</td>\n",
       "      <td>NaN</td>\n",
       "      <td>NaN</td>\n",
       "      <td>NaN</td>\n",
       "      <td>NaN</td>\n",
       "      <td>False</td>\n",
       "    </tr>\n",
       "    <tr>\n",
       "      <th>...</th>\n",
       "      <td>...</td>\n",
       "      <td>...</td>\n",
       "      <td>...</td>\n",
       "      <td>...</td>\n",
       "      <td>...</td>\n",
       "      <td>...</td>\n",
       "      <td>...</td>\n",
       "      <td>...</td>\n",
       "      <td>...</td>\n",
       "      <td>...</td>\n",
       "      <td>...</td>\n",
       "      <td>...</td>\n",
       "      <td>...</td>\n",
       "      <td>...</td>\n",
       "      <td>...</td>\n",
       "      <td>...</td>\n",
       "      <td>...</td>\n",
       "      <td>...</td>\n",
       "      <td>...</td>\n",
       "      <td>...</td>\n",
       "      <td>...</td>\n",
       "    </tr>\n",
       "    <tr>\n",
       "      <th>2018-08-31 23:55:00</th>\n",
       "      <td>-0.076368</td>\n",
       "      <td>0.105325</td>\n",
       "      <td>-0.236734</td>\n",
       "      <td>-0.556243</td>\n",
       "      <td>-0.053842</td>\n",
       "      <td>-0.537460</td>\n",
       "      <td>0.0</td>\n",
       "      <td>0.000000</td>\n",
       "      <td>0.035501</td>\n",
       "      <td>0.072616</td>\n",
       "      <td>...</td>\n",
       "      <td>0.070737</td>\n",
       "      <td>1.974615</td>\n",
       "      <td>0.946662</td>\n",
       "      <td>0.036998</td>\n",
       "      <td>0.027709</td>\n",
       "      <td>-0.686045</td>\n",
       "      <td>4.927438</td>\n",
       "      <td>NaN</td>\n",
       "      <td>0.287798</td>\n",
       "      <td>False</td>\n",
       "    </tr>\n",
       "    <tr>\n",
       "      <th>2018-08-31 23:56:00</th>\n",
       "      <td>-0.081142</td>\n",
       "      <td>0.105325</td>\n",
       "      <td>-0.224894</td>\n",
       "      <td>-0.556245</td>\n",
       "      <td>-0.098042</td>\n",
       "      <td>-0.498625</td>\n",
       "      <td>0.0</td>\n",
       "      <td>0.023006</td>\n",
       "      <td>-0.021307</td>\n",
       "      <td>0.000000</td>\n",
       "      <td>...</td>\n",
       "      <td>0.023579</td>\n",
       "      <td>1.724664</td>\n",
       "      <td>0.788885</td>\n",
       "      <td>0.036999</td>\n",
       "      <td>0.027709</td>\n",
       "      <td>-0.584018</td>\n",
       "      <td>5.139047</td>\n",
       "      <td>NaN</td>\n",
       "      <td>0.308921</td>\n",
       "      <td>False</td>\n",
       "    </tr>\n",
       "    <tr>\n",
       "      <th>2018-08-31 23:57:00</th>\n",
       "      <td>-0.102621</td>\n",
       "      <td>0.105325</td>\n",
       "      <td>-0.236734</td>\n",
       "      <td>-0.556243</td>\n",
       "      <td>-0.056254</td>\n",
       "      <td>-0.508905</td>\n",
       "      <td>0.0</td>\n",
       "      <td>0.023006</td>\n",
       "      <td>0.000000</td>\n",
       "      <td>0.031119</td>\n",
       "      <td>...</td>\n",
       "      <td>0.070737</td>\n",
       "      <td>1.499708</td>\n",
       "      <td>0.563489</td>\n",
       "      <td>0.073997</td>\n",
       "      <td>0.055418</td>\n",
       "      <td>-0.467918</td>\n",
       "      <td>5.154160</td>\n",
       "      <td>NaN</td>\n",
       "      <td>0.330044</td>\n",
       "      <td>False</td>\n",
       "    </tr>\n",
       "    <tr>\n",
       "      <th>2018-08-31 23:58:00</th>\n",
       "      <td>-0.078755</td>\n",
       "      <td>0.105325</td>\n",
       "      <td>-0.248570</td>\n",
       "      <td>-0.556243</td>\n",
       "      <td>-0.003215</td>\n",
       "      <td>-0.615155</td>\n",
       "      <td>0.0</td>\n",
       "      <td>-0.019722</td>\n",
       "      <td>0.042609</td>\n",
       "      <td>0.031119</td>\n",
       "      <td>...</td>\n",
       "      <td>0.212212</td>\n",
       "      <td>1.399727</td>\n",
       "      <td>0.360634</td>\n",
       "      <td>0.036998</td>\n",
       "      <td>0.027709</td>\n",
       "      <td>-0.334227</td>\n",
       "      <td>5.108818</td>\n",
       "      <td>NaN</td>\n",
       "      <td>0.367009</td>\n",
       "      <td>False</td>\n",
       "    </tr>\n",
       "    <tr>\n",
       "      <th>2018-08-31 23:59:00</th>\n",
       "      <td>-0.085916</td>\n",
       "      <td>0.105325</td>\n",
       "      <td>-0.236734</td>\n",
       "      <td>-0.556243</td>\n",
       "      <td>0.110096</td>\n",
       "      <td>-0.654141</td>\n",
       "      <td>0.0</td>\n",
       "      <td>-0.046008</td>\n",
       "      <td>0.000000</td>\n",
       "      <td>-0.072616</td>\n",
       "      <td>...</td>\n",
       "      <td>0.235791</td>\n",
       "      <td>1.299746</td>\n",
       "      <td>0.180317</td>\n",
       "      <td>0.000000</td>\n",
       "      <td>0.055419</td>\n",
       "      <td>-0.207572</td>\n",
       "      <td>4.776293</td>\n",
       "      <td>NaN</td>\n",
       "      <td>0.393412</td>\n",
       "      <td>False</td>\n",
       "    </tr>\n",
       "  </tbody>\n",
       "</table>\n",
       "<p>220320 rows × 52 columns</p>\n",
       "</div>"
      ],
      "text/plain": [
       "                     sensor_00  sensor_01  sensor_02  sensor_03  sensor_04  \\\n",
       "timestamp                                                                    \n",
       "2018-04-01 00:00:00        NaN        NaN        NaN        NaN        NaN   \n",
       "2018-04-01 00:01:00        NaN        NaN        NaN        NaN        NaN   \n",
       "2018-04-01 00:02:00        NaN        NaN        NaN        NaN        NaN   \n",
       "2018-04-01 00:03:00        NaN        NaN        NaN        NaN        NaN   \n",
       "2018-04-01 00:04:00        NaN        NaN        NaN        NaN        NaN   \n",
       "...                        ...        ...        ...        ...        ...   \n",
       "2018-08-31 23:55:00  -0.076368   0.105325  -0.236734  -0.556243  -0.053842   \n",
       "2018-08-31 23:56:00  -0.081142   0.105325  -0.224894  -0.556245  -0.098042   \n",
       "2018-08-31 23:57:00  -0.102621   0.105325  -0.236734  -0.556243  -0.056254   \n",
       "2018-08-31 23:58:00  -0.078755   0.105325  -0.248570  -0.556243  -0.003215   \n",
       "2018-08-31 23:59:00  -0.085916   0.105325  -0.236734  -0.556243   0.110096   \n",
       "\n",
       "                     sensor_05  sensor_06  sensor_07  sensor_08  sensor_09  \\\n",
       "timestamp                                                                    \n",
       "2018-04-01 00:00:00        NaN        NaN        NaN        NaN        NaN   \n",
       "2018-04-01 00:01:00        NaN        NaN        NaN        NaN        NaN   \n",
       "2018-04-01 00:02:00        NaN        NaN        NaN        NaN        NaN   \n",
       "2018-04-01 00:03:00        NaN        NaN        NaN        NaN        NaN   \n",
       "2018-04-01 00:04:00        NaN        NaN        NaN        NaN        NaN   \n",
       "...                        ...        ...        ...        ...        ...   \n",
       "2018-08-31 23:55:00  -0.537460        0.0   0.000000   0.035501   0.072616   \n",
       "2018-08-31 23:56:00  -0.498625        0.0   0.023006  -0.021307   0.000000   \n",
       "2018-08-31 23:57:00  -0.508905        0.0   0.023006   0.000000   0.031119   \n",
       "2018-08-31 23:58:00  -0.615155        0.0  -0.019722   0.042609   0.031119   \n",
       "2018-08-31 23:59:00  -0.654141        0.0  -0.046008   0.000000  -0.072616   \n",
       "\n",
       "                     ...  sensor_43  sensor_44  sensor_45  sensor_46  \\\n",
       "timestamp            ...                                               \n",
       "2018-04-01 00:00:00  ...        NaN        NaN        NaN        NaN   \n",
       "2018-04-01 00:01:00  ...        NaN        NaN        NaN        NaN   \n",
       "2018-04-01 00:02:00  ...        NaN        NaN        NaN        NaN   \n",
       "2018-04-01 00:03:00  ...        NaN        NaN        NaN        NaN   \n",
       "2018-04-01 00:04:00  ...        NaN        NaN        NaN        NaN   \n",
       "...                  ...        ...        ...        ...        ...   \n",
       "2018-08-31 23:55:00  ...   0.070737   1.974615   0.946662   0.036998   \n",
       "2018-08-31 23:56:00  ...   0.023579   1.724664   0.788885   0.036999   \n",
       "2018-08-31 23:57:00  ...   0.070737   1.499708   0.563489   0.073997   \n",
       "2018-08-31 23:58:00  ...   0.212212   1.399727   0.360634   0.036998   \n",
       "2018-08-31 23:59:00  ...   0.235791   1.299746   0.180317   0.000000   \n",
       "\n",
       "                     sensor_47  sensor_48  sensor_49  sensor_50  sensor_51  \\\n",
       "timestamp                                                                    \n",
       "2018-04-01 00:00:00        NaN        NaN        NaN        NaN        NaN   \n",
       "2018-04-01 00:01:00        NaN        NaN        NaN        NaN        NaN   \n",
       "2018-04-01 00:02:00        NaN        NaN        NaN        NaN        NaN   \n",
       "2018-04-01 00:03:00        NaN        NaN        NaN        NaN        NaN   \n",
       "2018-04-01 00:04:00        NaN        NaN        NaN        NaN        NaN   \n",
       "...                        ...        ...        ...        ...        ...   \n",
       "2018-08-31 23:55:00   0.027709  -0.686045   4.927438        NaN   0.287798   \n",
       "2018-08-31 23:56:00   0.027709  -0.584018   5.139047        NaN   0.308921   \n",
       "2018-08-31 23:57:00   0.055418  -0.467918   5.154160        NaN   0.330044   \n",
       "2018-08-31 23:58:00   0.027709  -0.334227   5.108818        NaN   0.367009   \n",
       "2018-08-31 23:59:00   0.055419  -0.207572   4.776293        NaN   0.393412   \n",
       "\n",
       "                     machine_status  \n",
       "timestamp                            \n",
       "2018-04-01 00:00:00           False  \n",
       "2018-04-01 00:01:00           False  \n",
       "2018-04-01 00:02:00           False  \n",
       "2018-04-01 00:03:00           False  \n",
       "2018-04-01 00:04:00           False  \n",
       "...                             ...  \n",
       "2018-08-31 23:55:00           False  \n",
       "2018-08-31 23:56:00           False  \n",
       "2018-08-31 23:57:00           False  \n",
       "2018-08-31 23:58:00           False  \n",
       "2018-08-31 23:59:00           False  \n",
       "\n",
       "[220320 rows x 52 columns]"
      ]
     },
     "execution_count": 30,
     "metadata": {},
     "output_type": "execute_result"
    }
   ],
   "source": [
    "df_corr"
   ]
  },
  {
   "cell_type": "code",
   "execution_count": 31,
   "metadata": {
    "slideshow": {
     "slide_type": "skip"
    }
   },
   "outputs": [],
   "source": [
    "correlation_status_sensor = pd.DataFrame(df_corr.corr().machine_status.sort_values(ascending=False).head())"
   ]
  },
  {
   "cell_type": "markdown",
   "metadata": {
    "slideshow": {
     "slide_type": "subslide"
    },
    "variables": {
     "correlation_status_sensor": "<div>\n<style scoped>\n    .dataframe tbody tr th:only-of-type {\n        vertical-align: middle;\n    }\n\n    .dataframe tbody tr th {\n        vertical-align: top;\n    }\n\n    .dataframe thead th {\n        text-align: right;\n    }\n</style>\n<table border=\"1\" class=\"dataframe\">\n  <thead>\n    <tr style=\"text-align: right;\">\n      <th></th>\n      <th>machine_status</th>\n    </tr>\n  </thead>\n  <tbody>\n    <tr>\n      <th>machine_status</th>\n      <td>1.000000</td>\n    </tr>\n    <tr>\n      <th>sensor_50</th>\n      <td>0.008743</td>\n    </tr>\n    <tr>\n      <th>sensor_51</th>\n      <td>0.004530</td>\n    </tr>\n    <tr>\n      <th>sensor_34</th>\n      <td>0.003288</td>\n    </tr>\n    <tr>\n      <th>sensor_35</th>\n      <td>0.002997</td>\n    </tr>\n  </tbody>\n</table>\n</div>"
    }
   },
   "source": [
    "### Correlation of Sensors with Status\n",
    "- Order by strength:"
   ]
  },
  {
   "cell_type": "markdown",
   "metadata": {
    "slideshow": {
     "slide_type": "subslide"
    },
    "variables": {
     "correlation_status_sensor": "<div>\n<style scoped>\n    .dataframe tbody tr th:only-of-type {\n        vertical-align: middle;\n    }\n\n    .dataframe tbody tr th {\n        vertical-align: top;\n    }\n\n    .dataframe thead th {\n        text-align: right;\n    }\n</style>\n<table border=\"1\" class=\"dataframe\">\n  <thead>\n    <tr style=\"text-align: right;\">\n      <th></th>\n      <th>machine_status</th>\n    </tr>\n  </thead>\n  <tbody>\n    <tr>\n      <th>machine_status</th>\n      <td>1.000000</td>\n    </tr>\n    <tr>\n      <th>sensor_38</th>\n      <td>0.016723</td>\n    </tr>\n    <tr>\n      <th>sensor_39</th>\n      <td>0.013102</td>\n    </tr>\n    <tr>\n      <th>sensor_41</th>\n      <td>0.012187</td>\n    </tr>\n    <tr>\n      <th>sensor_40</th>\n      <td>0.010135</td>\n    </tr>\n  </tbody>\n</table>\n</div>"
    }
   },
   "source": [
    "{{correlation_status_sensor}}"
   ]
  },
  {
   "cell_type": "markdown",
   "metadata": {
    "slideshow": {
     "slide_type": "subslide"
    },
    "variables": {
     "plot_sensor(df.filter(regex=\"_50\"))": "<img src=\"data:image/png;base64,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\n\"/>"
    }
   },
   "source": [
    "{{plot_sensor(df.filter(regex=\"_50\"))}}"
   ]
  },
  {
   "cell_type": "markdown",
   "metadata": {
    "slideshow": {
     "slide_type": "slide"
    }
   },
   "source": [
    "# Indicator Approach\n",
    "- When did sensors deviate significantly (5 %-level) from normal state.\n",
    "- How many sensors deviated \n",
    "- Here: Mean of rolling window of 2 days."
   ]
  },
  {
   "cell_type": "code",
   "execution_count": 35,
   "metadata": {
    "slideshow": {
     "slide_type": "skip"
    }
   },
   "outputs": [],
   "source": [
    "df_sensor = df.filter(regex=\"sensor\").copy()\n",
    "\n",
    "sensor_stdv_normal = df_sensor[normal].std(axis=0)\n",
    "\n",
    "sensor_means_normal = df_sensor[normal].mean(axis=0)\n",
    "\n",
    "sensor_abs_diff_from_means = (df_sensor-sensor_means_normal).abs()\n",
    "\n",
    "n_sensors_2stdv_off = (sensor_abs_diff_from_means/(sensor_stdv_normal*2)>1).sum(axis=1)\n",
    "\n",
    "rolling_ind = n_sensors_2stdv_off.rolling(24*60*2).mean().dropna()\n",
    "\n"
   ]
  },
  {
   "cell_type": "code",
   "execution_count": 81,
   "metadata": {
    "slideshow": {
     "slide_type": "skip"
    }
   },
   "outputs": [],
   "source": [
    "def rolling_wih_broken_lines():\n",
    "    # only added for jupyter slides export\n",
    "    rolling_ind.plot()\n",
    "    add_broken_lines(-1,3)"
   ]
  },
  {
   "cell_type": "markdown",
   "metadata": {
    "slideshow": {
     "slide_type": "subslide"
    },
    "variables": {
     "rolling_wih_broken_lines()": "<img src=\"data:image/png;base64,iVBORw0KGgoAAAANSUhEUgAAAW8AAAEPCAYAAACNyEVOAAAAOXRFWHRTb2Z0d2FyZQBNYXRwbG90bGliIHZlcnNpb24zLjQuMiwgaHR0cHM6Ly9tYXRwbG90bGliLm9yZy8rg+JYAAAACXBIWXMAAAsTAAALEwEAmpwYAABONUlEQVR4nO2dd5wU9d3HPzOzfa9yx9E7CAei2EBBsYvBoNFoRAxoMPGJ0SiW2A1EifqYGH1CNEaN0Qgaa5QEC4ICCoIF6Uf3KHfANa7f7k57/pid2TY722Z3b9nv+/Xy5bE7M/vb38585jvf9mNkWZZBEARB5BRstgdAEARBJA6JN0EQRA5C4k0QBJGDkHgTBEHkICTeBEEQOQiJN0EQRA5iycSHrF+/Hk6n09yDNjQo/y8vT8/2JuD1emG32zP2eQmTzJykOI/dfk7SQZQ5S3ousnAux00KY8vLcyMGXq8X48aN030vI+LNMAwqKyvNPejLLyv/P+us9GxvAlVVVeZ/bzNJZk5SnMduPyfpIMqcJT0XWTiX4yaFseXluRGDqqqqqO+R24QgCCIHIfEmCILIQUi8CYIgchASb4IgiByExJsgCCIHIfEmCILIQUi8CYIgchASb4LIAN9UN2HWS1+hzcNneyjEMQKJN0FkgNV7GrFqZz2Wbj2S7aEQxwgk3gSRAQrtSjHzuu8bszwS4liBxJsgMgAvSgCATQdbsjwS4liBxJsgMoBXUMR7V107unxilkdDHAuQeBNEBvAKIqwcA1GSsbWWrG8idUi8CSID8KKEkwaWAgB217VneTTEsYBhS1ie53H//fejpqYGPp8PN910E4YPH457770XDMNgxIgRmDt3LliW7gEEYYRPkNGn2AEAaKV0QcIEDMV78eLFKCkpwR/+8Ac0NzfjRz/6EUaNGoU5c+ZgwoQJ+O1vf4vly5fjwgsvzNR4CSInESQJPdw2sAzQ2iVkezjEMYChyXzxxRfjtttuAwDIsgyO47B161aMHz8eADB58mSsWbMm/aMkiByHF2XYLRyKnFayvAlTMBRvt9uNgoICtLe349Zbb8WcOXMgyzIYhtHeb2try8hACSJXkWUZoiTDbmFR5LCitYvEm0idmMugHTp0CDfffDNmzJiBadOm4Q9/+IP2XkdHB4qKimJ+iCRJhsv5JENxbS0AoCXO4ya6vRl4PB7Tv3ebV8SyPe0YXGrDSX1SWxc0mTlJdR7TMSfdHXeNMmetRxthg4DahmZUVVUlPRfZOJfjJZWx5eO5kQqG4t3Q0IDZs2fjt7/9Lc444wwAwOjRo7Fu3TpMmDABq1atwumnnx7zQ1iWNX9tunXrAAB94z1uotubgNlr8vGihDP/91McafUCAP5zy5kY2784+QMmMycpzmM+rlPYWdEbQAP69+2NipYj8AkSKisrk5+LLJzLcZPC2PLx3IhF0mtYPvfcc2htbcWzzz6LmTNnYubMmZgzZw4WLFiAq6++GjzPY8qUKaYPmNDn39/V4EirF0PL3QCAaX/5Ane+uREeXoRPkLBw7T40d/qyPEoiHEFSCnQ0twn5vAkTMLS8H3zwQTz44IMRry9cuDBtA8oHDrV0wWHhUOq2JbTf61/tR68iOz647Szc+vp3WLrtCN5ZfxB1bR6cMawMT3y0A3VtXtxx4XFpGjmRDLwQJN5OC2WbEKYQ0+dNmIcsy5j0+KeobfEAAKafNgCP//iEuPZt6eSx8UAzbjl3OBxWDn/8yYn4bHsd3v72ID7f1YDPdzUAAN7fUINbzh0Om4Vy77sLoiwDAGxkeRMmQld4BtlV164JNwD86+sD8Arx9blYs6cBkgycdVxPAECRw4rLxvXDqzdMwFNXn4hrxg/A/5w9FPsaO3HhUyvRQhkN3QZeUMRbTRXs9IlaoyqCSBayvDOImiL2z9nj0dLF49evf4ctNa04ZVBpzH0/21GHQocF4waURLx3+Un9cflJ/QEALMPgryv24II/rcRNZw/DzyYN1lI7ieyg+bytLIocyiXX5iHXCZEaZHlnEA+vXMQOK4fRfZUUy32NHTH3k2UZn+9qwOQRPWHljH+yey4ehVdvGI8eLhse/u82bK1tTX3gREoIomp5syhyWgGAcr2JlCHxziCqi8RuYdG/1AmWAaobO2Pu931DBw61eDBxeFlcn3PWiJ54ftYpAIBth0i8sw0vBblNHH7xJr83kSIk3hkk2PK2Wzj0LXHGZXmv3qOsvjJxWHncn9WnWLk5HDzaldxgCdMQxOBsE9XyJrcJkRok3hnEwyuWt8OqTPvgMjf2xWF5f7mnAX2LHRhc5or7s2wWFr2KHDh4NPbxifSiBicdViVVECDLm0gdEu8M4tXyfTkAwKAyV1yW99fVR3H60LKEA4/9SpyobSbLO9sIfreJjQtym5DPm0gREu8MEm55Dypz4WgnH9MKa+nkUVHkSPjz+pU6UUPinXU0t4k1yG1CljeRIiTeGcSjBSwVy7vArlzInd7oud68KMEnSnDbuIQ/r1eRA3X+PihE9hCkQLaJ28ZRT2/CFEi8M4iXDwSuAGhVkD4hesFGp3+xWmcS4u2ycfAKEiS/eBDZIZAqyIFhGOrpTZgCiXcG8QgibBYWLKv4rjXxFqNb3p0+xUJz2xOvp3JYOe1ziezB+8Xbyim/e5HDShWwRMqQeGcQLy9pVjcA2PwFN944LG9XEpa3UxVvnkqxs4kkK/PP+W/aSnMqEm8iNUi8M4hXEDVrGAi4TwzdJl5VvJOxvJXjd/FkeWcTUQI4Flq2kNKcinzeRGqQeGcQDy9pggrE6/NWLvJkLG/NbULinVUkWQLLBH53t92CDi+JN5EaJN4ZxCuIWqYJEOzzTo/bhMS7e6Ba3ioOK2foKiOIeCDxziARljcXf7ZJcm4TEu/ugCjL4NjA7263sPDSb0KkCIl3BvHwIhx6lreBeHek4DahgGX3QJJksEHFsQ4rCw9Z3kSKkHhnEK8gwa7n8zZwm3Sl5DZhQ45BZAdRkmEJUm+7hSPLm0gZEu8MEmF5x5EqGLC8E3ebOCnPu1sgyrKW2w/43SZkeRMpQuKdQTy8GGJ5x5Mq2OUTwTAI8ZXHi+rzJss7u0iSDC6oqZjDykGQZIhU+UqkAIl3BvEKUuI+b68Il5VLaimzQIUlWXnZRJBkrUAHCLppiyTeRPKQeGcQDy/Bbk0sVbCLF+BKojQeCFjr5F/NLpKMELeJelMl8SZSgcQ7g3h5Ubc8PqblnUSwEiC3SXdBlKQQtwlZ3oQZkHhnEK8ghZTHWzgWLBM7zzuZYCUAWDkWFpahgGWW0SvSAUi8idQg8c4QoiTDJ0oRgUebhY1RYSkkbXkDSsZJl4983tkkvDw+nkA1QcSCxDtDeMMWYlCxcWwclnfy4m23cmR5Z5lwy1vNOCLLm0gFEu8MoVY5OiMsb+M+Fx5e1PK1k8FpY+Ehn3dWCS+PVzOOSLyJVCDxzhCB9StDhdhuMba8PbwYsU8i2GPcHIj0E14eT5Y3YQYk3hkimnjbLKzmUtHDK4Qu4JAoNo6q+bKNGJHnTZY3kTp5Ld7tGeyp3BW2crxKLJ93eD+URLFbjW8ORPqRZBlsSIUlWd5E6uSteNc2d+H4uR/jxc/3ZuTzVJ+3nuVtlG3iDeuHkiixbg5E+iHLm0gHeSveu+raAQDzl1Rl5PO8Bm6TdFresW4ORPoR5dDeJuTzJswgb8W7rtWT0c9T0/UixNvAMhZECYIkR6QXJoLS+J/EO5tIEsK6Cvotb3oiIlIgb8W7tlkR7zK3LSOfpxbKJFKkowYaUwlY2i0cWd5ZRpCkkH7ems+bugoSKZC34l3Xpoh3SxcPKQMXkZptEp6zbeQ2UcU7lVTBWG4ZIv1IMkJSBW0cC4YBvAKJN5E8eSveagBRkGQc7fSl//OiuU0MxVutykwtVZDEO7soAcvAb8gwDMrcNhztoiwgInnyV7yD0ufq273p/zw128QSWaQTLQ9b3YdSBXMbRbxDX+tV5EBjZ+ZSVYljj7wV7+AgXn1bJsTbb0WHCbHd0Oet3w8lEcjyzi7qajnBjakAoHeRA42ddFMlkicu8d64cSNmzpwJANi2bRvOOusszJw5EzNnzsQHH3yQ1gGmC68gaoGjjgwU63h4ZTmzcBeIkbh6ef0gZyJQqmB24f1zz4XdfyuKHGgwsLz/9dV+nPHYcu2mTxDhxGwU/cILL2Dx4sVwOp0AgK1bt+JnP/sZZs+enfbBpRMvL6HMbUdNcxc6vOm/QNTFh8OXM4snYJmS5W1hwYuy0l+DTXwpNSI11BunJWzuexc50OqV4BVE3d/33nc3AwAOHu3C8IqC9A+UyDlimnQDBw7EggULtH9v2bIFK1aswLXXXov7778f7e3taR1guvAKInr40wQ7fZmwvCN7eQOxUgVTD1gGqvnI+s4G6o3Zwoa5TYrtAIC61kiX3YGmTu3vQy1daRwdkcvEVIUpU6bAYgkY6CeccALuvvtuLFq0CAMGDMAzzzyT1gGmC68godQv3h0ZaJnaFaU7oI3jIEZZSVwLWKZoeQOg5lRZgo9iefcqcgAADusUi63cWa/9fag5s8VkRO6Q8PpaF154IYqKirS/H3nkkZj7SJKEqipzy9CLa2sBAC1xHjd8+9aOLvRySGAZYF/NYVRVmZ8u6PF4tO9d13gUrCxGzENzUzMAYNPWbXCEWdh79ylPNTUHqmFpS66YqKm+FQCwtWo7Sp2hP3eic5jsPsEEz0k+UNvKAwBaW1tCvnfnUeV8+3bbHhR0HQnZ56PvAv/eve8gqgpCn25T/Q3SSSpjy7dzI1USFu8bbrgBDz30EE444QR8+eWXGDNmTMx9WJZFZWVlUgOMyrp1AIC+8R43bHuZrUWv8lK4D3nhLCw1f3wAqqqqtOPavupAkbsr4nP6N34PrG/C0GHHodhlDXlvW+dBAHUYfdwIDCxzJTWGze0HgHUNGDR0OPqVOEPfTHQOk90niOA5yQesdW0AgPIeoedYn04fsPggLIVlqKwcqr0uyzK2vHUAV5zUD+9+V4OC0nJUVo4IPWiKv0FaSWFs+XZuxIPRzSxh8Z43bx4eeeQRWK1WlJeXx2V5d0eUPtkcXHYuIz7v4OyWYDS3higCsIbtY06eNxBojEVkFm8Un3ex0wobx+BwS6hbpLbFg+ZOHicNLMGSzYcykglF5CZxiXf//v3x5ptvAgDGjBmDf/3rX2kdVCbw8iLsFhZumyUzPm+ffmtXOxd9MVotNzzFCkuAApbZgvd3DgxPFWQYBhVuCw4eDQ1Ibj+kuLkq+xShwG7JaM95IrfI2yIdj7/VqsvOoTMTed6CCKfOQsI2g5XEzeptEu34RPqJlm0CAD3dloiAZZVfvEf1KYLbbiHLm4hKXoq3IEoQJRkOCweXLTPWjVGqIKCfDaKmCtrCa6sTQM1UoWyT7KAV6TCROfalTi6iurfqcBsG9nChwG6B225BewZqEIjcJC/FO9iX7LRy8GRA2DxRVsSxGbhNvIIEG8emVFxDlnd20SxvLop4t3shy4E00YNNnRhc7gYAFNg5sryJqOSleAd8yZx/sYIMVVgauU10fNJePrXFh0OOT+KdFdTfldO5AZc6OfgECa2egEAfbvWgV6FSwOO2WzISTCdyk7wU74AvmYXDymWkf4SHl/QtbwNx9Qgi7Cn4u4GAZU9uk+xg5PMudSq/bb2/t7wgSqhv86J3sVLA486QS4/ITfJavO0WDg4rq1UyphMPr58qaDcKWJpgeWupgtQWNitEq7AEgHKXkux1pFVxnTS0+yDJStMqAHDbuYz03SFyk4TzvI8FglPwHFYu7cLG+9ei1C2PjxGwTCXHGzD2qRPpJ9BVMFK8y/zifajFgyc+3oG/rtgDACFuE/J5E9HIa8vbYeX8bpP0Clu0JdCAIMtbz+ftLyRKBaPjE+lHvWnq+bzLXMpve7ilSxNuIGB5F9gt6PAJIQFNglDJT/EOsrztFhYeQUzrBeIx6Mtt46KvJB7N1ZIIFLDMLj5/kY6ez9vhP//+uHSn9tqJA0q0FrBuuwWSrDQ1I4hw8tNtEpQq6LBykGXFMk3Vyo36edoqOokX6aTs86Y876wSCFjqp3sG/y5f3HMu+pcGetiojco8vARXcn3JiGOYPLe8OU0c0+k6UcXbyOft0/G7m+E2Ics7uxgFLAHgZ5MGa38HCzcArSKXVtMh9MhLyzs8VRDwC7rTarRb0qg3Bj2ft3Getwi7P3iVLBzLgGMZEu8s4RMkMEDUQqu508agZ6EdI3sVRrynnpvkNiH0yEvxDi7SUS+QtFregmp56/m8o1vGPkFKqa9J8GdQwDI78KKkW10ZzK/OGa77euDcJPEmIslPt4mW581qbpN0pgsauU2s/gs7WsAyVZ83YLxOJpFevIKkm2kSDyTehBH5Ld7WDFnearaJjv+aYRjYLCy80VIFU8w2AQArWd5Zgxcl3UyTeHBm4Nwkcpc8Fe/QVMHg19L6eVGE2M7pW8ZmBCwB5XuS5Z0dfClZ3sr50pWBfvNE7pGX4h1Y2DdYvNMnbl7/50Vr7WqzsFErLFPN8wYU1wxPlndW4MXkxVuzvKm1AaFDXoq3V1B8yQzDaLnX6bRMVZdFNMtbzyctSjJ4UTbF8iafd/bwiVLUNMFYaNkmZHkTOuSneAc1fAp03UvfBaIKp5HlHS6uwa6dVLFZWLK8s4RPkMEl6fNWb/aZ6DdP5B75Kd5BrVYDXffSaHmr4h1FiPV80t4g106qWDl9twyRfnxxpApGQ3ObkOVN6JCf4h20JFkmfN6q2ySaeNsskdkgZqxfqR2fI8s7W/CChGTvv5QqSBiRn+IdlMVh1JLVtM/jjdeitOlkm2jrV1Ked07jSyFV0MqxsLAMVVgSuuSleAcXv2iNm9J4gXhFCTZ/gFQPfZ93YMGIVKEKy+yRSrYJgIy0LCZyk7wUb29Q2Xkm+l37BAl2gxXgbRYuokgnlp88EawcC16gntDZIJU8b0ARb7K8CT3yVLzFyGyTNFo3PkEyFOGMuE3I8s4KqaQKAkqhTiYWyCZyj7wUb09QqiDLMrClORsjlngr2SahF2hw/5VUsUap4CTSTyrl8YCScUKWN6FHXoq3YnkHfMnpLh/3xrK8dSxjM90mZHlnDzPcJpRtQuiRp+IthZSdK+Xp6S3SMbKg9d0mxoU9iWCj8viswYty0nnegOI2Icub0CMvxVvJNgm1vNOd5x3T8hb0LW8zeptQqmD2SNXytls4+u0IXfJSvMNbrdqt6b1AfIJkaEHr3TwCJfXm9DYhyzs7pJLnDaTfsCByl/wUbz50hRolYJlet0nClneMqsxEsHIseFGGJFG6YCaRZdlveSd/DHpqIqKRd+Ity3JIqiCg9DdJa4VlWIA0HJuFhSDJEIPEVavKNClgCQC8RCKQSQT/70mWN5EO8k68eVGGJIem4OkFDM0kVraJKuzBY9DayJoh3gbrZBLpQ51v8nkT6SDvxNsrRK4nmW7LO56AJRAm3ianCoYfn0g/apwhFfFOdyYUkbvkoXhHWrTptm5il8f7qzzFwEXqFSQwDFKqzlOx+j+bF8nnnUnUcyqVVEFymxDRyDvxVgsegn3Q2Q5Y2nXcGmqGSrRmVolAbpPsoLq+UvJ5WylgSeiTd+IdWDk+kwHLGEU6Om6NWPskgjUDzbeISDTLOxW3CcdFBLMJAshH8dZWqMlceXw8qYJAaE9xxU+eeo43QJZ3tlDdVCkFLK302xH65J14qytx2yPK47MXsLTrWd68eZa3ehwq1MksZmSbZGKNVSI3iUsdNm7ciJkzZwIA9u3bh2uuuQYzZszA3LlzIeVY7rDe2pB2C5e2tpuCKEGUZMNKSZuOW8Mnmug24chtkg0CPu/ULW8KWhLhxFSHF154AQ8++CC8Xi8A4LHHHsOcOXPw2muvQZZlLF++PO2DNBPdVME0dt2Lp1JSz63hE0RT0gSDP5sevTOLZnmnlG0SWQNAEEAc4j1w4EAsWLBA+/fWrVsxfvx4AMDkyZOxZs2a9I0uDXh0LG+l90d6gkI+ndTEcKIFLM0Sb6tfPMjyziy8CZZ3IB5CbhMilJjqMGXKFFgsFu3fsixr6WtutxttbW3pG10aUC+C0IBl+qybeIptdAOWMZpZJUIsy1sQJdz55kZ8t/+oKZ9HKPBmpApmYIFsIjexxN4kFDboROzo6EBRUVHMfSRJQlVVVaIfZUhxbS0AoCXO46rbV/eoAQAc3LcXfKMVANDc2AIA2LytCoV2czI8AMDj8WDbjp0AgMa6I6iq6tTdrqbFBwD4ft8BVHGKgDa3tcPGsabM28HmoOOzAYFW52TX+q14Z/1BvLP+ID68bqjhsRKd93A8Ho/p50J3Ze++dgBAU2MDOI8lYs7imYu6Q8o5s2P3XrAtDgCp/wbpJJWx5dO5YQYJi/fo0aOxbt06TJgwAatWrcLpp58ecx+WZVFZWZnUAKOybh0AoG+8x/Vv36OiF4B6jBk1Ej0L7QCAb1v2AV83YvDQ4agocpg2xKqqKhSVDwBwAIMH9kNlZT/d7QqaOgEcRHmv3qisHAAA4JY1orTAZsq8uRo7ABxERe8+qKzsH3jDPyeewUMA7AcA/GV9F5659uToB0t03sOoqqoy/1zopuz01gCoQ5/eFagodETMWTxzcdTWAOAw+vQbiMphZcqLKf4GaSWFseXTuREvRjezhJ/n7rnnHixYsABXX301eJ7HlClTUhpcplGzSkKKdNL4aKpmtxi5QHSzTUz0ecdymwR/b3KdmIcWsEyhSlZz6VG8gggjLsu7f//+ePPNNwEAQ4YMwcKFC9M6qHSiCpUjuDw+jeKtdQc0WBFHN9skHUU6UQRA/d493DZTyvEJBbVIx5JC7EIzLGgpNCKMvCvS8fIiGCaQgQEErJt0RPTjWREnWldB08vjo1nefmEocVppsVsT8fnPp9RawlKOPqFP3om3xy+KwRZmOgshtFRBI8tbx/L3mpnnHaflXeS00mK3JqJZ3in28wYC7jeCUMk78fbyYkiBDqDf1c+0z9NSE6NPtYVlwDI6ed5mpQrG+H6qeJe4FPGWZWqCZAY+k/p5A5QqSESSf+Kt445Ip+XtjSPPm2EYZa3CsIClkbWeCCzLwMIyBuKt3GCKnVbIMgmFWZgTsFRvvPRERISSd+Lt4SPXk0xnkY5eUZAewUuxKetsGi/gkChGK8irj+TFTiXvncTbHHyiBCvHgCXLm0gDeSfeepZ3OkuQ9Rph6WGzcNoFqvpKzfJ5q8eK5TbRxJv83qbAC5LWFCxZ9DpOEgSQp+Id4fPW0rHSmCoYQ4iDe4rH08wqUaxc9OZb6k2ryKGIt4eCY6YQqxVwPFg4FhzLkOVNRJB34q24TcJ83mkshNCKdOIQb1VEvTpLtaWK4pbRD0RGWN7kXzUFXkzd8gbSv0wfkZvknXh7dQKBtjQWQsTt806z5W3U9la9wRQ5yfI2E7MyhmgdS0KPPBRvMaS6Ekhzebx/FXhrjJ7OwdkmgcIes33e+jcnryDCwjJw+5tyecjKMwVelE25AdMK8oQeeSfeHj7S8k5nUEitlIxVdh6cbRJPG9lEsXKsFggNRw3iqk8HVGVpDj5BNOUGbBRsJvKXvBNvrxCZKmjhWLBM+izveHzXwReotsJ9xrJNRNitHBzW9AVu8xFelGG1pN4rxh6UiUQQKvkn3rykiVQwygWSHp93PBZ08CLI8RT2JEqwZR8xRl6Cw8JqWTjkNjEHsxbUoIAloUf+iXcUSzhdQaEun6h7s4j4/BDL2/xsE6uFhdegt4ndymmxAApYmoPPpGwTu5V83kQkeSfeeqmCgGrdmH+BtHkEFNqtMbezWbjIgKXJljdv5DaxsFosgHze5sCbkOcNUMCS0CevxFsrO7fqW97puEBaPTyKnLHbpge7NdLh8zZMFfQHLB1aa1wSCjMwzW1i4ShgSUSQV+It+FeHj2Z5p+MCafMIWuWiEcE+b3Uc8bhb4sXKGTSm4hVXElne5kKWN5FO8kq81VQ5PfFOV8CytYvXil+MsAflYWsBS4MFHBLFsDGVIMJuZWnVFpPxmdDbBAitviUIlbwSb0FSF0ZIr9tEECU89N4W1LbyaPUIKHTEdpvYQ7JNItfZTJVYjanUXHS7hYWHrDxTMKtIh/K8CT0SXj0+l1EDdo40Byy3H27Dq2v3YW2ZHe3e+N0mPlGCLMuB1XfMbkxlKN7KDc1h5cjyNgmvaZY35XkTkeSZ5e13m+ha3uZdIJ0+Rfxavf5ufXG4TWwcC1lWxpiWPG/DgGUgA8dhZSlV0CR4UYItRluEeLCT5U3okFfizRu0ZzXzAmls9wIAfH4fezxuk+BFiLVOhCb2NrFzAcs+HG9QywCHlaMiHZPwCWYGLOk3IULJK/EW/GIa3s8bULM9zLlAGlTx9rdgjddtouwjwScqjaIsJjemUi37cILdJnYLS+XxJmFWS1g1HkJrixLBHDPivae+PWaKWyzL2yzRamj3AYAW+Isrzzuos6GXN8diC0YVEb2ni1C3CVneZiBJMgTJvIBltBsvkb8cE+Jd1+bB+U+uxEPvbTHczijP2x5U4ZgqquWtNvGLx/IOXkfTJ0Yu1ZYqqoiEpwtqhUuqeFs4yvM2AfVcMitgCVDxFBHKsSHerYpYvvXtQUgG1okgqsUvOgFLC2talkWj3/JWSchtIoppsbyD3TLBiJIMWQ4Ece0UsDSFeJe/i4dovx2R3xwT4t3mEbS/1+5tjLqdcZGOeamCquWtEm95POB3m+i0rU0Va9Dxg+H9Nzv18yktzRzUtFSzfN4ALU9HhHJMiHe7NyDe675virodb1SkY4mejZEo9WHiXWCPr0gHSJ/bxB7FbRJ4GgmkClKed+qYuZSdnfqsEzocI+LNa393GQiPlm2iV6TjDwpFW20mXuYt3op9jZ2B43JsXFkj6Q5YqpZ1uF8/EMQNFOmQzzt1eH+mkTkLEKdvgWwidzlGxDsgNp0+Iep2mlDpWt5qUCg14Xp5TTUAYNYZg5QX4qzRCMnzFsy3vKNlmwQKl1S3CZXHm4FPVM4js/K8AbK8iVCODfH2+7zLC2zo8kU/wQ193lZzgkJDe7oxZUwvnDSwJKHjhbhN4lw6LRGiBb1UC5HK481FzfE3pcJSPTdF+l2IAMeGeHt5cCyDYqfV8JFfECWwDGBhIy8oW5SAXqJ0ekWUOG0JW0mBbBMp7qXTkj1+MIE4QFB5PFneKcOb6PPWzk2yvIkgjgnx7vCKcNs4uGwWY5+3JMFh5XRXcteCQikKV4dPgMvO4fzKXgCAW84dHtd+Ni5LbpOwpxGHhYMoyVHbxxLxYWqet5XyvIlIjomugh1eAW67BU4bF8PnLUcVRS0olMIFIssyOn0i3DYLehba8eF1Q1FZOTKufW1hbhOzLW97FLdJeO578IIMZghPvqKmCpq1ADFA4k2EckxcnZ28CKeNg9PKocvg0ZIXo/uSzcil9QoSREmGy564v9oW9PnRFklOhUCFZWg2TXgcwEFWnimoiz1bzUwVpDxvIohjQ7y9Atw2C5xWDh6fkdtEjrq0mBkBS7UVrNuW+ANNcAm0ss5mmtwmYUEvzeetBiy1FeRJKFLBTMvbbiHLm4gk58VblmXsPNKuWN42ztDnbWR5m/Fo2uEvFnLZErea7eEBS5NdFtGyTQKdFv2pgprbhIQiFUwt0qHeJoQOOS/ez63ci5rmLvQstPt93sZFOtEs2kBQKHmLU7O846ioDCciYGmy5R0o0gl3m4Ra3nayvE2BNzVgSWuLEpHkvHg3dylNoB657HjFbWJoecuaWyCcaAG9ROjwJW95sywDC8vAm+E8b0EnVRAgKy9V1Hk2w/J2kOVN6JB0tsnll1+OgoICAED//v3x2GOPmTaoRBBFGS4bhx5umz9gKUKWZd10QF6MbtHaTPArqm6TZCxvdQzqMUxvCWuUKsgEBEILWMZp5XX6BLAMo9upMZ9Rn3CsJhTpWDkGDEOWNxFKUirj9XohyzJeffVVs8eTMB0+QRNLp03NUZZhs0ReNIJhqqAZ4q1cXMlY3oAi3mqHxHT1846osBQlMNaAyKgiHM+CDKIkY+r/fY5+pU4s+vnppo4319EWkeZSv6kxDGNq10vi2CAphdi+fTu6urowe/ZszJo1Cxs2bDB5WPHT7hW1rn1Ov/B0RfF7C5Kk29cEMKdIR80xTybbBFAEu82jNNkyO8+bYxlwLBNRfKPmvqtPKupNI56A5aaDzahu7MTq3dHb8OYrms9bx4hIBmoYRoSTlMo4HA7ccMMNuOqqq1BdXY1f/OIX+Oijj2CxZL7mp9MraJau0///Ll5EMSIXQOANWq3aTSjS6fDfNJLJ8wbSa3kDinUdXh4viFKIy8ORQOD2s+11AMy/0RwL+ExMFQTM7TdPHBskpbZDhgzBoEGDwDAMhgwZgpKSEtTX16NPnz6620uShKqqqpQGGk5xbS0AoN41AIwEVFVVoam+DQCwuWoHjhbbIrb38iK62lt1x6L28zhYexhVVZ6kxlR9oBkAUPP9HjRaWXg8nsS+tyigvrkdANBw5DCqqjqSGkc0LAxwuK5BG1NxbS1a2jvAlQV+n/oO5ebx/f4aVDnaIo6hzfuWbfjzp98DAGws4v6eCc9JjnLoSBMYADt3bEeJf85awr53InPByiLqGo+iqqpK+w3Cj9cdSGVs+XJumEVS4v32229j586dmDdvHo4cOYL29nb07Nkz6vYsy6KysjLpQeqybh0AgGm3o9xtQ2VlJQ5Ih4HP69FnwGBU9iuO2F5CI3qVl+mORZRkANUo6VGOysoRSQ3JfXAnGKYJJx4/GizLoKqqKqHvXbKsEY3+hRwGDxyAykr9m2GyOGw1KCguCYxp3TrYDuyD22nXXuvd4QOwH6XlFaisHBJ5EP+8f3DUAUBZaIIXpbi/Z6JzkqsUfV8Fm6UVo0ePBr76CgDQN+x7JzIXha462F0Fyvb+3yD8eN2CFMaWL+dGIhjdzJJ6prvyyivR1taGa665BrfffjseffTRrLhMACW3WnWbuPy+5mi53rwoR82K4LRUvRTyvL0CXFYOrE7Xwnhw2jg0dyk+73S4TWwcoxOwDK06jadIhxclvPJlNU4cUILZkwbDK5izAtGxhE+UTC20ouXpiHCSUlybzYYnn3zS7LEkRadPhNOqfA3V16zXnEqSZIiSbOiftVnYlH3eriTTBAHAHVRklA4/st73C686dcSxKMV3+5txwNuFX549DM2dys3GZ1C9mo+Y3VzMYWUpYEmEkPORpk6fALddtbxV8Y48yUU5tAxcD5t/Hctk6fAKcCeZJggEnhzUsZiNnngLUmj6JMsysHHGK8gfPNqJQocFM8YPTCg7JZ/gRcnUroxkeRPhHAPiLWpZJm4Dt0mge150cbVxbEoN7zt9QogAJ0pwfng6xNvKsboLEIe7kuwxrDwvL6HEZVXyj01oK3Askg7Lm+aYCCanxVuSZHgFCS5roEgH0HebaGXgBheU3Zqq5S1qTwHJECLeaeilrfdkodfjPJaV5xMDc07rK+rDi7Ip1ZUqdgtHTzdECDkt3mrPZFUwVcu7w6tjeQuxxdvGpebzTtnyDvKXpydgGZkrrNcywGFlDUuxvYKoxRcSyQvPJ3yiBJuJMQAlz5vmmAiQ0+KtCrJqcTusLBgG6NK1vP0LwhoGLFPzK3b4UrS8rel1m9gsOm4TSYpo1uWwcobl8T5B0m6U5PPWxydIpiw+rGK3kuVNhJLT4q0KrepuYBgGLiunVToGI4S1PtUjVetGqfY0x/JOi3jrPFnwOm1ylcyG6ELhFSRtzmnlHX140Vyft91i/DRE5B85Ld4+QW0EFRA9p82i6/Pm/Za3UZ9sM1IFU8s2yYDPO0aqIKD6vI3cJpLWDCzg8yZhCcYnmJtt4rBStgkRSk6Lt+rzDhY9t11/QQYxbK1GPewppgp2+oSU8rzTnW2i6zZJwvL2BVnetESXPuanCrJUDEWEkNPi7ROUEzlY9JxWffHWLO8YqYLJWt68KIEX5RC/daKkO8/bGvb9ZFn253mH+bwtxh3sgi1vCljq4zU5VdCMrpfdiR2H2+hGlCI5Ld68jtvEbdd3mwR83sapgsleHOoNw5mC28Sd4VRBQdJ/GjHK85YkGbwoae13KWCpD29yebxW+XoMzPN/N9ViytOr8PHWw9keSk6T0+IdHrBU/9Yv0klvqqDaQzyVgGWBI7Cv3kpAqRKeKsgLatVppOUd7SbmC0vPpCIdfXxmByw1yzv353nh2n0AgKpDkV0rifjJbfHWfN4B0XPZOHTq5HkL8bhNUghYdqawfqVKidMWe6MUCPd5q3+HtwwwSkvzCaFz7iCfty68YG6RTq6uY9nSxeOHCz7HBn+7ZK8gYuOBFgDAvkZzWx7nGzkt3ryu5W1BJ2/gNomRbZKsZWOG26TEHbmAhJmEP1mo4u0Mt7wNinTU/cMtb2qaFEq6LO9cm+cVO+qwpaYVf/9C6f3+bfVRdPm/w8aDLdkcWs6T0+KtWiHB4hPb8jbKNuFSsLxTW78SAArtFozqXYinrx6X9DGMsFlYSHLgRsZLquUdmSoYrUjHGxZnoPJ4fXiTUwXtOWh5H2rp0lwkvYvsAIDv/Bb4nAtG4PuGDtQ2d2VreDlPdppwm4RPkOB0hPbPjubzFuJpTJVCqmB1g/II2L/UldT+gOLn/mjO5KT3j4UqJrwow8IFmnWFu00cVha8qLTQ5cJ6k2stCfzibeVYcCyTU6KSCbwmW96OHLK8D7V0YeHH2/HMZ3u014qdylNldUMHKgrtOHdkBZ5etgsbDjSjb4kzW0PNaXLa8vaJUoSl67JZ0MWL/pVxAqhCZVgezymiJUmJpzB9Vd0Et43DwB7Ji3e6CV9BXv1/RMDSIAjp40NbEgCK9Z0LopIpZFk2PdsklyzvJ5fuDBFuIPBkWt3YgcFlbozqUwgrx2DjweYsjPDYILfFm5cifMyqmHeFiQkvSeBYRFiSwWjiloT1vbuuHeMGlhgeP9uo388rKnMTCFiGZ5tET//z6fjJaXHcUARJhiybm+4ZKIbq/jdJ9Rp8fuYpqH78EhQ6LEHi3YnB5S7YLRwq+xRh0wHyeydLbou3GGiQpKJWOIbneguiBAtr/HVTqRb08GJKaYKZQG2UpD6FqL7v8MZURkFIQcfV4rAaF/XkG+pN0Wqq20T9Tbr/TbLMbcPZx/XERWN6A1DEvMsnosMroL7Ni0FlbgDACf2LsbmmhYp1kiSnxdsr6Fje/pM8PGip9FeOT7yTCVp6eDHq+pjdhQi3iRjpAgECwqx3E1ODnHayvKOizm++Wt5KBW5QywqbBR0+AQePKsFJ1bU4vGcB2r0CGjt8WRlnrpPT4u0TxAift1tbxzL0JBdEKWbebSpuEw8vae6G7oqNU+ZGFZeoAUtLbMs7OGsnViOrfMOX55a3UoEb3CxOsbwPHu0EAPQvVQKU/fzBfVXUicTo3moTA58gR7gqnDZ9twkvSrDEtLzVEuTEhcgj5J7lzUdxmzgM3CZ6laqxGlnlG+r82tNgeeeCeyrc8nbZOHT4BC0tsJ8/u0QV8RoS76TIbfEWIy3vAv9JE97TmxflmD7v1Cxv0XBx4+6A+uShfj9flIClUb8SvZRLh5WLCBDnM/sbFQvTnUKHyXBcUZ4ouyPh7kyXTQlYHmrxwMIyKC9Qcr77qeLd3JmVceY63VttYhC8KICKesG0e8ICllIcbhMuOZ+3LMuK2yTnLO9ojamipwoKkgQGCJlL9bGYUGj18ACAHm7z2h3YOBYWltFtutadECUJoiSHJBIUOCxo9wg41OJBryKHVpdR5LCiyGEht0mS5LR484IU4TYJrGMZ6TaJJd7Jtt30RsmX7m7Yw54sBEGChWVCipyA4IIQnYClKMPCsSGNs5TCqO4tKplEPR96+asKzYBhGMX9oFM93J3wiZFtmoscFrR6BBxo6sSAHqEFOf1KXeQ2icKuI8aNu3JWvGVZ1rW8C/2d+e5+Z1PI6/Fkm6jHSvTRVC0NT8eiwWaiVVgGZZvozYlRkY5e4NdptZDPOwj1fDC7J7sryipR3Qm1iCvYqCp0WNHu5bGvqTOiiK1/qZMsbx14UcKFT60y3KZ7q40BgiRDRsAXqFLoCDR3OtQSOCmUgKWx5a2ecJ3exC4QtQ9Id7e8w3360dZZNAqOCZIcMY9keYey198qwezzwRVllajuhFoAFhywLLQrN/f6Ni9Kw1xJ/UqcqGnuolxvKO7Mp5ftxN76djy/am/M7bt3VYkBWmvSsAuEYxk8P/MU3Pjqt2hs96FPsfKYJkixLe8C1V+eqHjzOSLeXKTPW8+VZLSosF7gN1o/mXxkS00LnluplIaXOM3tEum2WTI6z43tXhQ6rAk9QajnVnAFbmFQn/pzjqsI2b5/qRPtXgEtXXyKo819bn9zA5ZsOoSnl+2Ka/uctbzDu9sFo1nQQSc6Lyr+XSOSdptoPu/uPZ16qYJGbhN9y1uCNWwenTZl8YbwfjL5yPwl2wAAt543PGZqaqK4bBzavQJEScJLX3yPv63cE3unBJFlGW0eHruOtOGMxz7Fb97emND+gZbBgeuy2BW4iZ0+tEfI9mq6YLyuE16UUNfmMV3sfYKE9zfU4NW1+zL+FLD9cCsG37sESzYdCnk9VofSHLa8/YERe+QXdGoiHLCghTh83uoJ15GgC0CzvA06FnYH1CeLNv+TRVTxNkgV5EUZljBLTLWyunhR+4x8Ze3eJgDAHReNNP3YxU4r9jV2ot0uYtuhVrz94Xb86ZOdWHLrmRheUZjy8Zs6fPjRM6uxvymQurdiR31Cx9DaNAcJT6lLcZUMKnNFrBDVryRQqDMoxuUjSjJO+/0yNHfyKHVZsf6hC01ZcarDK2DM3I+1f8uyjFlnDE74OIK/luSFVXtR5LRg2ol942qZ8Y8vqrW/X/vFBLR2Cfjlwm8x54IRAKJXn+bslab6bfXuTlpzqjDLO2a2iUVpbxqeqRILVeS6u9tEjQe0+q2WaG4Ti7/Nq36FZaTlHTzfx4p4P71sJ0qcVlw/aUi2h6JRXmjH+v1H0cUqv4vqL77gT0pga8Vd52BwuTvp46/Z04D9TZ04+7ieWLlTEe0iZ2K/p2Z5B4mW2ib5mvEDI7bXCnWauzCozPjY2w+3orlTOXePdvKY9dJX6F/qwmNXjE1ojMEIooRf/PObkNcWrd2vK96CKGHFjnqcO6oipAFdXZsHz362By+vqQ7Z/p53NuPui0fiV+cMNxzDkTYPAOD/po/DGUPLwDAMqh+/BABQVVUVdb/u/ZxvgOo2CS7DVXGHuU2UFp2xLW+GYeBOIh0r4PPu3tPJsQwK7RbtkTOa5Q0o1re+zzuyUlWtas31XO8Or4CbF63HpMc/xdPLdmHef7ZhS038Xe+6fCJYBrjt/BFpGV+524amDp/2RPnoFWMxb9po7f3/bKxN6fh765VA699mnoJN8y7C9RMHa2IZL3rryg6vKMDqe8/D/0weGrF9icsKl42LK11QLX56/RenAwA+39WA17/an1LV6ei5H2PNnkYU2i3Y8rspOG1wKXYcacORVk/Eti+vqcbP//kNKh/6CIBy3Xt4EeN/vzxCuFWe+GiHlvevhyzL2HCgGdNPG4DLxvVL6Emie6uNAbzmW4vtNlGt9FgVlsrxLElY3rkRsASAIqdVO5mMVnuJ1ilQkOSI2IEWK9BZfi5X6PQJigti8yHUBK3ucv0/vo77GNsPt0KSgdF9i9IxRJQX2iHJQH27F4CSP339pCHY9fsfAABSDTkc7fShwG6Bw8qhyGFFqcuGNo+gdZ+MB5+OeAPKU4KeMDEM408XjF1lqTawGtrTjbH9irXXq5NcC7PDK2jjfe+WSSiwW3Cr/8b77+9qQraVJBmvfbUfgKIn8xZvxaiHPsIov5ADwP1TR+HrBy7A7t//ANWPX6I9ETz1yU58uadR93raeLAFzZ08RvZO3O2Vs8+4end4lfDAo7qt1RL7rua2WxLPNsmRIh1A8ZtqbhODqlNHlEWI9ax1Z5KB3u4CL0o4948rcKTViytO7geHlcPIXoV4eU01vm/o0F1RSA/V3318kLCYydDyAgCBVZtUN5iVY1HksKCpw5vS8Vs6eW3FG0CxigGg1SPEXS2qGkqJtAZQ3T+AscunudOnjeupq0/Eb9/fijV7GtHUbtyV8JU11fi/5bvw5X3nhbR1OGX+JwCAey4ehWE9lbk9c3g5AODxD7fjvFEVOK5XIXyChCufW4O99R24oLICy6rqQiztMX2L8M5NEyOu/2vGD8SSTYfwj9XV+MdqZfv7fjAKj324HUDogufjBpQYfgc9uoXlLcsy9tS3G27T4RXw/oYazQoItDONPEmcVg4sE0j58/hFJR7Lu8RpTTiSnStuE0DxYbZ2qQHL6K4ke5TFmPXyvIv8IhLrIuqOyLKMPy7dgSOtXozqXYgHplbi0cvH4rqJg/0BI2BrbWzXiSBKeOqTnRg/uIfWeMlsThxQDAvLYJN/4d5gf3RZgT3l1qotXbwm2EBAvFXRjAef/5xJpGCtf6krrmyTo508XDYOdguH4RWF+N2lYwAADQbf2yuImLt4K5o6fBj54Ef4xT+/QdWhVnyy7YhmnPz8rEBcg2EYXD9xMADgBX+u9caDzdqc333xqJDjvzDrVCy59ayohtuMCaF+flW4gcBTCsMAJw0sjfn9w+kWlvcv/vkNllXV4fqJgzHP/4MAwNKth/HExzsgyzL2N3WCF2X0LLBj4vByNLQpP1h4njcAsCyDoiARrvb7yuKxHkpcVtQ2R/q7jPDmkNuk2GlFdYMyH7wgRW1bao9ieQuiDGvYTXBk70LYOBbPrtgdEcxJBV6UcPHTq3Da4B6YOrYPTh9aZnrV4kurq/G3lXtxyqBSvP3LM0Ie7ScOU6ywL3Y34IT+JYbH+ctnu+ETJfz0jEGmji+YQocVE4b2gHej8rsUBRWk9fD7w1OhOUy8VSu8OU5jRpRkLKuqA4CEfLf9Sp1o6eLR4TN2zxzt9GmZK4BywwKUfHQ9BFHCyAc/Cnntk21H8Mm2I9q/191/foQBM+/SMaht7sKqXfWQZRkvffE9AMUqH1FRgOrHL8Elf/4cW2tbceHoXoZjnjq2D5bdcTb6ljgw8+9f4dt9R3HN+AF4/asDOKF/Mf70k3EYXlFgeIxoZF28BVHSfvCX11Rj8nHl+Pkr3+CuKSPxxEc7Iraf8eI6jB/SAwN3KPsEn2zBFDkC4v3aun2wAOhbHNsiKnbasLW2NaHvkCvZJoAyL01+S0pxm0Tzeetb3nqVqgV2C24+dzieWrYT5/zxM6y469yEBHx3XTtuf2MDerhtmHfpGAzxZ0ws2XQIe+o7sKe+A//6+gBG9ynCf359ZtzH/nDzIcx5YwM+njNZNwujyyfiryuUXOkXZ50aITg9C+2o7FOEFdvrDTMGBFHC08t2wW5hMe2EPvF+7aSYdcZgfPJv5e/g862H24YDTaF+Y0GUsLW2FcMqCuLKAmru9GFU74C/vsQvlC0xgpY3v7YeSzYdQqHdgikAKvsk5vNXn1TqOpQnwuqGDmyuacGZw8tDKjKPdvhQ6g56MnBaYWEZ1LUp4i3LcshvGHwd//26U3HDK6FZJT8+uT96FTl0x3TB6F5Yuu0IPttRhw+3HIbbxmHhzydo7y+59ay4v58qzu/cNFF77bErToh7/2hk5Dn/QIsP3+0/GvG6KMk478mVAIBfnj0MADD75W8gydCE+8VZp2rbn9Bf8SV+9b3iW3RY2ah3+GKnFe9vqMXRDh/e26BE4eNJexpS7sKhlsSKAFT3jN5TQHejwGFBfZsXe+vbIUqIsKJVHJb4A5YAcP2kwQCAA01d2u8Ti0MtXVi4dh8u+NNKbK5pwcqd9Tj3jysgyzJkWcbzq/ZieEUBPr/7XAwpdyu5zd8eiOvYvCjhpkXr4RUknPPHFbj/35sjtlm0bh8a2r1483/OiCjbVvnB8b3xVXUTNh5ojvpZ976rHPvui0eZkndsxEWje2FAqRO9w0SnzG3Tysw3H2zBK2uqMfyBD3HZM6sx5alVIUHYaLR08SEFNSWa5e3D4x9ux++XbIsoxOryiVpxSZtXwMAeLsz2nwvxoqYL1rXzqGv14Jw/rsCvX/8OJz3yCT7cfAiiJOPg0U58tqMeZe5Asy+WZdCz0I6ao1145L/bcNFTq/Dn5bvwyppqDL53CS57ZjUA4NM7z8b5lb1Q/fglWH7n2dr+t54f/YZ87kilEnT2y4rgv3jdaQl9p0yQEcvbJ8q4/Nk12P7IxWjs8IFllMT9qf/3uVYQMPvMwRhS7sI974ReZBeM7oVHLx+Lkb0LcPLAUny+qwEjexdi5/9uwyT/Y60ePQuVH/nsP3wGAJh5xqC4LqwT/YGDzQdbcOaI6McPps0jwGXjIrrzdUcmH9cT/1hdjTV7GgEAtihBXLuVRUdHZOBW0EkVBJSb5baHp2Dc7z7Bp9uP4IxhMZJ2oUTh3/zmoDIOjsX08QPwzy/3YcXOeizbdgTbDrXi0cvHYkAPFz6982z8cMEXeOmLavzk1AGGv2WHV8Djft/iBZW9sKzqCF5btx+j+xTh2gkDwTAMunwinlu5F5OGl2H8kB5RjzV9/AD8beUeXPW3L7HuvvMjRN7Di3jPn5mQqGglA8MwuO2C4yJeL7Bb0OYRMOS+D0Je71loR01zFyY9/imevfZkTB2r/2QgyzKaO/mQkn71qfb2NwJVlizL4L4fVGr/rvX3D3r8irEY2bsQY5YeSfgGpvb1PtIu4M63Qis6b1q0HtedMQivfLkPAHDSwJKQ9ysK7VgclCL5p092Rhw/uBnWsJ4F2PK7KfimuklbS1MPVT9U4jmfM01GLO8Kt3KPGPXQR5j0+Kc4838/w99W7sXehg5MHdsbu3//A1QUOnD1aQPxzk0TccXJ/QAAbn8Ww4wJA3HKoB5gGAaTj+uJXkUOnDWip6FYPvTD0ehb7ECrv6/3oLBuZtEY7X/k2xmjHaOKKMlYvv2Itl93Z9KwcnAsg/X7lCeh6HnekZa3IEqQ5Oj7uGwWVPYtwguffw+fIMXM+955RAlSz//R8fji3nO1QNHP/vE1Fq1T0rIuHdcXgCJa150xGDuOtGlZHdG48dVv8OrafRhU5sILs07BW788AwDw4Htb8NGWwwCAN77ej4Z2L247P1IIg6kodOAPV50InyBh3feNEe+v3FkPQZLx6g3j0251G3HdxME4eWAJxgSlKX5421lY9ZtztfzqXy1aj21RXIIdPhGCJEf4vNVspN5FDozqXYi/rdyL6c9/iTZ/uqlagTm8ogAnDSxNKibRs8AOu4XFpiMerN7dgOsnDg6xklXhHtW7ELeeF5pDH+wOU5/Sh/V0Y84FI7Bx7kX45sELIoyNArsF54wM7bGix/ZHLsa0E/vibf/5093IiOVdaOfwyGVj8O53NfhufzNEScZTy3Zi4rAyPHvtKSHbnjKoFCN6FWBYzwJcdWr/pD9zSLkbX9xzHn658FsM7VmAkiPxlfn2cNtQ4rLGLd6fbq/DvsZO/GaK+eXQ6cBmYTGozIV3v6vBlQhtGhTMtkOt2N/UiWueX4sttS24+tQBmO6vkDPqEfOziYMx540NOO7BD7XX/nrtyWjzCPjBWGU18S01LfjH6mpsONCMB6ZW4qenK0G+creMm84ZhsUbalHT3IXfTBkZ4qu9dFxf/O9H2zF/yTZcflI//PCEvuhdHHAfSJKM61/+Gqt3N+Ka8QMw/0djwTAMThvcA5vmXYRLF3yBP3+6G+dX9sLCdftxYv9iQ6tb5cLRveC2cfhidwMuPj7Ucv3PxlqUuqw4fWh2LbMBPVx491eTAET6fu+bWomzR/bEjBfWYeqfP8e0E/vifyYPxcAylxb01NLwnIEnC4Zh8NxPT8HRTh5XntIfda0e3LRoPdbubcLYeUtDPv/kJLIlgj/HK0hYvU9JgfzRSYrxNqxnAS7y+54B4KM5kyP2vf2C49DY7sP9Uysxum8R9j461bQnYIeVw4JrTjLlWOkgKfGWJAnz5s3Djh07YLPZMH/+fAwaZBxln3nGYMw8YzBaPTxOmLcULhuHp6eP0922yGHFzecal5TGA8syeF71mb+8Nq59GIbB2H7F2HSwBY3tXnzf0IGl245AlGTUtXlRc7QTdgsHq4XFmt0NECQZPdw2XDymd8rjzRSc/8I+d2RFSLFDMKqof7vvKHyihBe/+B4vfvE9rgQM2wz86KR+WLWzHmv3NqK2RcnauWnRegDBPdYD7S5/fErgBs2yDO65eBTuCUvHUnFYOfzusjG4882NmL+kCu+sr8GSX5+pXaz/3XwIq3bWo7zAjhvOHBIS2CxyWPHr80bgzrc2ajeW4OpEI6wciwlDy7Bmd8Dybu70YW9DB/676RBmnj4oZvVuJtF7Apg4rBxPXX0i7n57E/6zsVarxpz/o+NR5rZpv1Gv4lBf+vmVgWyKiiIH3v7lGTjzfz/TfOhlbhueuPKElAXzF2cNwQuff4/fTBmJE/sHzslnrj0Z//xyH66LksUzuNwdEkjMBdelWSQl3suWLYPP58Mbb7yBDRs24PHHH8df//rXuPYtclix8jfnoMRlCykI6E6M7VeMZ1fswSnzl2mvWVgGgj9YU16gWCfqv287f4TpHeTSye8uG4PFG2oxpTm6f/L1G09HaxeP/qUu8KKEpVuP4ObXlAu8xGWccvmnq8dpf6/Z04CVO+ux6UALvtyriB/HMnj22pNRYLckvFTYD0/oi0vG9sG762tw51sbcf6fVmJQmQudXhFfVTdhZK9CfHjbWboX8WXj+mLBp7vgsHK4oLKX9iQRD5OGl+PT7XV49IMqNHf68Na3B6E2n7sgRrpYd+Hyk/pj2gl90dThw/8t34VF6/bjwfe2aO+fPrQHJsR4EmEYBqvvPQ+SJKO2pQsVhQ5T0jcfuGQ0rhjKoLIy1GizcixuOLP79JfpTiQl3t9++y3OOktJlRk3bhy2bNkSY49QjAIF3YFrxg/EonX7ceKAEkw/bQBOHVyKcrcdH289jFMH90CZ2waGUU7kli6+296EojFxWLmSw/zy+qjbKOsLBir4LjmhD3oXT0T/9w9ETa8y/Cw/VVVVqKysNNgjNgzD4PKT+mF3fTv+tnIPvm/owIQhPXDFSf3wi8lDo1pfFo7F0tvPBscyCeeiTx3bG8+v2qM1yT9rRDmmju2DIeXumILXnbBwLCqKHPj95WNx39RKfLD5EGqOduEnpw1IqLiIZRmt4RSRHZIS7/b2dhQUBBLLOY6DIAiwWPQPJ0mSYXesZCiuVR77WuI8bqLb/+snA/x/NaPxYDMaAQy2AA0Hm9EQtm20dkAej8f0720mic6JC4DY3oTa9vj3CcfMObl0EHDprLBmR801qGqu0d8hRZ6/tC8aOgS4bSyK7CwYpgPwdmD79jrD/aLNc7JzkejvZsRYt/Jf66FqtB6KvX0sUhlbd79euhtJiXdBQQE6OgLNYCRJiircAMCybMrWVgTr1gEA+sZ73ES3NwEzrMy0ksycpDiP3X5O0kGUOUt6LrJwLsdNCmPLy3MjBqa3hD355JOxapXSQ3jDhg047jjjdCuCIAjCXJKyvC+88EKsXr0a06dPhyzLePTRR80eF0EQBGFAUuLNsiwefvhhs8dCEARBxEnu5LcRBEEQGiTeBEEQOQiJN0EQRA5C4k0QBJGDMLIsp7hsaWw2bNgAu90ee0OCIAhCw+v1Yty4cbrvZUS8CYIgCHMhtwlBEEQOQuJNEASRg5B4EwRB5CAk3gRBEDkIiTdBEEQOQuJNEASRg5B4p8C6deswcuRILFmyJOT1adOm4d57783SqLoPM2fOxJ49e7I9jG6F0Zycd9558Hq9GR5R5nnhhRdw5pln5sV3TSck3ikydOjQEPHesWMHurq6sjgigujeLF68GFOnTo0weojEIPFOkVGjRqG2thZtbW0AlBNz2rRpAICFCxdi1qxZuOqqq3DjjTfC5/PhzjvvxIoVKwAAe/bswY033pitoWeEv/zlL3j99dcBKN935syZAJSnk0ceeQQ//elPMXPmTG3+8oFoc5IPrFu3DgMHDsT06dOxaNEiAKFPI6+//joWLFgAAHjmmWdw+eWX44YbbsCMGTOwzr9KD6FA4m0CF110EZYuXQpZlrFp0yacdNJJkCQJzc3NePnll/HWW29BFEVs3rwZV111Ff79738DAN5++21ceeWVWR59dujo6MAll1yChQsXoqKiQluZiTi2eeutt3DVVVdh6NChsNls2Lhxo+5227dvx+eff463334bzzzzDOrr6zM80u5PUosxEKFMmzYN8+bNw4ABA3DqqacCUBassFqtuOOOO+ByuXD48GEIgoAJEyZg/vz5aGpqwurVq3HHHXdkefTm0tHRAZvNBqtVWXmeYaKv0j569GgAQJ8+fY5p/2cic3Is09LSglWrVqGpqQmvvvoq2tvbsXDhwpBt1G4de/bswdixY8FxHDiOw/HHH5+NIXdryPI2gQEDBqCzsxOvvvoqLr30UgBAe3s7li1bhqeffhoPPfQQJEmCLMtgGAaXXnop5s+fj0mTJmkX9LHCvffei2+//RaSJKGxsRHHHXecZjVt3bo1ZNt8EbFE5uRYZvHixfjxj3+Ml156CX//+9/x5ptvYvXq1WBZVpuPbdu2AQCGDx+OzZs3Q5Ik+Hw+7XUiAFneJjF16lS8//77GDJkCA4cOACO4+B0OjF9+nQAQM+ePVFXVwcAuOKKK3DOOefg/fffz+aQ08LPfvYzzJ8/HwAwZcoUXHLJJZgzZw6+/vprjBkzJsujyw40JwpvvfUWnnjiCe3fTqcTF110EXr37o3f/e536Nu3LyoqKgAAI0eOxNlnn42f/OQnKC0thdVqhcVCchUMdRXMAkeOHMHdd9+NV155JdtDIYhuSWNjIz766CNce+218Pl8uOSSS/DKK6+gb9++2R5at4FuZRlm6dKlWLBgAebNm5ftoRBEt6W0tBRbtmzBj3/8YzAMg6uuuoqEOwyyvAmCIHIQsryTgOd53H///aipqYHP58NNN92E4cOH49577wXDMBgxYgTmzp0LllXiwfv27cMtt9yC//znPwCA2tpa3H333ZBlGcXFxXjyySfhdDqz+ZUIgsgxKNskCRYvXoySkhK89tprePHFF/HII4/gsccew5w5c/Daa69BlmUsX74cAPDee+/h9ttvR1NTk7b/yy+/jB/84AdYtGgRRowYgbfffjtbX4UgiByFxDsJLr74Ytx2220AlLxUjuOwdetWjB8/HgAwefJkrFmzBgBQXFwckctaWVmJ1tZWAEpKIUXRCYJIFBLvJHC73SgoKEB7eztuvfVWzJkzR8vhVt9Xy73PPfdcuFyukP179+6NRYsW4ZJLLsGqVatw8cUXZ/w7EASR25B4J8mhQ4cwa9YsXHbZZZg2bZrm3waUirqioqKo+z7xxBN47LHHsGTJEjzwwAO45557MjFkgiCOIUi8k6ChoQGzZ8/Gb37zG603yejRo7XGOatWrdLK5PUoKipCYWEhAKCiokJzoRAEQcQLpQomwfz58/Hhhx9i6NCh2msPPPAA5s+fD57nMXToUMyfPx8cx2nvT5o0CatXrwYA7N69Gw8//LBWMv/AAw9ofT4IgiDigcSbIAgiByG3CUEQRA5C4k0QBJGDkHgTBEHkICTeBEEQOQiJN0EQRA5C4k3kBF6vF2+99RbeffddrW+MmYS3MCCI7g6lChI5wcGDB3HHHXfgzTffTMvxg/PwCSIXoI5IRE7w3HPPYffu3Rg1ahTmzp2LoUOH4vnnn4fVasXhw4cxffp0rF27Ftu3b8esWbMwY8YMfPXVV3jqqafAcRwGDBiAhx9+GAcPHsR9990Hi8UCSZLw5JNP4r333kNLSwvmzZuHu+66Cw888ADa2tpQV1eHGTNmYMaMGZg5cyZGjhyJXbt2weVy4dRTT8UXX3yB1tZWvPTSS1i+fDmWLVuGjo4OHD16FDfffDOmTJmS7WkjjmVkgsgBDhw4IF911VXyn//8Z/m1116T165dK0+dOlX2+Xzyd999J0+ePFn2er3y/v375UsvvVSWJEm+6KKL5IaGBlmWZfmpp56S33jjDXnhwoXy73//e9nn88lr1qyRd+zYIcuyLE+cOFGWZVnesmWL/PHHH8uyLMuHDx+WL7zwQlmWZfmnP/2p/P7778uyLMuzZ8+WFy5cKMuyLN99993yJ598Ir/zzjvy9ddfL4uiKNfX18vnnHOOzPN8RueIyC/I8iZylhEjRsBqtaKwsBADBw6EzWZDcXExvF4vmpqaUFdXhzlz5gAAPB4PJk6ciF/96ld44YUX8POf/xyFhYW4/fbbQ45ZXl6OV155BUuXLkVBQQEEQdDeUxcLLioqwvDhw7W/vV4vAOC0004Dy7IoLy9HUVERmpqatAV1CcJsSLyJnIBlWUiSFPKa2oJXj9LSUvTu3RvPPvssCgsLsXz5crhcLixfvhynnHIKbrnlFvz3v//Fiy++iMceewyyP/Tz0ksvYdy4cZgxYwbWrl2LlStXxj3GrVu3AlAal7W3t6OsrCyJb0oQ8UHiTeQEZWVl4HkeHo8nru1ZlsUDDzyAG2+8EbIsw+1244knnkBHRwfuuece/PWvf4UkSbjvvvsAAMOGDcNdd92FK6+8EvPnz8cHH3yAwsJCcBwHn88X12c2NDTguuuuQ1tbG+bOnRvSmIwgzIayTQjCBN59913s3bsXd911V7aHQuQJlOdNEASRg5DlTRAEkYOQ5U0QBJGDkHgTBEHkICTeBEEQOQiJN0EQRA5C4k0QBJGDkHgTBEHkIP8PDAZj9/AcZl4AAAAASUVORK5CYII=\n\"/>"
    }
   },
   "source": [
    "{{rolling_wih_broken_lines()}}\n"
   ]
  },
  {
   "cell_type": "markdown",
   "metadata": {
    "slideshow": {
     "slide_type": "subslide"
    }
   },
   "source": [
    "## Points to Consider\n",
    "- Many False Alarms\n",
    "- There seems to be a time trend (age of pumps)\n",
    "- An objective rule (still) needs to be developed, when to go looking after pumps.\n"
   ]
  },
  {
   "cell_type": "markdown",
   "metadata": {
    "slideshow": {
     "slide_type": "slide"
    }
   },
   "source": [
    "# ML Approach"
   ]
  },
  {
   "cell_type": "markdown",
   "metadata": {
    "slideshow": {
     "slide_type": "subslide"
    }
   },
   "source": [
    "## Predicting online\n",
    "- is it possible to predict breakdowns online?"
   ]
  },
  {
   "cell_type": "code",
   "execution_count": 37,
   "metadata": {
    "slideshow": {
     "slide_type": "skip"
    }
   },
   "outputs": [],
   "source": [
    "X = df.drop(labels=[\"machine_status\"], axis=1)\n",
    "y = broken"
   ]
  },
  {
   "cell_type": "code",
   "execution_count": 38,
   "metadata": {
    "slideshow": {
     "slide_type": "skip"
    }
   },
   "outputs": [],
   "source": [
    "X_train, X_test, y_train, y_test = train_test_split(X, y, test_size=0.25, random_state=42, stratify=y)"
   ]
  },
  {
   "cell_type": "code",
   "execution_count": 39,
   "metadata": {
    "slideshow": {
     "slide_type": "skip"
    }
   },
   "outputs": [
    {
     "data": {
      "text/plain": [
       "False    165235\n",
       "True          5\n",
       "Name: machine_status, dtype: int64"
      ]
     },
     "execution_count": 39,
     "metadata": {},
     "output_type": "execute_result"
    }
   ],
   "source": [
    "y_train.value_counts()"
   ]
  },
  {
   "cell_type": "code",
   "execution_count": 40,
   "metadata": {
    "slideshow": {
     "slide_type": "skip"
    }
   },
   "outputs": [
    {
     "data": {
      "text/plain": [
       "False    55078\n",
       "True         2\n",
       "Name: machine_status, dtype: int64"
      ]
     },
     "execution_count": 40,
     "metadata": {},
     "output_type": "execute_result"
    }
   ],
   "source": [
    "y_test.value_counts()"
   ]
  },
  {
   "cell_type": "code",
   "execution_count": 41,
   "metadata": {
    "slideshow": {
     "slide_type": "skip"
    }
   },
   "outputs": [],
   "source": [
    "reg = make_pipeline(SimpleImputer(strategy='median'),\n",
    "                        StandardScaler(),\n",
    "                        RandomOverSampler(),\n",
    "                        LogisticRegression(solver='liblinear')\n",
    "                        #RandomForestClassifier(n_jobs=-1,max_depth=5)#, max_depth = 3)\n",
    "                        )"
   ]
  },
  {
   "cell_type": "code",
   "execution_count": 42,
   "metadata": {
    "slideshow": {
     "slide_type": "skip"
    }
   },
   "outputs": [],
   "source": [
    "clf_log = reg.fit(X_train, y_train)"
   ]
  },
  {
   "cell_type": "code",
   "execution_count": 43,
   "metadata": {
    "slideshow": {
     "slide_type": "skip"
    }
   },
   "outputs": [],
   "source": [
    "y_train_pred = clf_log.predict(X_train)"
   ]
  },
  {
   "cell_type": "code",
   "execution_count": 84,
   "metadata": {
    "slideshow": {
     "slide_type": "skip"
    }
   },
   "outputs": [],
   "source": [
    "cm = confusion_matrix(y_train,y_train_pred)\n",
    "disp = ConfusionMatrixDisplay(confusion_matrix=cm)"
   ]
  },
  {
   "cell_type": "markdown",
   "metadata": {
    "slideshow": {
     "slide_type": "slide"
    }
   },
   "source": [
    "### Training \n",
    "- Simple Logistic Regression, untuned\n",
    "- split into 75 % Training (5 breakdowns), 25 % Test (2 breakdowns)"
   ]
  },
  {
   "cell_type": "markdown",
   "metadata": {
    "slideshow": {
     "slide_type": "slide"
    },
    "variables": {
     "disp.plot();": "<img src=\"data:image/png;base64,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\n\"/>"
    }
   },
   "source": [
    "{{disp.plot();}}"
   ]
  },
  {
   "cell_type": "code",
   "execution_count": 85,
   "metadata": {
    "slideshow": {
     "slide_type": "skip"
    }
   },
   "outputs": [],
   "source": [
    "y_test_pred = reg.predict(X_test)\n",
    "cm = confusion_matrix(y_test,y_test_pred)\n",
    "disp = ConfusionMatrixDisplay(confusion_matrix=cm)"
   ]
  },
  {
   "cell_type": "markdown",
   "metadata": {
    "slideshow": {
     "slide_type": "slide"
    }
   },
   "source": [
    "### Test (Unseen) Data\n",
    "- one of 2 breakdowns can get predicted"
   ]
  },
  {
   "cell_type": "markdown",
   "metadata": {
    "variables": {
     "disp.plot();": "<img src=\"data:image/png;base64,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\n\"/>"
    }
   },
   "source": [
    "{{disp.plot();}}"
   ]
  },
  {
   "cell_type": "code",
   "execution_count": 48,
   "metadata": {
    "slideshow": {
     "slide_type": "skip"
    }
   },
   "outputs": [],
   "source": [
    "param_grid = [\n",
    "    {\n",
    "     'logisticregression__penalty' : ['l1', 'l2'],\n",
    "    'logisticregression__C' : np.logspace(-4, 4, 20)\n",
    "    },\n",
    "]"
   ]
  },
  {
   "cell_type": "code",
   "execution_count": 49,
   "metadata": {
    "slideshow": {
     "slide_type": "skip"
    }
   },
   "outputs": [],
   "source": [
    "#search = RandomizedSearchCV(reg,param_distributions=param_grid,cv=5,n_jobs=-1)\n",
    "search = RandomizedSearchCV(reg,param_distributions=param_grid,cv=5)\n"
   ]
  },
  {
   "cell_type": "code",
   "execution_count": 50,
   "metadata": {
    "slideshow": {
     "slide_type": "skip"
    }
   },
   "outputs": [
    {
     "data": {
      "text/plain": [
       "RandomizedSearchCV(cv=5,\n",
       "                   estimator=Pipeline(steps=[('simpleimputer',\n",
       "                                              SimpleImputer(strategy='median')),\n",
       "                                             ('standardscaler',\n",
       "                                              StandardScaler()),\n",
       "                                             ('randomoversampler',\n",
       "                                              RandomOverSampler()),\n",
       "                                             ('logisticregression',\n",
       "                                              LogisticRegression(solver='liblinear'))]),\n",
       "                   param_distributions=[{'logisticregression__C': array([1.00000000e-04, 2.63665090e-04, 6.95192796e-04, 1.83298071e-03,\n",
       "       4.83293024e-03, 1.27427499e-02, 3.35981829e-02, 8.85866790e-02,\n",
       "       2.33572147e-01, 6.15848211e-01, 1.62377674e+00, 4.28133240e+00,\n",
       "       1.12883789e+01, 2.97635144e+01, 7.84759970e+01, 2.06913808e+02,\n",
       "       5.45559478e+02, 1.43844989e+03, 3.79269019e+03, 1.00000000e+04]),\n",
       "                                         'logisticregression__penalty': ['l1',\n",
       "                                                                         'l2']}])"
      ]
     },
     "execution_count": 50,
     "metadata": {},
     "output_type": "execute_result"
    }
   ],
   "source": [
    "search.fit( X_train, y_train)"
   ]
  },
  {
   "cell_type": "code",
   "execution_count": 51,
   "metadata": {
    "slideshow": {
     "slide_type": "skip"
    }
   },
   "outputs": [
    {
     "data": {
      "text/html": [
       "<div>\n",
       "<style scoped>\n",
       "    .dataframe tbody tr th:only-of-type {\n",
       "        vertical-align: middle;\n",
       "    }\n",
       "\n",
       "    .dataframe tbody tr th {\n",
       "        vertical-align: top;\n",
       "    }\n",
       "\n",
       "    .dataframe thead th {\n",
       "        text-align: right;\n",
       "    }\n",
       "</style>\n",
       "<table border=\"1\" class=\"dataframe\">\n",
       "  <thead>\n",
       "    <tr style=\"text-align: right;\">\n",
       "      <th></th>\n",
       "      <th>mean_fit_time</th>\n",
       "      <th>std_fit_time</th>\n",
       "      <th>mean_score_time</th>\n",
       "      <th>std_score_time</th>\n",
       "      <th>param_logisticregression__penalty</th>\n",
       "      <th>param_logisticregression__C</th>\n",
       "      <th>params</th>\n",
       "      <th>split0_test_score</th>\n",
       "      <th>split1_test_score</th>\n",
       "      <th>split2_test_score</th>\n",
       "      <th>split3_test_score</th>\n",
       "      <th>split4_test_score</th>\n",
       "      <th>mean_test_score</th>\n",
       "      <th>std_test_score</th>\n",
       "      <th>rank_test_score</th>\n",
       "    </tr>\n",
       "  </thead>\n",
       "  <tbody>\n",
       "    <tr>\n",
       "      <th>0</th>\n",
       "      <td>33.039271</td>\n",
       "      <td>17.647965</td>\n",
       "      <td>0.059981</td>\n",
       "      <td>0.013763</td>\n",
       "      <td>l1</td>\n",
       "      <td>1438.449888</td>\n",
       "      <td>{'logisticregression__penalty': 'l1', 'logisti...</td>\n",
       "      <td>0.999122</td>\n",
       "      <td>0.999425</td>\n",
       "      <td>0.999122</td>\n",
       "      <td>0.999607</td>\n",
       "      <td>0.999092</td>\n",
       "      <td>0.999274</td>\n",
       "      <td>0.000206</td>\n",
       "      <td>6</td>\n",
       "    </tr>\n",
       "    <tr>\n",
       "      <th>1</th>\n",
       "      <td>5.929118</td>\n",
       "      <td>0.769477</td>\n",
       "      <td>0.061202</td>\n",
       "      <td>0.004167</td>\n",
       "      <td>l1</td>\n",
       "      <td>0.000695</td>\n",
       "      <td>{'logisticregression__penalty': 'l1', 'logisti...</td>\n",
       "      <td>0.987896</td>\n",
       "      <td>0.986020</td>\n",
       "      <td>0.990953</td>\n",
       "      <td>0.987564</td>\n",
       "      <td>0.985415</td>\n",
       "      <td>0.987570</td>\n",
       "      <td>0.001928</td>\n",
       "      <td>9</td>\n",
       "    </tr>\n",
       "    <tr>\n",
       "      <th>2</th>\n",
       "      <td>46.932197</td>\n",
       "      <td>25.594007</td>\n",
       "      <td>0.061991</td>\n",
       "      <td>0.013901</td>\n",
       "      <td>l1</td>\n",
       "      <td>206.913808</td>\n",
       "      <td>{'logisticregression__penalty': 'l1', 'logisti...</td>\n",
       "      <td>0.999122</td>\n",
       "      <td>0.999455</td>\n",
       "      <td>0.999183</td>\n",
       "      <td>0.999697</td>\n",
       "      <td>0.999183</td>\n",
       "      <td>0.999328</td>\n",
       "      <td>0.000218</td>\n",
       "      <td>3</td>\n",
       "    </tr>\n",
       "    <tr>\n",
       "      <th>3</th>\n",
       "      <td>11.588191</td>\n",
       "      <td>0.765082</td>\n",
       "      <td>0.059775</td>\n",
       "      <td>0.005876</td>\n",
       "      <td>l2</td>\n",
       "      <td>0.233572</td>\n",
       "      <td>{'logisticregression__penalty': 'l2', 'logisti...</td>\n",
       "      <td>0.998608</td>\n",
       "      <td>0.998669</td>\n",
       "      <td>0.998638</td>\n",
       "      <td>0.999062</td>\n",
       "      <td>0.998215</td>\n",
       "      <td>0.998638</td>\n",
       "      <td>0.000269</td>\n",
       "      <td>8</td>\n",
       "    </tr>\n",
       "    <tr>\n",
       "      <th>4</th>\n",
       "      <td>50.057605</td>\n",
       "      <td>24.247951</td>\n",
       "      <td>0.057788</td>\n",
       "      <td>0.003476</td>\n",
       "      <td>l1</td>\n",
       "      <td>11.288379</td>\n",
       "      <td>{'logisticregression__penalty': 'l1', 'logisti...</td>\n",
       "      <td>0.999304</td>\n",
       "      <td>0.999395</td>\n",
       "      <td>0.999153</td>\n",
       "      <td>0.999728</td>\n",
       "      <td>0.999062</td>\n",
       "      <td>0.999328</td>\n",
       "      <td>0.000231</td>\n",
       "      <td>3</td>\n",
       "    </tr>\n",
       "    <tr>\n",
       "      <th>5</th>\n",
       "      <td>11.022065</td>\n",
       "      <td>0.899013</td>\n",
       "      <td>0.046428</td>\n",
       "      <td>0.002148</td>\n",
       "      <td>l2</td>\n",
       "      <td>1.623777</td>\n",
       "      <td>{'logisticregression__penalty': 'l2', 'logisti...</td>\n",
       "      <td>0.999122</td>\n",
       "      <td>0.999244</td>\n",
       "      <td>0.999062</td>\n",
       "      <td>0.999486</td>\n",
       "      <td>0.999122</td>\n",
       "      <td>0.999207</td>\n",
       "      <td>0.000151</td>\n",
       "      <td>7</td>\n",
       "    </tr>\n",
       "    <tr>\n",
       "      <th>6</th>\n",
       "      <td>11.340703</td>\n",
       "      <td>1.052548</td>\n",
       "      <td>0.050220</td>\n",
       "      <td>0.005629</td>\n",
       "      <td>l2</td>\n",
       "      <td>4.281332</td>\n",
       "      <td>{'logisticregression__penalty': 'l2', 'logisti...</td>\n",
       "      <td>0.999304</td>\n",
       "      <td>0.999213</td>\n",
       "      <td>0.999062</td>\n",
       "      <td>0.999728</td>\n",
       "      <td>0.999365</td>\n",
       "      <td>0.999334</td>\n",
       "      <td>0.000222</td>\n",
       "      <td>2</td>\n",
       "    </tr>\n",
       "    <tr>\n",
       "      <th>7</th>\n",
       "      <td>35.964523</td>\n",
       "      <td>20.251261</td>\n",
       "      <td>0.074794</td>\n",
       "      <td>0.034928</td>\n",
       "      <td>l1</td>\n",
       "      <td>78.475997</td>\n",
       "      <td>{'logisticregression__penalty': 'l1', 'logisti...</td>\n",
       "      <td>0.999092</td>\n",
       "      <td>0.999425</td>\n",
       "      <td>0.999153</td>\n",
       "      <td>0.999728</td>\n",
       "      <td>0.999122</td>\n",
       "      <td>0.999304</td>\n",
       "      <td>0.000243</td>\n",
       "      <td>5</td>\n",
       "    </tr>\n",
       "    <tr>\n",
       "      <th>8</th>\n",
       "      <td>14.944248</td>\n",
       "      <td>2.017061</td>\n",
       "      <td>0.052619</td>\n",
       "      <td>0.008202</td>\n",
       "      <td>l2</td>\n",
       "      <td>11.288379</td>\n",
       "      <td>{'logisticregression__penalty': 'l2', 'logisti...</td>\n",
       "      <td>0.999334</td>\n",
       "      <td>0.999334</td>\n",
       "      <td>0.999153</td>\n",
       "      <td>0.999637</td>\n",
       "      <td>0.999486</td>\n",
       "      <td>0.999389</td>\n",
       "      <td>0.000163</td>\n",
       "      <td>1</td>\n",
       "    </tr>\n",
       "    <tr>\n",
       "      <th>9</th>\n",
       "      <td>3.953371</td>\n",
       "      <td>0.643618</td>\n",
       "      <td>0.048794</td>\n",
       "      <td>0.003190</td>\n",
       "      <td>l1</td>\n",
       "      <td>0.000264</td>\n",
       "      <td>{'logisticregression__penalty': 'l1', 'logisti...</td>\n",
       "      <td>0.973191</td>\n",
       "      <td>0.974855</td>\n",
       "      <td>0.984749</td>\n",
       "      <td>0.982238</td>\n",
       "      <td>0.967683</td>\n",
       "      <td>0.976543</td>\n",
       "      <td>0.006203</td>\n",
       "      <td>10</td>\n",
       "    </tr>\n",
       "  </tbody>\n",
       "</table>\n",
       "</div>"
      ],
      "text/plain": [
       "   mean_fit_time  std_fit_time  mean_score_time  std_score_time  \\\n",
       "0      33.039271     17.647965         0.059981        0.013763   \n",
       "1       5.929118      0.769477         0.061202        0.004167   \n",
       "2      46.932197     25.594007         0.061991        0.013901   \n",
       "3      11.588191      0.765082         0.059775        0.005876   \n",
       "4      50.057605     24.247951         0.057788        0.003476   \n",
       "5      11.022065      0.899013         0.046428        0.002148   \n",
       "6      11.340703      1.052548         0.050220        0.005629   \n",
       "7      35.964523     20.251261         0.074794        0.034928   \n",
       "8      14.944248      2.017061         0.052619        0.008202   \n",
       "9       3.953371      0.643618         0.048794        0.003190   \n",
       "\n",
       "  param_logisticregression__penalty param_logisticregression__C  \\\n",
       "0                                l1                 1438.449888   \n",
       "1                                l1                    0.000695   \n",
       "2                                l1                  206.913808   \n",
       "3                                l2                    0.233572   \n",
       "4                                l1                   11.288379   \n",
       "5                                l2                    1.623777   \n",
       "6                                l2                    4.281332   \n",
       "7                                l1                   78.475997   \n",
       "8                                l2                   11.288379   \n",
       "9                                l1                    0.000264   \n",
       "\n",
       "                                              params  split0_test_score  \\\n",
       "0  {'logisticregression__penalty': 'l1', 'logisti...           0.999122   \n",
       "1  {'logisticregression__penalty': 'l1', 'logisti...           0.987896   \n",
       "2  {'logisticregression__penalty': 'l1', 'logisti...           0.999122   \n",
       "3  {'logisticregression__penalty': 'l2', 'logisti...           0.998608   \n",
       "4  {'logisticregression__penalty': 'l1', 'logisti...           0.999304   \n",
       "5  {'logisticregression__penalty': 'l2', 'logisti...           0.999122   \n",
       "6  {'logisticregression__penalty': 'l2', 'logisti...           0.999304   \n",
       "7  {'logisticregression__penalty': 'l1', 'logisti...           0.999092   \n",
       "8  {'logisticregression__penalty': 'l2', 'logisti...           0.999334   \n",
       "9  {'logisticregression__penalty': 'l1', 'logisti...           0.973191   \n",
       "\n",
       "   split1_test_score  split2_test_score  split3_test_score  split4_test_score  \\\n",
       "0           0.999425           0.999122           0.999607           0.999092   \n",
       "1           0.986020           0.990953           0.987564           0.985415   \n",
       "2           0.999455           0.999183           0.999697           0.999183   \n",
       "3           0.998669           0.998638           0.999062           0.998215   \n",
       "4           0.999395           0.999153           0.999728           0.999062   \n",
       "5           0.999244           0.999062           0.999486           0.999122   \n",
       "6           0.999213           0.999062           0.999728           0.999365   \n",
       "7           0.999425           0.999153           0.999728           0.999122   \n",
       "8           0.999334           0.999153           0.999637           0.999486   \n",
       "9           0.974855           0.984749           0.982238           0.967683   \n",
       "\n",
       "   mean_test_score  std_test_score  rank_test_score  \n",
       "0         0.999274        0.000206                6  \n",
       "1         0.987570        0.001928                9  \n",
       "2         0.999328        0.000218                3  \n",
       "3         0.998638        0.000269                8  \n",
       "4         0.999328        0.000231                3  \n",
       "5         0.999207        0.000151                7  \n",
       "6         0.999334        0.000222                2  \n",
       "7         0.999304        0.000243                5  \n",
       "8         0.999389        0.000163                1  \n",
       "9         0.976543        0.006203               10  "
      ]
     },
     "execution_count": 51,
     "metadata": {},
     "output_type": "execute_result"
    }
   ],
   "source": [
    "pd.DataFrame(search.cv_results_)"
   ]
  },
  {
   "cell_type": "code",
   "execution_count": 52,
   "metadata": {
    "slideshow": {
     "slide_type": "skip"
    }
   },
   "outputs": [],
   "source": [
    "best_log = search.best_estimator_"
   ]
  },
  {
   "cell_type": "code",
   "execution_count": 88,
   "metadata": {
    "slideshow": {
     "slide_type": "skip"
    }
   },
   "outputs": [],
   "source": [
    "y_test_pred_log = best_log.predict(X_test)\n",
    "cm = confusion_matrix(y_test,y_test_pred_log)\n",
    "disp = ConfusionMatrixDisplay(confusion_matrix=cm)"
   ]
  },
  {
   "cell_type": "markdown",
   "metadata": {
    "slideshow": {
     "slide_type": "skip"
    },
    "variables": {
     "disp.plot();": "<img src=\"data:image/png;base64,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\n\"/>"
    }
   },
   "source": [
    "{{disp.plot();}} "
   ]
  },
  {
   "cell_type": "code",
   "execution_count": 54,
   "metadata": {
    "slideshow": {
     "slide_type": "skip"
    }
   },
   "outputs": [],
   "source": [
    "search_f1w = RandomizedSearchCV(reg,param_distributions=param_grid,cv=5, scoring=\"f1_weighted\")"
   ]
  },
  {
   "cell_type": "code",
   "execution_count": 55,
   "metadata": {
    "slideshow": {
     "slide_type": "skip"
    }
   },
   "outputs": [
    {
     "data": {
      "text/plain": [
       "RandomizedSearchCV(cv=5,\n",
       "                   estimator=Pipeline(steps=[('simpleimputer',\n",
       "                                              SimpleImputer(strategy='median')),\n",
       "                                             ('standardscaler',\n",
       "                                              StandardScaler()),\n",
       "                                             ('randomoversampler',\n",
       "                                              RandomOverSampler()),\n",
       "                                             ('logisticregression',\n",
       "                                              LogisticRegression(solver='liblinear'))]),\n",
       "                   param_distributions=[{'logisticregression__C': array([1.00000000e-04, 2.63665090e-04, 6.95192796e-04, 1.83298071e-03,\n",
       "       4.83293024e-03, 1.27427499e-02, 3.35981829e-02, 8.85866790e-02,\n",
       "       2.33572147e-01, 6.15848211e-01, 1.62377674e+00, 4.28133240e+00,\n",
       "       1.12883789e+01, 2.97635144e+01, 7.84759970e+01, 2.06913808e+02,\n",
       "       5.45559478e+02, 1.43844989e+03, 3.79269019e+03, 1.00000000e+04]),\n",
       "                                         'logisticregression__penalty': ['l1',\n",
       "                                                                         'l2']}],\n",
       "                   scoring='f1_weighted')"
      ]
     },
     "execution_count": 55,
     "metadata": {},
     "output_type": "execute_result"
    }
   ],
   "source": [
    "search_f1w.fit(X_train,y_train)"
   ]
  },
  {
   "cell_type": "code",
   "execution_count": 56,
   "metadata": {
    "slideshow": {
     "slide_type": "skip"
    }
   },
   "outputs": [],
   "source": [
    "best_log_f1w = search_f1w.best_estimator_"
   ]
  },
  {
   "cell_type": "code",
   "execution_count": null,
   "metadata": {
    "slideshow": {
     "slide_type": "skip"
    }
   },
   "outputs": [],
   "source": [
    "y_test_pred_log_f1w = best_log.predict(X_test)\n",
    "cm = confusion_matrix(y_test,y_test_pred_log_f1w)\n",
    "disp = ConfusionMatrixDisplay(confusion_matrix=cm)"
   ]
  },
  {
   "cell_type": "markdown",
   "metadata": {
    "slideshow": {
     "slide_type": "skip"
    },
    "variables": {
     "disp.plot();": "<img src=\"data:image/png;base64,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\n\"/>"
    }
   },
   "source": [
    "{{disp.plot();}}"
   ]
  },
  {
   "cell_type": "code",
   "execution_count": 58,
   "metadata": {
    "slideshow": {
     "slide_type": "skip"
    }
   },
   "outputs": [],
   "source": [
    "risk = pd.DataFrame(data=reg.predict_proba(df_sensor),index=df.index)"
   ]
  },
  {
   "cell_type": "code",
   "execution_count": 59,
   "metadata": {
    "slideshow": {
     "slide_type": "skip"
    }
   },
   "outputs": [],
   "source": [
    "days_warning = 2\n",
    "lag = days_warning*24*60\n",
    "X_test_lag = X_test.shift(lag).iloc[lag:,:]\n",
    "X_train_lag = X_train.shift(lag).iloc[lag:,:]\n",
    "y_test_lag = y_test.astype('int').shift(lag).dropna()\n",
    "y_train_lag = y_train.astype('int').shift(lag).dropna()"
   ]
  },
  {
   "cell_type": "code",
   "execution_count": 60,
   "metadata": {
    "slideshow": {
     "slide_type": "skip"
    }
   },
   "outputs": [],
   "source": [
    "clf_log_lag = reg.fit(X_train_lag, y_train_lag)"
   ]
  },
  {
   "cell_type": "code",
   "execution_count": 61,
   "metadata": {
    "slideshow": {
     "slide_type": "skip"
    }
   },
   "outputs": [],
   "source": [
    "risk_lag = pd.DataFrame(data=clf_log_lag.predict_proba(df_sensor),index=df.index)"
   ]
  },
  {
   "cell_type": "markdown",
   "metadata": {
    "slideshow": {
     "slide_type": "slide"
    }
   },
   "source": [
    "## Early Warning Indicator\n",
    "- Give maintenance staff an early indicator of 2d.\n",
    "- Point forecasts of breakdowns failed so far.\n",
    "- Probabilities of breakdown, however, serve as early warning indicator."
   ]
  },
  {
   "cell_type": "markdown",
   "metadata": {
    "slideshow": {
     "slide_type": "subslide"
    },
    "variables": {
     "plot_sensor(risk_lag.shift(-lag).loc[:,1]);": "<img src=\"data:image/png;base64,iVBORw0KGgoAAAANSUhEUgAAAXIAAAEPCAYAAABfmE8WAAAAOXRFWHRTb2Z0d2FyZQBNYXRwbG90bGliIHZlcnNpb24zLjQuMiwgaHR0cHM6Ly9tYXRwbG90bGliLm9yZy8rg+JYAAAACXBIWXMAAAsTAAALEwEAmpwYAAAwjUlEQVR4nO3de3wTdb438E+SNi3QC2ihUKUCJcXo6iLr2XNeuqgHD+rCg+uKXA5ad1d9PHtcj6uiiPKssMgCh31ceXS97HoBD3jhogLKrmLxUoWlIMjVQGML5RJ6o6Vt0iZpOvP8kSZN0qS5TmYm+bz/gCZz+85vfvOd3/wyF40oiiKIiEi1tHIHQERE8WEiJyJSOSZyIiKVYyInIlI5JnIiIpVjIiciUrmMZC9w3759GDBggLQLaWoCRBEYPBjQagGdLrJxfYWbLk4OhwNZWVmSzT9m0ZRd4DQXXBBzmSm2PKQSpN45nU7o9frQ0/S3PZqa3P8XFCQuxkSII660qxNhOBwOjB8/PuiwpCdyjUYDo9Eo7UJWrwbsduDWW4G8PCAnJ7JxfYWbLk4mk0n6cohFNGUXOM1dd8VcZootD6kEqXdmsxmGoqLQ0/S3PVavdv8/cWLCQkyIOOJKuzoRhslkCjmMXStERCrHRE5EpHJM5EREKsdETkSkckzkREQqF1EiP3DgAMrKyvp8/9lnn2H69OmYNWsW1q9fn/DgiIgovLCXH7766qvYsmVLn2u/u7q6sGzZMmzcuBEDBgzAv//7v2PSpEkoUNp1rEREKS5si7y4uBgvvPBCn++rq6tRXFyM/Px86PV6/OhHP8KePXskCTLQnz6twjmrw/t5ZXkVjjfZIIoiTGfb+p1225E67K1tkTrElLZ+zyns/L5J7jBUo7HdgTW7ahM2vyOWVvy1ojph80uk/7PpENrtXXHNQxRFVNW3Jyii9BC2RX7zzTfj9OnTfb63Wq3Izc31fh40aBCsVmvYBQqC4L2wfeXORlw/ahCuKhoYTcx4fnsNdJ3ncZPBvfyV5TWw1DXimuKBePhvFuzMs0DncqHNbIZm8GB0+dwtd/+aGgzPycCq6cUAgHxL77i+AqdLNLvd3u8F/nLxLY9QZTDvvRoU52fiL7eN9Jumvbo65jJTankkwrpDLVi9rwVX53d4vwtW7+wOB8wB9dCXZ3v8saIBXxy3YuJQp9/8tDodWmQuw7W7TuIHeV344YgBMce1/2wnntx2Fh/MKkrZOpFoMd/ZmZOTA5vN5v1ss9n8EnsoWq3We7fWJ2/WIGtgLubcGO3dWzUYUTQCRuNI7+cLCy5E0chhACwoKioC7HYUGgxB7oargV6v771jrLKyd1xf6Xpnp295hCyDGmRlZfUtw5IS3tkZxNC67wG0+K9fkHpnNpthCKyHvnq2R/4BOwBr3/kBGC57Gdag+JJiGEt6ulhjiKtO0wDgLLKzs1O2TsRCkjs7S0pKUFtbi/Pnz8PpdOKbb77BVVddFevsiIgoRlG3yD/88EN0dHRg1qxZmD9/Pu69916Ioojp06ejsLBQihiJiKgfESXyiy++2Ht54bRp07zfT5o0CZMmTZImMkopNocLNocLw/Ky5Q6FKOXwhiBKikfX78ePl26XOwxZCIIodwiU4pjIKSmarM7wI6WoI5b+L4kNVNNix6jnv5UomuT5y5fVONXcEX5EihsTOZHCnGpT1kHP6nDB3tUd9XTL/n4UXxxrkCAiCpRSiVyjkTsCor5EqLtr5cd/KMdv3tqXvAVyP45aSiVyIkq8Dmc3jjfZwo/ooe7jlioxkRMRqRwTORGRyqVMIme3GhGlq5RJ5NHgj6LAqPlb4XBFfyUCUTTYXZ4caZnIE2nLAQsOnj4vdxgxsTuFpC0rnY+dIrMZSYyJPE4PvfMtfrf5iNxhEKWMdD7oxyqlEjkrACnFPav34FgdX45AyZFSiZxIKT472oAvq9x3NbJnhaSmukS+5h8n5A6BiEhRVJfI2R9NlHzRnFXwDCT5VJfIiUg9eMVOcjCRE0ksVZPZtydbMGr+VrnDIDCREyVBYjO5Uq7O+vlLOyWZr4Z37EUtZRK5RhP7HZvdImBzxnGXY6o2uRKI+yaRdFImkcfjwyMNuPyVg3KHQSnK6nDJHQIp3N7aFuw72RLz9BG9fFlKcrRlAxuHjTYHkCNDICrGFnbk0vk1dxSZ6S/vhFYD1CybGtP0bJETSUxk1xtJjImciEjlmMiJJBbtVRjstaJoMZETSSzdEnO8PUnpVl6JwERORGGxn1/ZUiyRy3MsZxUnOR063Sp3CJQA8eSRFEvkFA0xjqoTbQNNwxNmSZxt7cS0P38tdxgkMyZyIhXrFng+SCmUyNniI6VK55un4jnro8ilTCKn2Dzz0Xf47bvfyh1GSmMjg6QWNpELgoCnn34as2bNQllZGWpra/2Gv/HGG7j99tsxffp0fPrpp5IFStLY8M0pbN5vkTsMIq90PoOJVdhnrZSXl8PpdGLdunXYv38/li9fjpdffhkA0NbWhv/5n//Btm3b0NnZidtuuw2TJ0+WPOh48TGZJCV7l/+TNNm9QJGI5wrPsC3yvXv3YuLEiQCA8ePH4/Dhw95hAwYMQFFRETo7O9HZ2ckESQRg2d9McodAaSZsi9xqtSInp/fRgDqdDi6XCxkZ7klHjBiBqVOnoru7G//xH/8RdoGCIMBk6q3oba2tfp8jddZyFiaT1fu5qakJtbUdAACLxQKdy4U2sxmawYPRpdf7Tet0Or3LzLdY4HS4n05nNpu94wSbLpTOzs6o18Fut8e03olUVVUFQRAAwK88+is7D4fD0Wea9urqkON3dHT4LSeQEsojUY6fbQIA1Nc3wGRywuFwAPBfd99y9rA7HDCbzTjT6H7srW99BHrrZGtbm3d+9dYuAO46r9Xp0CJRGfruM4ECv689WYsLXY0AAHunHXX19VHFddLiriupVCciFev6hk3kOTk5sNls3s+CIHiTeEVFBRoaGrB9+3YAwL333osJEybgyiuvDDk/rVYLo9HY86kGefn5Pp8jUQMAGFE0AkbjSO93BQUFGDVqGAALioqKALsdhQYDkJcH5OT4Ta/X63uXWVkJvdm9fgaDoXe0PtOFjic7e0CU6+DeYNFOk1g1KC0thVZ7BoDgVx6hy6532qysrL7TlJSELLOBX54HYA+5zvKXR+LkfdsJwIbCwmEwGkuQ9XEDgC7/9fMt5x5msxkGgwFn9W3AN9X+9RHwbo/8A3YAVhiNRuS2dAA45a7zAIZLUoYB+4zP9wACvq9BcXExjIahAGqQlZ2N4YWFUcXVlNEIoA7Z2dkpUyfCC1aW/vpL8mG7ViZMmICKigoAwP79+1FaWuodlp+fj+zsbOj1emRlZSE3NxdtPa0FIj9p3OtWVW8NP5LCsZdf2cK2yCdPnowdO3Zg9uzZEEURS5cuxapVq1BcXIwbb7wRO3fuxMyZM6HVajFhwgRce+21yYibiIh6hE3kWq0Wixcv9vuupKTE+/dDDz2Ehx56KPGREVFa4nX30eMNQUQq43t1GK8UI4CJnIhI9VImkWs0af17GhGlsZRJ5BS/xR9+h9MtHXKHQURRYiJPgFS5BfuNHcfxzYkWucMgoijJnshjfoVUwGR8E5Wysdsrcvz9kqIleyKXA/cTt3gOfkw2JBXWreilZSInIkolTOREFBa7LpWNiZyISOVSKpHzLjciZWFLPjlSKpFT8qTCE/1SAZsuBDCRJwRbHUQUj3g7E1ImkbNXhSg1cFeOnmIS+b6TLfjOwpdSpCoeaImko5hEfvtLOzHntV1yh0FEcWJXY/IpJpETEVFsUiqR8+ydiNJRSiXyiDHjE5GCxJuS0jORE1FUUuVRzamKiTwB+OMOUQLxjDlq6ZnImXiJKIWkZyInUjHfBiuvzycgzRL5iSab3CGkLQ3Pl3HyHN+HStJIq0R+w//9Qu4QFIU9TMnlEgS5Q6AUlTKJXAOeZhIpARsI0Yv3Edwpk8iJ5PT5sQY8v90sdxiUppjIiRLgz599jz99WiV3GCmBv6dEj4k8AXgqSURyYiInUjHejEaAAhK5LPWQZ25EScHjTHLInshJPjyeUaTY8pdWvPtiRrgRBEHAokWLcOzYMej1eixZsgSXXHKJd/iXX36JF198EaIo4vLLL8fChQv5Nnvqg1WCSDphW+Tl5eVwOp1Yt24d5s6di+XLl3uHWa1W/PGPf8Qrr7yCDRs24KKLLkJLS4ukAfeHv3aTkknRqOUBkoAIEvnevXsxceJEAMD48eNx+PBh77Bvv/0WpaWl+O///m/MmTMHBQUFuOCCC6SLlogUT4yzH4YHp+iF7VqxWq3IycnxftbpdHC5XMjIyEBLSwsqKyuxadMmDBw4EHfeeSfGjx+P0aNHh5yfIAgwmUzez+1tbd7P3d3dfsP6Yzlrgclk9X5ubGrC8ROd7mEWC3QuF9rMZmgGD0aXXu83rdPh9C4n32KB0+EEAJjNvTd0BJsuFIfdHnHcHvYYpkm0qqoqCD23jXtisdpsqG/oDll2vnzLUOdyob26OuT4NpvNb5pASiiPeHR2uJ+jsmj9Tnx32r2u9fUNMJmc3nFqqqvhbHKXT75PHfWwOxwwm8040+QC4F8fgd462draCsBdlo0297gWiwVanQ4tEpVhV1dXyO0T+P2pU6dgEs4BcG/Xuvr6qOKqrev0TqvmOhENz8Ev1vUNm8hzcnK8OyHgTsQZGe7JBg8ejCuuuAJDhw4FAFx99dUwmUz9JnKtVguj0djzqQa5eXk9n2ug0+l8hoVSAwAoGlEEo3Gk97uhQ4di9KhCAGdQVFQE2O0oNBiAvDzAeyByT6vP0vcup7ISerN7/QwGQ+9i/KbrP56s7OwI4vZnMpminiaxalBaWgqt9gwAwbsNcgYNQuGwC4OUnf+0APzKEHY7CktKQpbZoK9bAdhDrrP85RGfAV+0AHBg9b7ersXCwmEwGkvgKa/RY0owdlhP+XjKzKfOmc1mGAwG1GW1AXuq/esj4N0e+QcdAKwwGo0Y3NoJ4KS7zgMYLkkZ1iAzMzPI9gmoBz3fjRw5EsZxwwDUIDs7G8MLC6OKqzXrHICzyI5hv1IrjeY4IIr9rm9/ST5s18qECRNQUVEBANi/fz9KS0u9wy6//HJUVVWhubkZLpcLBw4cwNixY6OJPyXEeypJ6SL96gn3jcjE250UtkU+efJk7NixA7Nnz4Yoili6dClWrVqF4uJi3HjjjZg7dy7uu+8+AMAtt9zil+iJiEh6YRO5VqvF4sWL/b4rKSnx/j116lRMnTo18ZERpRg2TlPbiSYbRhUMkmXZKXVDEH/tVq5U3jaj5m9FLV8akdaO1bXL+r6DlErkFD/2acamyeqQO4SUocZjvr2rW9blM5ETJYmaD5E8vitbWiZyNR7xpcB9k0gZ4r0rPS0TOZGqaXz/VF6zhA2E5GMiJ0oSdk+QVJjIiYjiJPdVWSmTyJV3gknkT2SnQ0pwdQv49Zq9cofhJ2USOVGqSPdGidLfZ2BzdOPjI3Vyh+FHUYmcfYipS4k/yhEpRpy7h6ISOVEqY0OFpMJETkSS4cErOZjIiZKESS11yd11qIpEXlHViG0K+3HBF3dQigSvWiGpKCqRt3Z2Bf3+12v34v6Ay30CdwruIkSUDEo8IMufyBNYJpFetaT0y5uIIpWKVTkV1ymceFdZ/kROlCbYBUdSYSInIsnw2JUcqkjkaXimlXLS8XQ5HEHkizxShdz1WxWJPBLME4nBtJI88z46hvePNssdBkVJ7ksNg0mZRE6kRjUtfEWc2vCqFVIUntYnF4ubpKKKRK70ywWVeIQmUitl7+3SiDfFqSKRR0qJfVdERFJLqUROpGTBztzUci4XVTecGPIDSUQViZztbCKi0FSRyIlSQaJ+7PTtQmQjhwAmcqKkYSdDalDi1UdpmcjZiiGlUGJSoOidOd8Z1/TxXqihjkTOzEtpROmX20pN6asfLL6V5ebkB+JDHYk8AnJufLaqKBJS3IDFqkdABIlcEAQ8/fTTmDVrFsrKylBbWxt0nPvuuw/vvPOOJEFGSulHciIiKYRN5OXl5XA6nVi3bh3mzp2L5cuX9xln5cqVaGtrkyRAIiLqX9hEvnfvXkycOBEAMH78eBw+fNhv+McffwyNRuMdRwpsaFMqCNYNwsc7qI8Su1Izwo1gtVqRk5Pj/azT6eByuZCRkYGqqip89NFHeP755/Hiiy9GtEBBEGAymbyf29ra/D77/u07TeCws2fPwmSyeT83NTbheE0HAMBisUDncqHNbIZm8GB06fV+83M4HN555VsscDqcAACzufcHi2DTheI7v0jZ7faop0m0KrO5T9l22DpQ39AQsux8+ZahzuVCe3V1yPFtNpvfNIGUUB6JVl/fAJPJ6f184sQJDLC5XyKeb7EAAFpaWmA2u+ut3eGA2WzG6SYXAP/6CPTWydbW8wDcZXmuwz2uxWKBVqdDi0Rl2OXqCrl9Ar8/eeoUTOI5AIDd7kBdfX1UcZ1osPdMq8w60WbvBuC/3g67vc930RDFvjkuGmETeU5OjncnBNxJNSPDPdmmTZtQX1+PX/ziFzhz5gwyMzNx0UUX4brrrgs5P61WC6PR2POpBnl5eT2fawDAZ5jvNCcBCH7jjRgxAkZjsXc+BUMLMHrMcABnUFRUBNjtKDQYgLw8wHsgck+blZXVu5zKSujN7vUzGAy9C/Wbrj81fvNrtjmx3VSPGVeP7Hcqk8kUdF2TpwalBgO02jPwLduBgwaicFhBkLLznxaAXxnCbkdhSUnIMsv5RzuAzpDrLH95xKMm6LeFhcNgNJZ4h19yySgYLxniHlhZCaARQ4YMgcFwEQB34jYYDGjIbgf2fO9fHwHv9sg/5ARghdFoRH2bHcBJd50HMFySMqxBRkZmkO0TbJ+twciRF8N4aSGAGmRnZ2F4YWFUcXUMbAZgQXZ2tiLrRIvNCaDWL7bsbU0AnDHHq9XWAujud/r+knzYRD5hwgR8/vnnmDJlCvbv34/S0lLvsHnz5nn/fuGFF1BQUNBvEk8H7+w+iT9+cixsIieiUNiZGq2wiXzy5MnYsWMHZs+eDVEUsXTpUqxatQrFxcW48cYbkxFj2l9XSxQK9wwCIkjkWq0Wixcv9vuupKSkz3j/9V//lbioYiRXvlfgbx+kSOp9+mGslPjDYCqS/YYg/movH5Y8UWqQPZFHItEtbSlb7nx9GlH6iTenxJuSVJHII6GUtwMxj1MorBupy3RW3hsiUyaREyld0DzO5J4SBJm3IxM5EZHKqSKRK6PTJDJsYAWnpm0olcLcbLlDSIp4u5B4tXH0VJHIiVLBAL1O7hAoRaVUIlfCD578QYtSEet1LymKIt6bHlMqkUcq0ZWSlxxSrFKp5vxh63dyhyC7xzccQGtnV9KXq4pErqZb9HmDE0nNb3dQ0K7x6lfH5Q5BMh8esGDexgNhx9uw9zSOWFqTEJE/VSRyIpLfvpMtcocgm7cqa7H+m9NyhxESEzkRReT2l3aiq1uQOwzZKegkyEsViVyJBRcKu8uJesWyO6hpf1cKVSTyRJP0WSvSzTrhuMPIT20H/mDxWs53Jj+QJPNdb0muWolz+pRJ5BoNbyRQMm6b4Bo7kn+FQ6Jds/wzuUNQFDkug06ZRE6kRpuOKfMHxLOtnfjiWENM06rtLCMVqCKRK701x3pLkVDTpalLtprwy1V7+nyvpnVIJ6pI5KrC5ghRylH6Xs1EnmBK3+DhqD1+koanJc52ijIxkacx7pMktVgSv5ru5A5GjvBVksjVvWGJpCLVFRLc40KT5NlKcRa4ShK5evDUk4iSLaUSuRJaEfxVnyi1KbHrRxWJXIHlRlHiJlSXUMmKZ5zhyVHXVZHIFY+Vm4hkJHsij/UIr9SWgVLjIqI4KHy/lj2Ry0EJr4QjUqPofwOKPgMqfe+U4qqVtHholtI3rC+FH7iJIqKmfY5UksiJSBnYdRieHFe1pFQiV8LVLazolIrSvV4r/bLilErkRJQY4RpF9q7u5ARCEVFFIldCS5vio8SbKJIuQY0635JMdrF6VuHHfyhP7oKpXxnhRhAEAYsWLcKxY8eg1+uxZMkSXHLJJd7hq1evxtatWwEA119/PR588EHpoiUiP3J1ebTZXSGHNbQ7khhJckh9pVu8DZ2wLfLy8nI4nU6sW7cOc+fOxfLly73DTp06hS1btuDdd9/F+vXr8fXXX+Po0aNxBaRGot/fyu5LI+VT8rlLJJfePfXBIZ/xo1+GEk/eotmvFfn0w71792LixIkAgPHjx+Pw4cPeYcOHD8drr70GnU4HjUYDl8uFrKyshAW3ce9piKKoruu+mccpBahojyNE0LVitVqRk5Pj/azT6eByuZCRkYHMzExccMEFEEURK1aswGWXXYbRo0f3Oz9BEGAymbyf29rb/T77/v3YhhpcrD2PLldXn2Fnz56FyWTzfm5sbER1dQcAwGKxQOdyoc1shmbwYHTp9X4xOBx277zyLRY4HU4AgNls9o4TbLpQnE6nd37nzp3rE2swdrs97DhSM1eZIQgCgN54O2wdqG9oCFl2vnzLUOdyob26OuT4VqvVb5pASiiPRKuvb4DJ5PR+NpvNODfQvcvlWyx+3wOA3eGA2WzG6XMuv+89PNvjfOt5AO6ybOl0j2uxWKDV6dASUIaiKEIQAZ02utTc2tbmXQYAuFzu5Rw7VoVB+r7tv++++87vs2c6p9OJuvr6PnH153iTu2tGSXWio6MTgHu9ztu7vX8Hc+JELXI666Oaf3d3//MMJ2wiz8nJgc3WmzAFQUBGRu9kDocDTz31FAYNGoSFCxeGXaBWq4XRaOz5VIO83NyezzUA4DPMPdxgMCAzox5At994I0aMgNFY7B1v6NChKCkZDuA0ioqKALsdhQYDkJcHeA9E7mmzsrJ7l1NZCb3ZvX4Gg6F30X7T9acGer3eO78Lj5sAtAasR18mkynsONKqgaHUAK32DADBW7YDBw1E4bCCIGXnPy0AvzKE3Y7CkpKQZZZTaQXQEXKd5S+PeNQE/bawcBiMxhLvcIPBgGF52e6BlZUAGr3fA+7EbTAY0JjdDuB7//oIeLfH4MNOAFYYjUY0tjsAnHTXeQDDA8rw+e1m/OnTKpxYPjWqNco/YPcuA6jp2ee7UTquFHnZmX3W2T3e8YDP7n1jeGFhn7j603X6PIAzyM7OVkydOPJmb50/Z3UAqO2TqzxGjboExlEXRDV/ne4UevfD4PpL8mG7ViZMmICKigoAwP79+1FaWuodJooiHnjgAYwbNw6LFy+GTqeLIvTE0vj8Kyc19awE679M9+uFU83RuraYpuNVRrGTo+TCtsgnT56MHTt2YPbs2RBFEUuXLsWqVatQXFwMQRCwe/duOJ1OfPXVVwCARx99FFdddVXCAhSR+B8PpKyjkrw9hEghWL2lEW9OCpvItVotFi9e7PddSUmJ9+9Dhw4FTpLWWNEpHXUL6VPxlbimir8hSG2JsbrRKncIisQTdXkk64qvA6dbg34fy+6rqqvUFELxiVwNfLtTXGnUMqHUFZhKRZ8/6tvsQaZgvZeT4hO5CJHHZ6IQ5PhN8nxHV5/v1HbmnGoUn8iJSPnSKY8HO3aOyM9Oehy+lJ/I06mGECVarC32KKdL9xZ5/oDMuKZPjzcERXD+uPdkiyKf0aBEG745JXcIaSlVcl2w/SydLrtV4poqPpFHWmjmel4tEqnHNx6UOwRSqVAPj1Jicksnik/kRBS72HtWopsykQ1ytZ9ZK/Lph3JL5hnbqOe/RXNn6OcsRyKNzjApDYkicNNzFX2/Z5tcVrIn8kQlvkQdBW3O6F9h5VmFrm4BNbwhKCi1t7Kof8EuSaTkkT2Rh5PsI308S3tz5wlYWoPdLEEkvzPnOyWb958/+16yeacDyd8QJDc1dVVYHfF1yxAlmm+CuHb5ZxG/NDlUXgm1Owpq2lEl4J+Ik3/6qfhEHimNJjHFl+b1kSiocPtFOiXyYKsqd8+h4hN5pI+xPdUs3WkjkZLU+7zcONoEEm++DXW9eOinH6ZPgpeT4hN5ssVT7dKoUUIyqqhqjHjcJN3YiXR6VpwSf7hXfCJP9h1jvIyKUlms9bvJ6uh3eDK6Vo7WtUFIpyNGFBSfyNVEiUfq/vCgRdEKVWOS8WKJW1Z+hc+ONki+nHjxhqAgurrFpBZMLA0LdqmQWkhVV0+3JOc3Krsr+vs81CDlH5oV6eVSpHQqO11JEZE2gk63dODxDQfCTsdGS4irVmSu3opP5OEKyNOHfu3YCxOyPNZTSkefH2vEhr2n5Q4jLKUeSJjIw9BqNP0+wMezYXVabdx3RxFJSQlJKFQIUu05iV5nBRShIik+kYerYJ5fyxNVEaOpeB8fPpugpRJJI9L9QhvQCArVeErGD+Rqb4/JEb7yE3m4rpUIx5PCr9fuS/5CieIQ6nJetSTPdHqBRTQUn8hDHd/e2+fuz/Ns12jqoVRdMKxjpAT7T53Hc59WRTVNxHsE67hXIg8q8aYkxSdyjSb4Su450QKg91RPzv7xk80dGDV/q2zLp/QVrN6/8fVx/L/t5qDjqzEPn2ruQGN7/zckJVOwBB7tizgSTbGJXIyw7zuWFnkky41FrMcSe1c3znc4Y14upZdw9UzrMzzSBk6fPnIFdbVMXPE5yl6vBCDNWW9lzTnc+OwXEY//0cH+fxuTo1Gp4EQe3XhKqnjReuK9gxi/+FO5w5CUmreP0oQrysCkHMxTHxzyv0cjwu0jV4veE6sUP7b+o+YcqhttEY/fosBGl3ITeYTj9T7jITEnN3JU1DNJuisuFqIosttIYcK1+LTavsMDt+HblSdxqrmjd56JCU0yuiDrlLB5R9nKcAV5HMGhM62JCicmyk3kPQlap+0/QSf6YT1yPP1QDa1VPqxIOfqrLqPmb4W5vt37+YNvz/gN962jvls08OCQ7Ds7JzzzKdZ/c8q9bJ819LTEM3VayZYf7MDXn2Q8VyZayk3kPf+Ha2d7xmu3852BUurmJTmqceB09K3DSFOZVNeRN9uc2H/qfJ/vL/3dxwCADJ07QimqYbStfWkSeYq+6s17o0+468gF9//BTndiEU9FiXVSuX/xjkS8lTddjwO+reNEiesMzrdF7vN3pPOUcjvqdaHTkU4rXaqKumulW+h3uCJvCBIEAU8//TRmzZqFsrIy1NbW+g1fv349br/9dsycOROff/55QoKqa7XjYE+rwn35YT+36PfUzGg3Rijx7SSx9q3EscwkiacLq7WjC+Wm+gRGox7v7D6V8Hkm6sDvu01D1fvAvnUpj8dZGaHTUaaUfeRRztvZ3X8pfHEs8hd/JErYRF5eXg6n04l169Zh7ty5WL58uXdYY2Mj1qxZg3fffRevv/46/vSnP8HpjP8X3bkb9mPGK/8A4J/Ej9X1bd14GoqJOmCHa9lPevYLPB/iGt3dJ5r7fPfu7pN46Yv+3zCerDxu7+ru84LoNrv78w9/vw1A6GNRPC3yHy7e5v27vs0u2Y+nVocrbGtJzU40d7q7ECNuPffdZqG6Rvpe6RLiFn0Jm+SZOi1aO4J3kXq6VqT4PSnqRO5y17Ez54NfpPBceXQ3YyVCRrgR9u7di4kTJwIAxo8fj8OHD3uHHTx4EFdddRX0ej30ej2Ki4tx9OhRXHnllREH0BjkzSO+p1g7zE043uS+NKgz4JG2NocL7+w+CQAYpM/AOVtsNw34PuL4fVMzjAUD4HQJcHR2ITcrw+/HkJpGGz472oCrLxnSZz67avom8oVbjsDhEvDADWNjii2RHttwAJ8cqev9wmefbO1070CCKEAQAY0oAqLoTfyC4N6J+8vnoihCFNypwrPDB47uedPM0bo2DMvNhiiKyMrU9Ru3q1uAVqPxbgdPHKLoWZa7dfmDhZ/g3p+Mxu/+12U43mTD6IJBYcskFHtXN7J74vIsTxBFCKIIUQQcXQI0WiAvO7Pf+QQmnnNWB/acaMEtvusniMgIkky6BRFdggiXIKKjS8ANr3+LKy7K9yaSQC7B/3t7V/DxPAdlzzb/1ardmGQsBAB0dQtwugRYQiSprWGuofZosfVt0HnKsa2zCwdOn8d1hqHo7OqGraeOabUa/HDxNvxbTyy+PPvWwdOtuH3CxRHFEKlofux0uHrv+VhZbkansxsPTgq+b3vWt1vorTfdnjokuP+22l043dIBz57icHW7c49LQEFOVsRxacQwh9gFCxbgpptuwvXXXw8AuOGGG1BeXo6MjAxs3rwZVVVVePzxxwEA8+bNw2233YZrrrkm5PzWf7oLT37u3ijBWnk6rSbi1l92pjZoZZ15uBwQgfeu/LeetdT0WZ7nKDz94KcQRGDjFf/mNw+9TuM9hfKMG02rNHCawKO+KIres41Q4yRaJPHfcagcQN/y8NBo+vatTj/oP40neWngPqOKZLm+qx44dqjnP2vQ83RMjbu7wdnTGveNMZYy9cTrOx+txr0sbc+CPclUq4ntfZUzD5f3qXfannXynLlr4O5SyNRpYAtSz333lXDbzVfgNgycp16n7dNoilU0cQUKVbaJ3k88ZdjfbD1xZOo06ArTteLLW2+0Gu/fup46q9VqcD7gDCRTp4FGo4HTJeDE8ql+w0wmE4xGY9DlhG2R5+TkwGbrvVheEARkZGQEHWaz2ZCbm9vv/EouyMTmO0f5fefZKX03mqdQAzekCEDXs4F1Pi00zzAAyP+gADpXN+65bhA0gwejS6/3W5ZvJR48yD3ufdcPggbuYVoNoB0yBM7MzD7LD9y5PTF6Kl3g/EUEP0m12+3Izs4OMiS5fJOBRtNbdvddPwi6wYPhyspCtyB618tT5p4WBgAM2VQAXXc3fv2zi/3K2sOzfTzl5FsmnkQfWB6+LVnfm748B4dgwp0xRCvc8gIPUJ7RQh14PN+L6CkzVzf+9/WDvN/bHQ5kZ/W2wrSBvw/l58PZU76ByxiyqQA6nQ6/nDbaL3bP8jTo3T+0Go3f9vMsS0RvF4unLD1x+x6cxYD/A3nOkgBgcE9c99w62rsuwZ5Y2i32Hsg8xepbJ4LliGTTaHrLx1N+nnLxlKknRt9xw/Hd/3zL32QyRRxb2EQ+YcIEfP7555gyZQr279+P0tJS77Arr7wSK1euhMPhgNPpRHV1td/wYLRaLX5w+WURBxiT3bsBux0jxpUCeXlATk7ocff0jBsYd7jp4tTf0VVWu33KI9Iy6ClDlJTEXGaKLQ+pBKl3ZrMZBoMh9DT9bY89uwEAw6Xet6LVE9eIy6KPK+3qRBj9JfawiXzy5MnYsWMHZs+eDVEUsXTpUqxatQrFxcW48cYbUVZWhjlz5kAURTzyyCPIyoq8X4eIiOIXNpFrtVosXrzY77uSkhLv3zNnzsTMmTMTHxkREUVEsTcEERFRZJjIiYhUjomciEjlmMiJiFSOiZyISOXC3tmZaPv37+clikREUXI4HBg/fnzQYUlP5ERElFjsWiEiUjkmciIilWMiJyJSOSZyIiKVYyInIlI5JnIiIpWTNJG/+uqr+MlPfgKHI7ZXsKlVZWUlxo0bh61b/d9NOW3aNMyfP1+mqJSjrKwM1dXVcoehCP2VxaRJk9Ji30nXPJFIkibyLVu2YMqUKX0SWjoYM2aM33ofO3YMnZ3B34NIlM7SOU8kimSJvLKyEsXFxZg9ezbeeustAO7Wx9NPP42ysjLcddddaGxsRGVlJWbMmIE5c+Zg06ZNUoWTdJdeeiksFgva29sBuCvrtGnTAABr167F3XffjRkzZuD++++H0+nE3Llz8cUXXwAAqqurcf/998sVelL8+c9/xjvvvAPAvb5lZWUA3GctzzzzDO666y6UlZV5yy+VhSqLdBAqT3jOUt555x288MILAIAXX3wRP//5z3Hvvfdizpw5qKyslC1upZEskW/YsAEzZszAmDFjoNfrceDAAQDuV8etWbMGP/3pT/GXv/wFgPvW07fffhu33XabVOHI4qabbsK2bdsgiiIOHjyIq666CoIg4Pz581i9ejU2bNiA7u5uHDp0CDNmzMAHH3wAANi4cSPuuOMOmaOXh81mw9SpU7F27VoMGzYMFRUVcodEEgqVJwIdPXoUX331FTZu3IgXX3wRjY2NSY5U2cK+ISgWra2tqKioQHNzM9asWQOr1Yq1a9cCAP7lX/4FgDuhf/bZZwCA0aNHSxGG7KZNm4ZFixZh5MiRuPrqqwG437iUmZmJRx99FAMHDkRdXR1cLhf++Z//GUuWLEFzczN27NiBRx99VOboE8tms0Gv1yMzMxNA6BcaA8BlPe93HDFiREr2m0ZTFqmsvzzh4XmCSHV1Na644grodDrodDr84Ac/kCNkxZKkRb5lyxZMnz4db7zxBl5//XWsX78eO3bsQHNzMw4fPgwA2LdvH8aOHesOQpuaF8+MHDkSHR0dWLNmDW699VYAgNVqRXl5OVauXInf/e53EAQBoihCo9Hg1ltvxZIlS3Dttdd6d/JUMX/+fOzduxeCIODcuXMoLS31tqqOHDniN26qJ7ZoyiKVhcoTWq3WWx7fffcdAGDs2LE4dOgQBEGA0+n0fk9ukrTIN2zYgBUrVng/DxgwADfddBM2btyIDz74AKtXr8aAAQOwYsUKVFVVSRGCYkyZMgWbN2/G6NGjcerUKeh0OgwYMACzZ88GAAwdOhQNDQ0AgNtvvx033HADNm/eLGfIkvjVr36FJUuWAABuvvlmTJ06FQ8//DD27NmDyy+/XObokotl4RYqTwwfPhy///3vUVRUhGHDhgEAxo0bh+uvvx4zZ87EkCFDkJmZiYwMSdKXKiX16YdlZWVYtGiR38ubqVd9fT3mzZuHN998U+5QiBTl3Llz+Pjjj3HnnXfC6XRi6tSpePPNN1FUVCR3aIrAQ5pCbNu2DS+88AIWLVokdyhEijNkyBAcPnwY06dPh0ajwYwZM5jEffB55EREKpeQFnlXVxeeeuopnDlzBk6nE//5n/+JsWPHYv78+dBoNDAYDFi4cKH3R83a2lo8+OCD+PDDDwEAFosF8+bNgyiKyM/Px7PPPosBAwYkIjQiopSXkMtFtmzZgsGDB+Ptt9/Ga6+9hmeeeQbLli3Dww8/jLfffhuiKGL79u0AgE2bNuGRRx5Bc3Ozd/rVq1fjpz/9Kd566y0YDAZs3LgxEWEREaWFhCTyW265Bb/97W8BuK/71Ol0OHLkCH784x8DAK677jrs3LkTAJCfn9/nWlGj0Yi2tjYA7svz+Gs0EVHkEpLIBw0ahJycHFitVjz00EN4+OGHvddGe4Z7brX+13/9VwwcONBv+uHDh+Ott97C1KlTUVFRgVtuuSURYRERpYWE3Ylz9uxZ3H333fjZz36GadOm+d3kY7PZkJeXF3LaFStWYNmyZdi6dSsWLFiAJ554IlFhERGlvIQk8qamJtxzzz14/PHHvc8Iueyyy7wPtamoqPDeoh5MXl4ecnNzAQDDhg3zdrMQEVF4Cbn8cMmSJfj73/+OMWPGeL9bsGABlixZgq6uLowZMwZLliyBTqfzDr/22muxY8cOAMD333+PxYsXe29XX7Bggfd5G0RE1D9eR05EpHKp+bQqIqI0wkRORKRyTORERCrHRE5EpHJM5EREKsdETqricDiwYcMGvP/++97n9yRS4OMjiNSAlx+Sqpw+fRqPPvoo1q9fL8n8fe9vIFILPp2KVOWVV17B999/j0svvRQLFy7EmDFj8Ne//hWZmZmoq6vD7NmzsWvXLhw9ehR333035syZg927d+O5556DTqfDyJEjsXjxYpw+fRpPPvkkMjIyIAgCnn32WWzatAmtra1YtGgRHnvsMSxYsADt7e1oaGjAnDlzMGfOHJSVlWHcuHEwm80YOHAgrr76anz99ddoa2vDG2+8ge3bt6O8vBw2mw0tLS34zW9+g5tvvlnuYqNUJxKpyKlTp8QZM2aIzz//vPj222+Lu3btEqdMmSI6nU7x22+/Fa+77jrR4XCIJ0+eFG+99VZREATxpptuEpuamkRRFMXnnntOXLdunbh27VrxD3/4g+h0OsWdO3eKx44dE0VRFK+55hpRFEXx8OHD4ieffCKKoijW1dWJkydPFkVRFO+66y5x8+bNoiiK4j333COuXbtWFEVRnDdvnvjpp5+K7733nvjLX/5S7O7uFhsbG8UbbrhB7OrqSmoZUfphi5xUz2AwIDMzE7m5uSguLoZer0d+fj4cDgeam5vR0NCAhx9+GABgt9txzTXX4IEHHsCrr76K++67D7m5uXjkkUf85llQUIA333wT27ZtQ05ODlwul3eY5wXJeXl5GDt2rPdvh8MBAPinf/onaLVaFBQUIC8vD83Nzd6XCBNJgYmcVEWr1UIQBL/vPI9LDmbIkCEYPnw4XnrpJeTm5mL79u0YOHAgtm/fjh/96Ed48MEH8dFHH+G1117DsmXLIPb8ZPTGG29g/PjxmDNnDnbt2oUvv/wy4hiPHDkCwP0wOavVigsvvDCGNSWKHBM5qcqFF16Irq4u2O32iMbXarVYsGAB7r//foiiiEGDBmHFihWw2Wx44okn8PLLL0MQBDz55JMAgJKSEjz22GO44447sGTJEvztb39Dbm4udDodnE5nRMtsamrCL37xC7S3t2PhwoV+D4sjkgKvWiFKoPfffx81NTV47LHH5A6F0givIyciUjm2yImIVI4tciIilWMiJyJSOSZyIiKVYyInIlI5JnIiIpVjIiciUrn/Dxv6ltzdvzb8AAAAAElFTkSuQmCC\n\"/>"
    }
   },
   "source": [
    "{{plot_sensor(risk_lag.shift(-lag).loc[:,1]);}}"
   ]
  },
  {
   "cell_type": "code",
   "execution_count": 63,
   "metadata": {
    "slideshow": {
     "slide_type": "skip"
    }
   },
   "outputs": [],
   "source": [
    "search_f1w_lag = RandomizedSearchCV(reg,param_distributions=param_grid,cv=5, scoring=\"f1_weighted\")"
   ]
  },
  {
   "cell_type": "code",
   "execution_count": 64,
   "metadata": {
    "slideshow": {
     "slide_type": "skip"
    }
   },
   "outputs": [
    {
     "data": {
      "text/plain": [
       "RandomizedSearchCV(cv=5,\n",
       "                   estimator=Pipeline(steps=[('simpleimputer',\n",
       "                                              SimpleImputer(strategy='median')),\n",
       "                                             ('standardscaler',\n",
       "                                              StandardScaler()),\n",
       "                                             ('randomoversampler',\n",
       "                                              RandomOverSampler()),\n",
       "                                             ('logisticregression',\n",
       "                                              LogisticRegression(solver='liblinear'))]),\n",
       "                   param_distributions=[{'logisticregression__C': array([1.00000000e-04, 2.63665090e-04, 6.95192796e-04, 1.83298071e-03,\n",
       "       4.83293024e-03, 1.27427499e-02, 3.35981829e-02, 8.85866790e-02,\n",
       "       2.33572147e-01, 6.15848211e-01, 1.62377674e+00, 4.28133240e+00,\n",
       "       1.12883789e+01, 2.97635144e+01, 7.84759970e+01, 2.06913808e+02,\n",
       "       5.45559478e+02, 1.43844989e+03, 3.79269019e+03, 1.00000000e+04]),\n",
       "                                         'logisticregression__penalty': ['l1',\n",
       "                                                                         'l2']}],\n",
       "                   scoring='f1_weighted')"
      ]
     },
     "execution_count": 64,
     "metadata": {},
     "output_type": "execute_result"
    }
   ],
   "source": [
    "search_f1w_lag.fit(X_train_lag, y_train_lag)"
   ]
  },
  {
   "cell_type": "markdown",
   "metadata": {
    "slideshow": {
     "slide_type": "slide"
    }
   },
   "source": [
    "# Next Steps\n",
    "- Use different ML-Models, including LSTM.\n",
    "- Fine-tune models\n",
    "- Use early-warning indicator and/or deviation-indicator in models.\n",
    "- Use PCA to shrink number of regressors"
   ]
  },
  {
   "cell_type": "markdown",
   "metadata": {
    "slideshow": {
     "slide_type": "slide"
    }
   },
   "source": [
    "**THANK YOU!**"
   ]
  }
 ],
 "metadata": {
  "celltoolbar": "Slideshow",
  "hide_input": false,
  "kernelspec": {
   "display_name": "env",
   "language": "python",
   "name": "env"
  },
  "language_info": {
   "codemirror_mode": {
    "name": "ipython",
    "version": 3
   },
   "file_extension": ".py",
   "mimetype": "text/x-python",
   "name": "python",
   "nbconvert_exporter": "python",
   "pygments_lexer": "ipython3",
   "version": "3.8.5"
  },
  "toc": {
   "base_numbering": 1,
   "nav_menu": {},
   "number_sections": true,
   "sideBar": true,
   "skip_h1_title": false,
   "title_cell": "Table of Contents",
   "title_sidebar": "Contents",
   "toc_cell": false,
   "toc_position": {
    "height": "calc(100% - 180px)",
    "left": "10px",
    "top": "150px",
    "width": "165px"
   },
   "toc_section_display": true,
   "toc_window_display": false
  },
  "varInspector": {
   "cols": {
    "lenName": 16,
    "lenType": 16,
    "lenVar": 40
   },
   "kernels_config": {
    "python": {
     "delete_cmd_postfix": "",
     "delete_cmd_prefix": "del ",
     "library": "var_list.py",
     "varRefreshCmd": "print(var_dic_list())"
    },
    "r": {
     "delete_cmd_postfix": ") ",
     "delete_cmd_prefix": "rm(",
     "library": "var_list.r",
     "varRefreshCmd": "cat(var_dic_list()) "
    }
   },
   "types_to_exclude": [
    "module",
    "function",
    "builtin_function_or_method",
    "instance",
    "_Feature"
   ],
   "window_display": false
  }
 },
 "nbformat": 4,
 "nbformat_minor": 2
}
